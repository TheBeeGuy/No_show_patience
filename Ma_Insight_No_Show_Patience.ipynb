{
 "cells": [
  {
   "cell_type": "markdown",
   "metadata": {},
   "source": [
    "# Predicting no-show patients at a Dental Practice"
   ]
  },
  {
   "cell_type": "markdown",
   "metadata": {},
   "source": [
    "## Introduction\n",
    "\n",
    "### Goal\n",
    "To document steps used to create a machine learning algorithm that predicts patient attendance.\n",
    "\n",
    "### Steps\n",
    "\n",
    "1) Feature Engineering\n",
    "\n",
    "2) Building ML model\n",
    "\n",
    "3) Hyperparameter Tuning\n",
    "\n",
    "4) Visualizing model output\n",
    "\n",
    "\n",
    "\n"
   ]
  },
  {
   "cell_type": "markdown",
   "metadata": {},
   "source": [
    "## 1) Automatic Feature Creation using featuretools"
   ]
  },
  {
   "cell_type": "code",
   "execution_count": 1,
   "metadata": {},
   "outputs": [],
   "source": [
    "import featuretools as ft\n",
    "import featuretools.variable_types as vtypes\n",
    "import pandas as pd\n",
    "import os\n",
    "import multiprocess as mp\n",
    "import pickle\n",
    "\n",
    "# Load the model from disk\n",
    "weather = pickle.load(open('data/weather2018.pkl', 'rb'))\n",
    "weather = pd.DataFrame(weather)\n",
    "\n",
    "#read current working directory\n",
    "##assume running notebook from No_show_patience directory\n",
    "cwd = os.getcwd()\n",
    "\n",
    "\n",
    "#import and load data\n",
    "full_dataset = pd.read_pickle(cwd + \"/data/preFT2018_deid.pkl\")\n",
    "#use below code at experimentation stage to build new features on a small dataset.\n",
    "#full_dataset = full_dataset.iloc[:5,:]\n",
    "\n",
    "full_dataset.AppointmentDate = (pd.to_datetime(full_dataset.AppointmentDate) + \n",
    "                                (pd.Timedelta(days = 1) - pd.Timedelta(seconds = 1)) * (full_dataset.noshow))\n",
    "\n",
    "\n",
    "\n"
   ]
  },
  {
   "cell_type": "code",
   "execution_count": 4,
   "metadata": {},
   "outputs": [],
   "source": [
    "keep = ['PatientId', 'AppointmentDate', 'newbie',\n",
    "                  'insuranceDummy', 'guarantorIsPatient', 'loyalty', 'noshow',\n",
    "                  'PatientEmail', 'GuarantorEmail', 'PatientPhone1', \n",
    "                  'patientEmailDomain', 'guarantorEmailDomain', 'patientPhone1AreaCode',\n",
    "                  'insurance','provider', 'source','procedure', 'weekday', 'apptType', \n",
    "                  \"newpatientfile\", \"Age_npf\", \"Patient\", 'AppointmentId']\n",
    "full_dataset=full_dataset[keep]\n",
    "full_dataset.iloc[0:9,:].to_csv(cwd + \"/data/head.csv\")\n",
    "full_dataset.sample(n = 20).to_csv(cwd + \"/data/random20.csv\")\n"
   ]
  },
  {
   "cell_type": "code",
   "execution_count": 5,
   "metadata": {},
   "outputs": [],
   "source": [
    "\n",
    "# x = full_dataset['AppointmentDate'].dt.round('60min')\n",
    "# full_dataset['datetime'] = pd.to_datetime(x)\n",
    "# weather['datetime'] = pd.to_datetime(weather['time'],unit='s').dt.round('60min')\n",
    "# full_dataset = full_dataset.merge(weather,on='datetime', how=\"left\")"
   ]
  },
  {
   "cell_type": "code",
   "execution_count": 7,
   "metadata": {},
   "outputs": [
    {
     "data": {
      "text/plain": [
       "Entityset: Appointments\n",
       "  Entities:\n",
       "    appointments [Rows: 5471, Columns: 17]\n",
       "    patients [Rows: 2020, Columns: 8]\n",
       "    patientemails [Rows: 1, Columns: 2]\n",
       "    guarantoremails [Rows: 1, Columns: 2]\n",
       "    patientPhones [Rows: 8, Columns: 2]\n",
       "    insurances [Rows: 9, Columns: 2]\n",
       "    providers [Rows: 4, Columns: 2]\n",
       "    sources [Rows: 6, Columns: 2]\n",
       "    procedures [Rows: 21, Columns: 2]\n",
       "    weekdays [Rows: 5, Columns: 2]\n",
       "    apptTypes [Rows: 3, Columns: 2]\n",
       "  Relationships:\n",
       "    appointments.PatientId -> patients.PatientId\n",
       "    appointments.patientEmailDomain -> patientemails.patientEmailDomain\n",
       "    appointments.guarantorEmailDomain -> guarantoremails.guarantorEmailDomain\n",
       "    appointments.patientPhone1AreaCode -> patientPhones.patientPhone1AreaCode\n",
       "    appointments.insurance -> insurances.insurance\n",
       "    appointments.provider -> providers.provider\n",
       "    appointments.source -> sources.source\n",
       "    appointments.procedure -> procedures.procedure\n",
       "    appointments.weekday -> weekdays.weekday\n",
       "    appointments.apptType -> apptTypes.apptType"
      ]
     },
     "execution_count": 7,
     "metadata": {},
     "output_type": "execute_result"
    }
   ],
   "source": [
    "variable_types = {'PatientId':vtypes.Numeric, 'newbie':vtypes.Boolean,'insuranceDummy':vtypes.Boolean, \n",
    "                  'guarantorIsPatient':vtypes.Boolean, 'loyalty':vtypes.Numeric, 'noshow':vtypes.Boolean, \n",
    "                  'PatientEmail':vtypes.EmailAddress,'GuarantorEmail':vtypes.EmailAddress,\n",
    "                  'PatientPhone1':vtypes.PhoneNumber, 'patientEmailDomain':vtypes.Categorical,\n",
    "                  'guarantorEmailDomain':vtypes.Categorical, 'patientPhone1AreaCode':vtypes.Categorical, \n",
    "                  'insurance':vtypes.Categorical, 'provider':vtypes.Categorical, \n",
    "                  'source':vtypes.Categorical, 'procedure':vtypes.Categorical,\n",
    "                  'weekday':vtypes.Categorical, 'apptType':vtypes.Categorical,\n",
    "                  \"newpatientfile\":vtypes.Ordinal, \"Age_npf\":vtypes.Numeric, \"Patient\":vtypes.Text#,\n",
    "#                   'summary':vtypes.Text, 'icon':vtypes.Text, 'precipIntensity':vtypes.Numeric, \n",
    "#                   'temperature':vtypes.Numeric,'apparentTemperature':vtypes.Numeric, 'dewPoint':vtypes.Numeric,\n",
    "#                   'humidity':vtypes.Numeric, 'pressure':vtypes.Numeric, 'windSpeed':vtypes.Numeric,\n",
    "#                   'windGust':vtypes.Numeric, 'windBearing':vtypes.Numeric, 'cloudCover':vtypes.Numeric,\n",
    "                 }\n",
    "variable_list = (['PatientId', 'AppointmentDate', 'newbie',\n",
    "                  'insuranceDummy', 'guarantorIsPatient', 'loyalty', 'noshow',\n",
    "                  'PatientEmail', 'GuarantorEmail', 'PatientPhone1', \n",
    "                  'patientEmailDomain', 'guarantorEmailDomain', 'patientPhone1AreaCode',\n",
    "                  'insurance','provider', 'source','procedure', 'weekday', 'apptType', \n",
    "                  \"newpatientfile\", \"Age_npf\", \"Patient\", 'AppointmentId'#,\n",
    "#                   'summary', 'icon',\n",
    "#                   'precipIntensity', 'temperature',\n",
    "#                   'apparentTemperature', 'dewPoint', 'humidity', 'pressure', 'windSpeed',\n",
    "#                   'windGust', 'windBearing', 'cloudCover'\n",
    "                 ])\n",
    "\n",
    "# Make an entity named 'appointments' which stores dataset metadata with the dataframe\n",
    "es = ft.EntitySet('Appointments')\n",
    "es = es.entity_from_dataframe(entity_id=\"appointments\",\n",
    "                              dataframe=full_dataset[variable_list],\n",
    "                              index='AppointmentId',\n",
    "                              time_index='AppointmentDate',\n",
    "                              variable_types=variable_types)\n",
    "es['appointments']\n",
    "\n",
    "# Make patients, weekdays, emails and insurances entities\n",
    "\n",
    "es.normalize_entity(base_entity_id='appointments', new_entity_id='patients', index='PatientId', \n",
    "                    additional_variables = ['Patient', 'PatientEmail', 'GuarantorEmail', 'PatientPhone1',\n",
    "                                            'newpatientfile', 'Age_npf'], make_time_index=True)\n",
    "# 'PatientEmail', 'GuarantorEmail', 'PatientPhone1'\n",
    "es.normalize_entity('appointments', 'patientemails', 'patientEmailDomain', make_time_index=True)\n",
    "es.normalize_entity('appointments', 'guarantoremails', 'guarantorEmailDomain', make_time_index=True)\n",
    "es.normalize_entity('appointments', 'patientPhones', 'patientPhone1AreaCode',make_time_index=True)\n",
    "es.normalize_entity('appointments', 'insurances', 'insurance',make_time_index=True)\n",
    "es.normalize_entity('appointments', 'providers', 'provider', make_time_index=True)\n",
    "es.normalize_entity('appointments', 'sources', 'source', make_time_index=True)\n",
    "es.normalize_entity('appointments', 'procedures', 'procedure', make_time_index=True)\n",
    "es.normalize_entity('appointments', 'weekdays', 'weekday', make_time_index=True)\n",
    "es.normalize_entity('appointments', 'apptTypes', 'apptType',make_time_index=True)\n"
   ]
  },
  {
   "cell_type": "code",
   "execution_count": 8,
   "metadata": {},
   "outputs": [
    {
     "name": "stdout",
     "output_type": "stream",
     "text": [
      "Entityset: Appointments\n",
      "  Entities:\n",
      "    appointments [Rows: 5471, Columns: 29]\n",
      "    patients [Rows: 2020, Columns: 8]\n",
      "    patientemails [Rows: 9, Columns: 2]\n",
      "    guarantoremails [Rows: 8, Columns: 2]\n",
      "    patientPhones [Rows: 8, Columns: 2]\n",
      "    insurances [Rows: 9, Columns: 2]\n",
      "    providers [Rows: 4, Columns: 2]\n",
      "    sources [Rows: 6, Columns: 2]\n",
      "    procedures [Rows: 21, Columns: 2]\n",
      "    weekdays [Rows: 5, Columns: 2]\n",
      "    apptTypes [Rows: 3, Columns: 2]\n",
      "  Relationships:\n",
      "    appointments.PatientId -> patients.PatientId\n",
      "    appointments.patientEmailDomain -> patientemails.patientEmailDomain\n",
      "    appointments.guarantorEmailDomain -> guarantoremails.guarantorEmailDomain\n",
      "    appointments.patientPhone1AreaCode -> patientPhones.patientPhone1AreaCode\n",
      "    appointments.insurance -> insurances.insurance\n",
      "    appointments.provider -> providers.provider\n",
      "    appointments.source -> sources.source\n",
      "    appointments.procedure -> procedures.procedure\n",
      "    appointments.weekday -> weekdays.weekday\n",
      "    appointments.apptType -> apptTypes.apptType\n"
     ]
    }
   ],
   "source": [
    "print(es)"
   ]
  },
  {
   "cell_type": "code",
   "execution_count": 8,
   "metadata": {},
   "outputs": [
    {
     "name": "stdout",
     "output_type": "stream",
     "text": [
      "Built 342 features\n",
      "EntitySet scattered to 4 workers in 12 seconds          \n",
      "Elapsed: 20:37 | Progress:  95%|█████████▌| Remaining: 01:30  "
     ]
    },
    {
     "name": "stderr",
     "output_type": "stream",
     "text": [
      "Task exception was never retrieved\n",
      "future: <Task finished coro=<BaseTCPConnector.connect() done, defined at /Library/Frameworks/Python.framework/Versions/3.7/lib/python3.7/site-packages/distributed/comm/tcp.py:341> exception=CommClosedError('in <distributed.comm.tcp.TCPConnector object at 0x1223d5b50>: ConnectionRefusedError: [Errno 61] Connection refused')>\n",
      "Traceback (most recent call last):\n",
      "  File \"/Library/Frameworks/Python.framework/Versions/3.7/lib/python3.7/site-packages/distributed/comm/tcp.py\", line 348, in connect\n",
      "    ip, port, max_buffer_size=MAX_BUFFER_SIZE, **kwargs\n",
      "  File \"/Library/Frameworks/Python.framework/Versions/3.7/lib/python3.7/site-packages/tornado/tcpclient.py\", line 280, in connect\n",
      "    af, addr, stream = await connector.start(connect_timeout=timeout)\n",
      "  File \"/Library/Frameworks/Python.framework/Versions/3.7/lib/python3.7/site-packages/tornado/tcpclient.py\", line 143, in on_connect_done\n",
      "    stream = future.result()\n",
      "tornado.iostream.StreamClosedError: Stream is closed\n",
      "\n",
      "During handling of the above exception, another exception occurred:\n",
      "\n",
      "Traceback (most recent call last):\n",
      "  File \"/Library/Frameworks/Python.framework/Versions/3.7/lib/python3.7/site-packages/distributed/comm/tcp.py\", line 360, in connect\n",
      "    convert_stream_closed_error(self, e)\n",
      "  File \"/Library/Frameworks/Python.framework/Versions/3.7/lib/python3.7/site-packages/distributed/comm/tcp.py\", line 130, in convert_stream_closed_error\n",
      "    raise CommClosedError(\"in %s: %s: %s\" % (obj, exc.__class__.__name__, exc))\n",
      "distributed.comm.core.CommClosedError: in <distributed.comm.tcp.TCPConnector object at 0x1223d5b50>: ConnectionRefusedError: [Errno 61] Connection refused\n"
     ]
    },
    {
     "name": "stdout",
     "output_type": "stream",
     "text": [
      "Elapsed: 21:15 | Progress: 100%|██████████| Remaining: 00:00\n"
     ]
    }
   ],
   "source": [
    "cutoff_times =  es['appointments'].df[['AppointmentId','AppointmentDate']]\n",
    "cat_cols = ['insurance','provider', 'procedure', 'patientEmailDomain', 'guarantorEmailDomain', \n",
    "            'patientPhone1AreaCode','weekday', 'apptType','source']\n",
    "\n",
    "X_ft, features = ft.dfs(entityset=es,\n",
    "                        target_entity='appointments',\n",
    "                        agg_primitives=['count', 'percent_true', 'num_true', 'trend', 'skew', 'all', 'std',\n",
    "                                       'max', 'mean', 'min', 'median', 'num_unique'],\n",
    "                        max_depth=3,\n",
    "                        trans_primitives=['day', 'month', 'year', 'num_words', 'num_characters'],\n",
    "                        cutoff_time=cutoff_times,\n",
    "                        verbose=True,\n",
    "                        approximate = '3h',\n",
    "                        #approximate = \"1 day\",\n",
    "                        chunk_size=50,\n",
    "                        n_jobs=mp.cpu_count())"
   ]
  },
  {
   "cell_type": "code",
   "execution_count": 10,
   "metadata": {},
   "outputs": [
    {
     "data": {
      "image/svg+xml": [
       "<?xml version=\"1.0\" encoding=\"UTF-8\" standalone=\"no\"?>\n",
       "<!DOCTYPE svg PUBLIC \"-//W3C//DTD SVG 1.1//EN\"\n",
       " \"http://www.w3.org/Graphics/SVG/1.1/DTD/svg11.dtd\">\n",
       "<!-- Generated by graphviz version 2.40.1 (20161225.0304)\n",
       " -->\n",
       "<!-- Title: Appointments Pages: 1 -->\n",
       "<svg width=\"2980pt\" height=\"456pt\"\n",
       " viewBox=\"0.00 0.00 2980.18 456.00\" xmlns=\"http://www.w3.org/2000/svg\" xmlns:xlink=\"http://www.w3.org/1999/xlink\">\n",
       "<g id=\"graph0\" class=\"graph\" transform=\"scale(1 1) rotate(0) translate(4 452)\">\n",
       "<title>Appointments</title>\n",
       "<polygon fill=\"#ffffff\" stroke=\"transparent\" points=\"-4,4 -4,-452 2976.1797,-452 2976.1797,4 -4,4\"/>\n",
       "<!-- appointments -->\n",
       "<g id=\"node1\" class=\"node\">\n",
       "<title>appointments</title>\n",
       "<polygon fill=\"none\" stroke=\"#000000\" points=\"1362.8965,-179.5 1362.8965,-447.5 1608.2832,-447.5 1608.2832,-179.5 1362.8965,-179.5\"/>\n",
       "<text text-anchor=\"middle\" x=\"1485.5898\" y=\"-432.3\" font-family=\"Times,serif\" font-size=\"14.00\" fill=\"#000000\">appointments</text>\n",
       "<polyline fill=\"none\" stroke=\"#000000\" points=\"1362.8965,-425.5 1608.2832,-425.5 \"/>\n",
       "<text text-anchor=\"start\" x=\"1370.8965\" y=\"-410.3\" font-family=\"Times,serif\" font-size=\"14.00\" fill=\"#000000\">AppointmentId : index</text>\n",
       "<text text-anchor=\"start\" x=\"1370.8965\" y=\"-396.3\" font-family=\"Times,serif\" font-size=\"14.00\" fill=\"#000000\">AppointmentDate : datetime_time_index</text>\n",
       "<text text-anchor=\"start\" x=\"1370.8965\" y=\"-382.3\" font-family=\"Times,serif\" font-size=\"14.00\" fill=\"#000000\">PatientId : id</text>\n",
       "<text text-anchor=\"start\" x=\"1370.8965\" y=\"-368.3\" font-family=\"Times,serif\" font-size=\"14.00\" fill=\"#000000\">newbie : boolean</text>\n",
       "<text text-anchor=\"start\" x=\"1370.8965\" y=\"-354.3\" font-family=\"Times,serif\" font-size=\"14.00\" fill=\"#000000\">insuranceDummy : boolean</text>\n",
       "<text text-anchor=\"start\" x=\"1370.8965\" y=\"-340.3\" font-family=\"Times,serif\" font-size=\"14.00\" fill=\"#000000\">guarantorIsPatient : boolean</text>\n",
       "<text text-anchor=\"start\" x=\"1370.8965\" y=\"-326.3\" font-family=\"Times,serif\" font-size=\"14.00\" fill=\"#000000\">loyalty : numeric</text>\n",
       "<text text-anchor=\"start\" x=\"1370.8965\" y=\"-312.3\" font-family=\"Times,serif\" font-size=\"14.00\" fill=\"#000000\">noshow : boolean</text>\n",
       "<text text-anchor=\"start\" x=\"1370.8965\" y=\"-298.3\" font-family=\"Times,serif\" font-size=\"14.00\" fill=\"#000000\">patientEmailDomain : id</text>\n",
       "<text text-anchor=\"start\" x=\"1370.8965\" y=\"-284.3\" font-family=\"Times,serif\" font-size=\"14.00\" fill=\"#000000\">guarantorEmailDomain : id</text>\n",
       "<text text-anchor=\"start\" x=\"1370.8965\" y=\"-270.3\" font-family=\"Times,serif\" font-size=\"14.00\" fill=\"#000000\">patientPhone1AreaCode : id</text>\n",
       "<text text-anchor=\"start\" x=\"1370.8965\" y=\"-256.3\" font-family=\"Times,serif\" font-size=\"14.00\" fill=\"#000000\">insurance : id</text>\n",
       "<text text-anchor=\"start\" x=\"1370.8965\" y=\"-242.3\" font-family=\"Times,serif\" font-size=\"14.00\" fill=\"#000000\">provider : id</text>\n",
       "<text text-anchor=\"start\" x=\"1370.8965\" y=\"-228.3\" font-family=\"Times,serif\" font-size=\"14.00\" fill=\"#000000\">source : id</text>\n",
       "<text text-anchor=\"start\" x=\"1370.8965\" y=\"-214.3\" font-family=\"Times,serif\" font-size=\"14.00\" fill=\"#000000\">procedure : id</text>\n",
       "<text text-anchor=\"start\" x=\"1370.8965\" y=\"-200.3\" font-family=\"Times,serif\" font-size=\"14.00\" fill=\"#000000\">weekday : id</text>\n",
       "<text text-anchor=\"start\" x=\"1370.8965\" y=\"-186.3\" font-family=\"Times,serif\" font-size=\"14.00\" fill=\"#000000\">apptType : id</text>\n",
       "</g>\n",
       "<!-- patients -->\n",
       "<g id=\"node2\" class=\"node\">\n",
       "<title>patients</title>\n",
       "<polygon fill=\"none\" stroke=\"#000000\" points=\"0,-.5 0,-142.5 281.1797,-142.5 281.1797,-.5 0,-.5\"/>\n",
       "<text text-anchor=\"middle\" x=\"140.5898\" y=\"-127.3\" font-family=\"Times,serif\" font-size=\"14.00\" fill=\"#000000\">patients</text>\n",
       "<polyline fill=\"none\" stroke=\"#000000\" points=\"0,-120.5 281.1797,-120.5 \"/>\n",
       "<text text-anchor=\"start\" x=\"8\" y=\"-105.3\" font-family=\"Times,serif\" font-size=\"14.00\" fill=\"#000000\">PatientId : index</text>\n",
       "<text text-anchor=\"start\" x=\"8\" y=\"-91.3\" font-family=\"Times,serif\" font-size=\"14.00\" fill=\"#000000\">Patient : text</text>\n",
       "<text text-anchor=\"start\" x=\"8\" y=\"-77.3\" font-family=\"Times,serif\" font-size=\"14.00\" fill=\"#000000\">PatientEmail : email</text>\n",
       "<text text-anchor=\"start\" x=\"8\" y=\"-63.3\" font-family=\"Times,serif\" font-size=\"14.00\" fill=\"#000000\">GuarantorEmail : email</text>\n",
       "<text text-anchor=\"start\" x=\"8\" y=\"-49.3\" font-family=\"Times,serif\" font-size=\"14.00\" fill=\"#000000\">PatientPhone1 : phone_number</text>\n",
       "<text text-anchor=\"start\" x=\"8\" y=\"-35.3\" font-family=\"Times,serif\" font-size=\"14.00\" fill=\"#000000\">newpatientfile : ordinal</text>\n",
       "<text text-anchor=\"start\" x=\"8\" y=\"-21.3\" font-family=\"Times,serif\" font-size=\"14.00\" fill=\"#000000\">Age_npf : numeric</text>\n",
       "<text text-anchor=\"start\" x=\"8\" y=\"-7.3\" font-family=\"Times,serif\" font-size=\"14.00\" fill=\"#000000\">first_appointments_time : datetime_time_index</text>\n",
       "</g>\n",
       "<!-- appointments&#45;&gt;patients -->\n",
       "<g id=\"edge1\" class=\"edge\">\n",
       "<title>appointments&#45;&gt;patients</title>\n",
       "<path fill=\"none\" stroke=\"#000000\" d=\"M1400.9909,-179.4563C1400.9909,-147.2729 1400.9909,-122 1400.9909,-122 1400.9909,-122 291.201,-122 291.201,-122\"/>\n",
       "<polygon fill=\"#000000\" stroke=\"#000000\" points=\"291.2011,-118.5001 281.201,-122 291.201,-125.5001 291.2011,-118.5001\"/>\n",
       "<text text-anchor=\"middle\" x=\"849.5517\" y=\"-124.8\" font-family=\"Times,serif\" font-size=\"14.00\" fill=\"#000000\">PatientId</text>\n",
       "</g>\n",
       "<!-- patientemails -->\n",
       "<g id=\"node3\" class=\"node\">\n",
       "<title>patientemails</title>\n",
       "<polygon fill=\"none\" stroke=\"#000000\" points=\"299,-42.5 299,-100.5 580.1797,-100.5 580.1797,-42.5 299,-42.5\"/>\n",
       "<text text-anchor=\"middle\" x=\"439.5898\" y=\"-85.3\" font-family=\"Times,serif\" font-size=\"14.00\" fill=\"#000000\">patientemails</text>\n",
       "<polyline fill=\"none\" stroke=\"#000000\" points=\"299,-78.5 580.1797,-78.5 \"/>\n",
       "<text text-anchor=\"start\" x=\"307\" y=\"-63.3\" font-family=\"Times,serif\" font-size=\"14.00\" fill=\"#000000\">patientEmailDomain : index</text>\n",
       "<text text-anchor=\"start\" x=\"307\" y=\"-49.3\" font-family=\"Times,serif\" font-size=\"14.00\" fill=\"#000000\">first_appointments_time : datetime_time_index</text>\n",
       "</g>\n",
       "<!-- appointments&#45;&gt;patientemails -->\n",
       "<g id=\"edge2\" class=\"edge\">\n",
       "<title>appointments&#45;&gt;patientemails</title>\n",
       "<path fill=\"none\" stroke=\"#000000\" d=\"M1362.782,-380C1086.4244,-380 439.5898,-380 439.5898,-380 439.5898,-380 439.5898,-110.5229 439.5898,-110.5229\"/>\n",
       "<polygon fill=\"#000000\" stroke=\"#000000\" points=\"443.0899,-110.5229 439.5898,-100.5229 436.0899,-110.523 443.0899,-110.5229\"/>\n",
       "<text text-anchor=\"middle\" x=\"708.13\" y=\"-382.8\" font-family=\"Times,serif\" font-size=\"14.00\" fill=\"#000000\">patientEmailDomain</text>\n",
       "</g>\n",
       "<!-- guarantoremails -->\n",
       "<g id=\"node4\" class=\"node\">\n",
       "<title>guarantoremails</title>\n",
       "<polygon fill=\"none\" stroke=\"#000000\" points=\"598,-42.5 598,-100.5 879.1797,-100.5 879.1797,-42.5 598,-42.5\"/>\n",
       "<text text-anchor=\"middle\" x=\"738.5898\" y=\"-85.3\" font-family=\"Times,serif\" font-size=\"14.00\" fill=\"#000000\">guarantoremails</text>\n",
       "<polyline fill=\"none\" stroke=\"#000000\" points=\"598,-78.5 879.1797,-78.5 \"/>\n",
       "<text text-anchor=\"start\" x=\"606\" y=\"-63.3\" font-family=\"Times,serif\" font-size=\"14.00\" fill=\"#000000\">guarantorEmailDomain : index</text>\n",
       "<text text-anchor=\"start\" x=\"606\" y=\"-49.3\" font-family=\"Times,serif\" font-size=\"14.00\" fill=\"#000000\">first_appointments_time : datetime_time_index</text>\n",
       "</g>\n",
       "<!-- appointments&#45;&gt;guarantoremails -->\n",
       "<g id=\"edge3\" class=\"edge\">\n",
       "<title>appointments&#45;&gt;guarantoremails</title>\n",
       "<path fill=\"none\" stroke=\"#000000\" d=\"M1362.6565,-313C1150.6106,-313 738.5898,-313 738.5898,-313 738.5898,-313 738.5898,-110.6305 738.5898,-110.6305\"/>\n",
       "<polygon fill=\"#000000\" stroke=\"#000000\" points=\"742.0899,-110.6305 738.5898,-100.6305 735.0899,-110.6306 742.0899,-110.6305\"/>\n",
       "<text text-anchor=\"middle\" x=\"883.3486\" y=\"-315.8\" font-family=\"Times,serif\" font-size=\"14.00\" fill=\"#000000\">guarantorEmailDomain</text>\n",
       "</g>\n",
       "<!-- patientPhones -->\n",
       "<g id=\"node5\" class=\"node\">\n",
       "<title>patientPhones</title>\n",
       "<polygon fill=\"none\" stroke=\"#000000\" points=\"897,-42.5 897,-100.5 1178.1797,-100.5 1178.1797,-42.5 897,-42.5\"/>\n",
       "<text text-anchor=\"middle\" x=\"1037.5898\" y=\"-85.3\" font-family=\"Times,serif\" font-size=\"14.00\" fill=\"#000000\">patientPhones</text>\n",
       "<polyline fill=\"none\" stroke=\"#000000\" points=\"897,-78.5 1178.1797,-78.5 \"/>\n",
       "<text text-anchor=\"start\" x=\"905\" y=\"-63.3\" font-family=\"Times,serif\" font-size=\"14.00\" fill=\"#000000\">patientPhone1AreaCode : index</text>\n",
       "<text text-anchor=\"start\" x=\"905\" y=\"-49.3\" font-family=\"Times,serif\" font-size=\"14.00\" fill=\"#000000\">first_appointments_time : datetime_time_index</text>\n",
       "</g>\n",
       "<!-- appointments&#45;&gt;patientPhones -->\n",
       "<g id=\"edge4\" class=\"edge\">\n",
       "<title>appointments&#45;&gt;patientPhones</title>\n",
       "<path fill=\"none\" stroke=\"#000000\" d=\"M1362.8757,-246C1230.2403,-246 1037.5898,-246 1037.5898,-246 1037.5898,-246 1037.5898,-110.7074 1037.5898,-110.7074\"/>\n",
       "<polygon fill=\"#000000\" stroke=\"#000000\" points=\"1041.0899,-110.7073 1037.5898,-100.7074 1034.0899,-110.7074 1041.0899,-110.7073\"/>\n",
       "<text text-anchor=\"middle\" x=\"1064.1621\" y=\"-248.8\" font-family=\"Times,serif\" font-size=\"14.00\" fill=\"#000000\">patientPhone1AreaCode</text>\n",
       "</g>\n",
       "<!-- insurances -->\n",
       "<g id=\"node6\" class=\"node\">\n",
       "<title>insurances</title>\n",
       "<polygon fill=\"none\" stroke=\"#000000\" points=\"1196,-42.5 1196,-100.5 1477.1797,-100.5 1477.1797,-42.5 1196,-42.5\"/>\n",
       "<text text-anchor=\"middle\" x=\"1336.5898\" y=\"-85.3\" font-family=\"Times,serif\" font-size=\"14.00\" fill=\"#000000\">insurances</text>\n",
       "<polyline fill=\"none\" stroke=\"#000000\" points=\"1196,-78.5 1477.1797,-78.5 \"/>\n",
       "<text text-anchor=\"start\" x=\"1204\" y=\"-63.3\" font-family=\"Times,serif\" font-size=\"14.00\" fill=\"#000000\">insurance : index</text>\n",
       "<text text-anchor=\"start\" x=\"1204\" y=\"-49.3\" font-family=\"Times,serif\" font-size=\"14.00\" fill=\"#000000\">first_appointments_time : datetime_time_index</text>\n",
       "</g>\n",
       "<!-- appointments&#45;&gt;insurances -->\n",
       "<g id=\"edge5\" class=\"edge\">\n",
       "<title>appointments&#45;&gt;insurances</title>\n",
       "<path fill=\"none\" stroke=\"#000000\" d=\"M1439.0853,-179.4066C1439.0853,-179.4066 1439.0853,-110.849 1439.0853,-110.849\"/>\n",
       "<polygon fill=\"#000000\" stroke=\"#000000\" points=\"1442.5854,-110.849 1439.0853,-100.849 1435.5854,-110.8491 1442.5854,-110.849\"/>\n",
       "<text text-anchor=\"middle\" x=\"1412.2645\" y=\"-147.9278\" font-family=\"Times,serif\" font-size=\"14.00\" fill=\"#000000\">insurance</text>\n",
       "</g>\n",
       "<!-- providers -->\n",
       "<g id=\"node7\" class=\"node\">\n",
       "<title>providers</title>\n",
       "<polygon fill=\"none\" stroke=\"#000000\" points=\"1495,-42.5 1495,-100.5 1776.1797,-100.5 1776.1797,-42.5 1495,-42.5\"/>\n",
       "<text text-anchor=\"middle\" x=\"1635.5898\" y=\"-85.3\" font-family=\"Times,serif\" font-size=\"14.00\" fill=\"#000000\">providers</text>\n",
       "<polyline fill=\"none\" stroke=\"#000000\" points=\"1495,-78.5 1776.1797,-78.5 \"/>\n",
       "<text text-anchor=\"start\" x=\"1503\" y=\"-63.3\" font-family=\"Times,serif\" font-size=\"14.00\" fill=\"#000000\">provider : index</text>\n",
       "<text text-anchor=\"start\" x=\"1503\" y=\"-49.3\" font-family=\"Times,serif\" font-size=\"14.00\" fill=\"#000000\">first_appointments_time : datetime_time_index</text>\n",
       "</g>\n",
       "<!-- appointments&#45;&gt;providers -->\n",
       "<g id=\"edge6\" class=\"edge\">\n",
       "<title>appointments&#45;&gt;providers</title>\n",
       "<path fill=\"none\" stroke=\"#000000\" d=\"M1551.6416,-179.4066C1551.6416,-179.4066 1551.6416,-110.849 1551.6416,-110.849\"/>\n",
       "<polygon fill=\"#000000\" stroke=\"#000000\" points=\"1555.1417,-110.849 1551.6416,-100.849 1548.1417,-110.8491 1555.1417,-110.849\"/>\n",
       "<text text-anchor=\"middle\" x=\"1527.9277\" y=\"-147.9278\" font-family=\"Times,serif\" font-size=\"14.00\" fill=\"#000000\">provider</text>\n",
       "</g>\n",
       "<!-- sources -->\n",
       "<g id=\"node8\" class=\"node\">\n",
       "<title>sources</title>\n",
       "<polygon fill=\"none\" stroke=\"#000000\" points=\"1794,-42.5 1794,-100.5 2075.1797,-100.5 2075.1797,-42.5 1794,-42.5\"/>\n",
       "<text text-anchor=\"middle\" x=\"1934.5898\" y=\"-85.3\" font-family=\"Times,serif\" font-size=\"14.00\" fill=\"#000000\">sources</text>\n",
       "<polyline fill=\"none\" stroke=\"#000000\" points=\"1794,-78.5 2075.1797,-78.5 \"/>\n",
       "<text text-anchor=\"start\" x=\"1802\" y=\"-63.3\" font-family=\"Times,serif\" font-size=\"14.00\" fill=\"#000000\">source : index</text>\n",
       "<text text-anchor=\"start\" x=\"1802\" y=\"-49.3\" font-family=\"Times,serif\" font-size=\"14.00\" fill=\"#000000\">first_appointments_time : datetime_time_index</text>\n",
       "</g>\n",
       "<!-- appointments&#45;&gt;sources -->\n",
       "<g id=\"edge7\" class=\"edge\">\n",
       "<title>appointments&#45;&gt;sources</title>\n",
       "<path fill=\"none\" stroke=\"#000000\" d=\"M1608.5779,-232C1741.5093,-232 1934.5898,-232 1934.5898,-232 1934.5898,-232 1934.5898,-110.5653 1934.5898,-110.5653\"/>\n",
       "<polygon fill=\"#000000\" stroke=\"#000000\" points=\"1938.0899,-110.5653 1934.5898,-100.5653 1931.0899,-110.5654 1938.0899,-110.5653\"/>\n",
       "<text text-anchor=\"middle\" x=\"1814.0322\" y=\"-234.8\" font-family=\"Times,serif\" font-size=\"14.00\" fill=\"#000000\">source</text>\n",
       "</g>\n",
       "<!-- procedures -->\n",
       "<g id=\"node9\" class=\"node\">\n",
       "<title>procedures</title>\n",
       "<polygon fill=\"none\" stroke=\"#000000\" points=\"2093,-42.5 2093,-100.5 2374.1797,-100.5 2374.1797,-42.5 2093,-42.5\"/>\n",
       "<text text-anchor=\"middle\" x=\"2233.5898\" y=\"-85.3\" font-family=\"Times,serif\" font-size=\"14.00\" fill=\"#000000\">procedures</text>\n",
       "<polyline fill=\"none\" stroke=\"#000000\" points=\"2093,-78.5 2374.1797,-78.5 \"/>\n",
       "<text text-anchor=\"start\" x=\"2101\" y=\"-63.3\" font-family=\"Times,serif\" font-size=\"14.00\" fill=\"#000000\">procedure : index</text>\n",
       "<text text-anchor=\"start\" x=\"2101\" y=\"-49.3\" font-family=\"Times,serif\" font-size=\"14.00\" fill=\"#000000\">first_appointments_time : datetime_time_index</text>\n",
       "</g>\n",
       "<!-- appointments&#45;&gt;procedures -->\n",
       "<g id=\"edge8\" class=\"edge\">\n",
       "<title>appointments&#45;&gt;procedures</title>\n",
       "<path fill=\"none\" stroke=\"#000000\" d=\"M1608.6878,-286C1821.0175,-286 2233.5898,-286 2233.5898,-286 2233.5898,-286 2233.5898,-110.8756 2233.5898,-110.8756\"/>\n",
       "<polygon fill=\"#000000\" stroke=\"#000000\" points=\"2237.0899,-110.8755 2233.5898,-100.8756 2230.0899,-110.8756 2237.0899,-110.8755\"/>\n",
       "<text text-anchor=\"middle\" x=\"1980.7181\" y=\"-288.8\" font-family=\"Times,serif\" font-size=\"14.00\" fill=\"#000000\">procedure</text>\n",
       "</g>\n",
       "<!-- weekdays -->\n",
       "<g id=\"node10\" class=\"node\">\n",
       "<title>weekdays</title>\n",
       "<polygon fill=\"none\" stroke=\"#000000\" points=\"2392,-42.5 2392,-100.5 2673.1797,-100.5 2673.1797,-42.5 2392,-42.5\"/>\n",
       "<text text-anchor=\"middle\" x=\"2532.5898\" y=\"-85.3\" font-family=\"Times,serif\" font-size=\"14.00\" fill=\"#000000\">weekdays</text>\n",
       "<polyline fill=\"none\" stroke=\"#000000\" points=\"2392,-78.5 2673.1797,-78.5 \"/>\n",
       "<text text-anchor=\"start\" x=\"2400\" y=\"-63.3\" font-family=\"Times,serif\" font-size=\"14.00\" fill=\"#000000\">weekday : index</text>\n",
       "<text text-anchor=\"start\" x=\"2400\" y=\"-49.3\" font-family=\"Times,serif\" font-size=\"14.00\" fill=\"#000000\">first_appointments_time : datetime_time_index</text>\n",
       "</g>\n",
       "<!-- appointments&#45;&gt;weekdays -->\n",
       "<g id=\"edge9\" class=\"edge\">\n",
       "<title>appointments&#45;&gt;weekdays</title>\n",
       "<path fill=\"none\" stroke=\"#000000\" d=\"M1608.5151,-340C1885.1369,-340 2532.5898,-340 2532.5898,-340 2532.5898,-340 2532.5898,-110.7453 2532.5898,-110.7453\"/>\n",
       "<polygon fill=\"#000000\" stroke=\"#000000\" points=\"2536.0899,-110.7453 2532.5898,-100.7453 2529.0899,-110.7454 2536.0899,-110.7453\"/>\n",
       "<text text-anchor=\"middle\" x=\"2160.3038\" y=\"-342.8\" font-family=\"Times,serif\" font-size=\"14.00\" fill=\"#000000\">weekday</text>\n",
       "</g>\n",
       "<!-- apptTypes -->\n",
       "<g id=\"node11\" class=\"node\">\n",
       "<title>apptTypes</title>\n",
       "<polygon fill=\"none\" stroke=\"#000000\" points=\"2691,-42.5 2691,-100.5 2972.1797,-100.5 2972.1797,-42.5 2691,-42.5\"/>\n",
       "<text text-anchor=\"middle\" x=\"2831.5898\" y=\"-85.3\" font-family=\"Times,serif\" font-size=\"14.00\" fill=\"#000000\">apptTypes</text>\n",
       "<polyline fill=\"none\" stroke=\"#000000\" points=\"2691,-78.5 2972.1797,-78.5 \"/>\n",
       "<text text-anchor=\"start\" x=\"2699\" y=\"-63.3\" font-family=\"Times,serif\" font-size=\"14.00\" fill=\"#000000\">apptType : index</text>\n",
       "<text text-anchor=\"start\" x=\"2699\" y=\"-49.3\" font-family=\"Times,serif\" font-size=\"14.00\" fill=\"#000000\">first_appointments_time : datetime_time_index</text>\n",
       "</g>\n",
       "<!-- appointments&#45;&gt;apptTypes -->\n",
       "<g id=\"edge10\" class=\"edge\">\n",
       "<title>appointments&#45;&gt;apptTypes</title>\n",
       "<path fill=\"none\" stroke=\"#000000\" d=\"M1608.3076,-394C1940.3475,-394 2831.5898,-394 2831.5898,-394 2831.5898,-394 2831.5898,-110.6885 2831.5898,-110.6885\"/>\n",
       "<polygon fill=\"#000000\" stroke=\"#000000\" points=\"2835.0899,-110.6885 2831.5898,-100.6885 2828.0899,-110.6886 2835.0899,-110.6885\"/>\n",
       "<text text-anchor=\"middle\" x=\"2335.6586\" y=\"-396.8\" font-family=\"Times,serif\" font-size=\"14.00\" fill=\"#000000\">apptType</text>\n",
       "</g>\n",
       "</g>\n",
       "</svg>\n"
      ],
      "text/plain": [
       "<graphviz.dot.Digraph at 0x121a5fed0>"
      ]
     },
     "execution_count": 10,
     "metadata": {},
     "output_type": "execute_result"
    }
   ],
   "source": [
    "es.plot()"
   ]
  },
  {
   "cell_type": "code",
   "execution_count": 19,
   "metadata": {},
   "outputs": [
    {
     "data": {
      "text/html": [
       "<div>\n",
       "<style scoped>\n",
       "    .dataframe tbody tr th:only-of-type {\n",
       "        vertical-align: middle;\n",
       "    }\n",
       "\n",
       "    .dataframe tbody tr th {\n",
       "        vertical-align: top;\n",
       "    }\n",
       "\n",
       "    .dataframe thead th {\n",
       "        text-align: right;\n",
       "    }\n",
       "</style>\n",
       "<table border=\"1\" class=\"dataframe\">\n",
       "  <thead>\n",
       "    <tr style=\"text-align: right;\">\n",
       "      <th></th>\n",
       "      <th>PatientId</th>\n",
       "      <th>newbie</th>\n",
       "      <th>insuranceDummy</th>\n",
       "      <th>guarantorIsPatient</th>\n",
       "      <th>loyalty</th>\n",
       "      <th>noshow</th>\n",
       "      <th>patientEmailDomain</th>\n",
       "      <th>guarantorEmailDomain</th>\n",
       "      <th>patientPhone1AreaCode</th>\n",
       "      <th>insurance</th>\n",
       "      <th>...</th>\n",
       "      <th>apptTypes.NUM_UNIQUE(appointments.insurance)</th>\n",
       "      <th>apptTypes.NUM_UNIQUE(appointments.provider)</th>\n",
       "      <th>apptTypes.NUM_UNIQUE(appointments.source)</th>\n",
       "      <th>apptTypes.NUM_UNIQUE(appointments.procedure)</th>\n",
       "      <th>apptTypes.NUM_UNIQUE(appointments.weekday)</th>\n",
       "      <th>apptTypes.DAY(first_appointments_time)</th>\n",
       "      <th>apptTypes.MONTH(first_appointments_time)</th>\n",
       "      <th>apptTypes.YEAR(first_appointments_time)</th>\n",
       "      <th>temperature</th>\n",
       "      <th>humidity</th>\n",
       "    </tr>\n",
       "  </thead>\n",
       "  <tbody>\n",
       "    <tr>\n",
       "      <td>0</td>\n",
       "      <td>9608</td>\n",
       "      <td>0</td>\n",
       "      <td>0</td>\n",
       "      <td>True</td>\n",
       "      <td>19</td>\n",
       "      <td>0</td>\n",
       "      <td>PatientEmail_others</td>\n",
       "      <td>GuarantorEmail_others</td>\n",
       "      <td>PatientPhone1_ea4</td>\n",
       "      <td>Insurance_others</td>\n",
       "      <td>...</td>\n",
       "      <td>NaN</td>\n",
       "      <td>NaN</td>\n",
       "      <td>NaN</td>\n",
       "      <td>NaN</td>\n",
       "      <td>NaN</td>\n",
       "      <td>2</td>\n",
       "      <td>1</td>\n",
       "      <td>2018</td>\n",
       "      <td>74.89</td>\n",
       "      <td>0.89</td>\n",
       "    </tr>\n",
       "    <tr>\n",
       "      <td>1</td>\n",
       "      <td>9393</td>\n",
       "      <td>0</td>\n",
       "      <td>0</td>\n",
       "      <td>True</td>\n",
       "      <td>10</td>\n",
       "      <td>0</td>\n",
       "      <td>PatientEmail_others</td>\n",
       "      <td>GuarantorEmail_others</td>\n",
       "      <td>PatientPhone1_ea4</td>\n",
       "      <td>Insurance_others</td>\n",
       "      <td>...</td>\n",
       "      <td>NaN</td>\n",
       "      <td>NaN</td>\n",
       "      <td>NaN</td>\n",
       "      <td>NaN</td>\n",
       "      <td>NaN</td>\n",
       "      <td>2</td>\n",
       "      <td>1</td>\n",
       "      <td>2018</td>\n",
       "      <td>69.44</td>\n",
       "      <td>0.98</td>\n",
       "    </tr>\n",
       "    <tr>\n",
       "      <td>2</td>\n",
       "      <td>9200</td>\n",
       "      <td>0</td>\n",
       "      <td>1</td>\n",
       "      <td>True</td>\n",
       "      <td>24</td>\n",
       "      <td>0</td>\n",
       "      <td>PatientEmail_others</td>\n",
       "      <td>GuarantorEmail_others</td>\n",
       "      <td>PatientPhone1_others</td>\n",
       "      <td>Insurance_UNITED CONCORDIA</td>\n",
       "      <td>...</td>\n",
       "      <td>NaN</td>\n",
       "      <td>NaN</td>\n",
       "      <td>NaN</td>\n",
       "      <td>NaN</td>\n",
       "      <td>NaN</td>\n",
       "      <td>2</td>\n",
       "      <td>1</td>\n",
       "      <td>2018</td>\n",
       "      <td>55.75</td>\n",
       "      <td>0.97</td>\n",
       "    </tr>\n",
       "    <tr>\n",
       "      <td>3</td>\n",
       "      <td>8562</td>\n",
       "      <td>0</td>\n",
       "      <td>0</td>\n",
       "      <td>True</td>\n",
       "      <td>19</td>\n",
       "      <td>0</td>\n",
       "      <td>PatientEmail_others</td>\n",
       "      <td>GuarantorEmail_others</td>\n",
       "      <td>PatientPhone1_ea4</td>\n",
       "      <td>Insurance_others</td>\n",
       "      <td>...</td>\n",
       "      <td>2.0</td>\n",
       "      <td>1.0</td>\n",
       "      <td>2.0</td>\n",
       "      <td>1.0</td>\n",
       "      <td>1.0</td>\n",
       "      <td>2</td>\n",
       "      <td>1</td>\n",
       "      <td>2018</td>\n",
       "      <td>24.52</td>\n",
       "      <td>0.81</td>\n",
       "    </tr>\n",
       "    <tr>\n",
       "      <td>4</td>\n",
       "      <td>9961</td>\n",
       "      <td>0</td>\n",
       "      <td>0</td>\n",
       "      <td>True</td>\n",
       "      <td>19</td>\n",
       "      <td>0</td>\n",
       "      <td>PatientEmail_others</td>\n",
       "      <td>GuarantorEmail_others</td>\n",
       "      <td>PatientPhone1_84f</td>\n",
       "      <td>Insurance_others</td>\n",
       "      <td>...</td>\n",
       "      <td>1.0</td>\n",
       "      <td>2.0</td>\n",
       "      <td>1.0</td>\n",
       "      <td>2.0</td>\n",
       "      <td>1.0</td>\n",
       "      <td>2</td>\n",
       "      <td>1</td>\n",
       "      <td>2018</td>\n",
       "      <td>73.41</td>\n",
       "      <td>0.65</td>\n",
       "    </tr>\n",
       "  </tbody>\n",
       "</table>\n",
       "<p>5 rows × 344 columns</p>\n",
       "</div>"
      ],
      "text/plain": [
       "   PatientId  newbie  insuranceDummy  guarantorIsPatient  loyalty  noshow  \\\n",
       "0       9608       0               0                True       19       0   \n",
       "1       9393       0               0                True       10       0   \n",
       "2       9200       0               1                True       24       0   \n",
       "3       8562       0               0                True       19       0   \n",
       "4       9961       0               0                True       19       0   \n",
       "\n",
       "    patientEmailDomain   guarantorEmailDomain patientPhone1AreaCode  \\\n",
       "0  PatientEmail_others  GuarantorEmail_others     PatientPhone1_ea4   \n",
       "1  PatientEmail_others  GuarantorEmail_others     PatientPhone1_ea4   \n",
       "2  PatientEmail_others  GuarantorEmail_others  PatientPhone1_others   \n",
       "3  PatientEmail_others  GuarantorEmail_others     PatientPhone1_ea4   \n",
       "4  PatientEmail_others  GuarantorEmail_others     PatientPhone1_84f   \n",
       "\n",
       "                                    insurance  ...  \\\n",
       "0                            Insurance_others  ...   \n",
       "1                            Insurance_others  ...   \n",
       "2  Insurance_UNITED CONCORDIA                  ...   \n",
       "3                            Insurance_others  ...   \n",
       "4                            Insurance_others  ...   \n",
       "\n",
       "  apptTypes.NUM_UNIQUE(appointments.insurance)  \\\n",
       "0                                          NaN   \n",
       "1                                          NaN   \n",
       "2                                          NaN   \n",
       "3                                          2.0   \n",
       "4                                          1.0   \n",
       "\n",
       "  apptTypes.NUM_UNIQUE(appointments.provider)  \\\n",
       "0                                         NaN   \n",
       "1                                         NaN   \n",
       "2                                         NaN   \n",
       "3                                         1.0   \n",
       "4                                         2.0   \n",
       "\n",
       "  apptTypes.NUM_UNIQUE(appointments.source)  \\\n",
       "0                                       NaN   \n",
       "1                                       NaN   \n",
       "2                                       NaN   \n",
       "3                                       2.0   \n",
       "4                                       1.0   \n",
       "\n",
       "  apptTypes.NUM_UNIQUE(appointments.procedure)  \\\n",
       "0                                          NaN   \n",
       "1                                          NaN   \n",
       "2                                          NaN   \n",
       "3                                          1.0   \n",
       "4                                          2.0   \n",
       "\n",
       "  apptTypes.NUM_UNIQUE(appointments.weekday)  \\\n",
       "0                                        NaN   \n",
       "1                                        NaN   \n",
       "2                                        NaN   \n",
       "3                                        1.0   \n",
       "4                                        1.0   \n",
       "\n",
       "   apptTypes.DAY(first_appointments_time)  \\\n",
       "0                                       2   \n",
       "1                                       2   \n",
       "2                                       2   \n",
       "3                                       2   \n",
       "4                                       2   \n",
       "\n",
       "   apptTypes.MONTH(first_appointments_time)  \\\n",
       "0                                         1   \n",
       "1                                         1   \n",
       "2                                         1   \n",
       "3                                         1   \n",
       "4                                         1   \n",
       "\n",
       "   apptTypes.YEAR(first_appointments_time)  temperature  humidity  \n",
       "0                                     2018        74.89      0.89  \n",
       "1                                     2018        69.44      0.98  \n",
       "2                                     2018        55.75      0.97  \n",
       "3                                     2018        24.52      0.81  \n",
       "4                                     2018        73.41      0.65  \n",
       "\n",
       "[5 rows x 344 columns]"
      ]
     },
     "execution_count": 19,
     "metadata": {},
     "output_type": "execute_result"
    }
   ],
   "source": [
    " weather = pickle.load(open('data/weather2018.pkl', 'rb'))\n",
    " weather = pd.DataFrame(weather)\n",
    " X_ft['datetime'] = pd.to_datetime(full_dataset['AppointmentDate'].dt.round('60min'))\n",
    " weather['datetime'] = pd.to_datetime(weather['time'],unit='s').dt.round('60min')\n",
    "X_ft = X_ft.merge(weather[['temperature','humidity','datetime']],on='datetime', how=\"left\").drop(['datetime'], axis=1)\n",
    "X_ft[\"temperature\"] = pd.to_numeric(X_ft[\"temperature\"])\n",
    "X_ft[\"humidity\"] = pd.to_numeric(X_ft[\"humidity\"])\n",
    "X_ft.head()\n"
   ]
  },
  {
   "cell_type": "code",
   "execution_count": 18,
   "metadata": {},
   "outputs": [],
   "source": [
    "#X_ft = X_ft.drop([\"humidity_x\",'humidity_y','temperature_y','temperature_x'],axis=1)"
   ]
  },
  {
   "cell_type": "markdown",
   "metadata": {},
   "source": [
    "## 2) Building ML models"
   ]
  },
  {
   "cell_type": "code",
   "execution_count": 6,
   "metadata": {},
   "outputs": [],
   "source": [
    "from sklearn.metrics import confusion_matrix, roc_curve, roc_auc_score, auc\n",
    "from sklearn.linear_model import LogisticRegression\n",
    "from sklearn.model_selection import train_test_split,cross_val_score\n",
    "import pandas as pd\n",
    "import numpy as np\n",
    "import multiprocess as mp\n",
    "from xgboost import XGBClassifier, plot_importance\n",
    "from sklearn.model_selection import GridSearchCV\n",
    "import os\n",
    "\n",
    "cwd = os.getcwd()"
   ]
  },
  {
   "cell_type": "code",
   "execution_count": 12,
   "metadata": {},
   "outputs": [
    {
     "ename": "NameError",
     "evalue": "name 'X_ft' is not defined",
     "output_type": "error",
     "traceback": [
      "\u001b[0;31m---------------------------------------------------------------------------\u001b[0m",
      "\u001b[0;31mNameError\u001b[0m                                 Traceback (most recent call last)",
      "\u001b[0;32m<ipython-input-12-962f7dcba044>\u001b[0m in \u001b[0;36m<module>\u001b[0;34m\u001b[0m\n\u001b[1;32m      6\u001b[0m \u001b[0;34m\u001b[0m\u001b[0m\n\u001b[1;32m      7\u001b[0m \u001b[0;31m##import and load data\u001b[0m\u001b[0;34m\u001b[0m\u001b[0;34m\u001b[0m\u001b[0;34m\u001b[0m\u001b[0m\n\u001b[0;32m----> 8\u001b[0;31m \u001b[0mfull_dataset\u001b[0m \u001b[0;34m=\u001b[0m \u001b[0mpd\u001b[0m\u001b[0;34m.\u001b[0m\u001b[0mconcat\u001b[0m\u001b[0;34m(\u001b[0m\u001b[0;34m[\u001b[0m\u001b[0mX_ft\u001b[0m\u001b[0;34m]\u001b[0m\u001b[0;34m,\u001b[0m\u001b[0maxis\u001b[0m\u001b[0;34m=\u001b[0m\u001b[0;36m1\u001b[0m\u001b[0;34m)\u001b[0m\u001b[0;34m.\u001b[0m\u001b[0mdrop\u001b[0m\u001b[0;34m(\u001b[0m\u001b[0mcat_cols\u001b[0m\u001b[0;34m,\u001b[0m\u001b[0maxis\u001b[0m\u001b[0;34m=\u001b[0m\u001b[0;36m1\u001b[0m\u001b[0;34m)\u001b[0m\u001b[0;34m\u001b[0m\u001b[0;34m\u001b[0m\u001b[0m\n\u001b[0m",
      "\u001b[0;31mNameError\u001b[0m: name 'X_ft' is not defined"
     ]
    }
   ],
   "source": [
    "##skip this step if loading in pickle\n",
    "##choose to drop cat cols\n",
    "cat_cols = ['insurance','provider', 'procedure', 'patientEmailDomain', 'guarantorEmailDomain', \n",
    "           'patientPhone1AreaCode','weekday', 'apptType','source']\n",
    "\n",
    "\n",
    "##import and load data\n",
    "full_dataset = pd.concat([X_ft],axis=1).drop(cat_cols,axis=1)"
   ]
  },
  {
   "cell_type": "code",
   "execution_count": 7,
   "metadata": {},
   "outputs": [],
   "source": [
    "#pickle that data set. only do this when you want to replace\n",
    "#X_ft.drop(cat_cols,axis=1).to_pickle(cwd + \"/data/postFT_insight_weather.pkl\")\n",
    "full_dataset = pd.read_pickle(cwd + \"/data/postFT_insight_weather.pkl\")"
   ]
  },
  {
   "cell_type": "code",
   "execution_count": 8,
   "metadata": {},
   "outputs": [],
   "source": [
    "##if loading pickle, drop in here\n",
    "X = full_dataset.drop(['noshow'],axis=1)\n",
    "y = full_dataset[['noshow']]\n",
    "\n"
   ]
  },
  {
   "cell_type": "code",
   "execution_count": 9,
   "metadata": {},
   "outputs": [
    {
     "data": {
      "text/html": [
       "<div>\n",
       "<style scoped>\n",
       "    .dataframe tbody tr th:only-of-type {\n",
       "        vertical-align: middle;\n",
       "    }\n",
       "\n",
       "    .dataframe tbody tr th {\n",
       "        vertical-align: top;\n",
       "    }\n",
       "\n",
       "    .dataframe thead th {\n",
       "        text-align: right;\n",
       "    }\n",
       "</style>\n",
       "<table border=\"1\" class=\"dataframe\">\n",
       "  <thead>\n",
       "    <tr style=\"text-align: right;\">\n",
       "      <th></th>\n",
       "      <th>PatientId</th>\n",
       "      <th>newbie</th>\n",
       "      <th>insuranceDummy</th>\n",
       "      <th>guarantorIsPatient</th>\n",
       "      <th>loyalty</th>\n",
       "      <th>DAY(AppointmentDate)</th>\n",
       "      <th>MONTH(AppointmentDate)</th>\n",
       "      <th>YEAR(AppointmentDate)</th>\n",
       "      <th>patients.newpatientfile</th>\n",
       "      <th>patients.Age_npf</th>\n",
       "      <th>...</th>\n",
       "      <th>apptTypes.NUM_UNIQUE(appointments.insurance)</th>\n",
       "      <th>apptTypes.NUM_UNIQUE(appointments.provider)</th>\n",
       "      <th>apptTypes.NUM_UNIQUE(appointments.source)</th>\n",
       "      <th>apptTypes.NUM_UNIQUE(appointments.procedure)</th>\n",
       "      <th>apptTypes.NUM_UNIQUE(appointments.weekday)</th>\n",
       "      <th>apptTypes.DAY(first_appointments_time)</th>\n",
       "      <th>apptTypes.MONTH(first_appointments_time)</th>\n",
       "      <th>apptTypes.YEAR(first_appointments_time)</th>\n",
       "      <th>temperature</th>\n",
       "      <th>humidity</th>\n",
       "    </tr>\n",
       "  </thead>\n",
       "  <tbody>\n",
       "    <tr>\n",
       "      <td>0</td>\n",
       "      <td>9608</td>\n",
       "      <td>0</td>\n",
       "      <td>0</td>\n",
       "      <td>True</td>\n",
       "      <td>19</td>\n",
       "      <td>2</td>\n",
       "      <td>1</td>\n",
       "      <td>2018</td>\n",
       "      <td>201606</td>\n",
       "      <td>NaN</td>\n",
       "      <td>...</td>\n",
       "      <td>NaN</td>\n",
       "      <td>NaN</td>\n",
       "      <td>NaN</td>\n",
       "      <td>NaN</td>\n",
       "      <td>NaN</td>\n",
       "      <td>2</td>\n",
       "      <td>1</td>\n",
       "      <td>2018</td>\n",
       "      <td>74.89</td>\n",
       "      <td>0.89</td>\n",
       "    </tr>\n",
       "    <tr>\n",
       "      <td>1</td>\n",
       "      <td>9393</td>\n",
       "      <td>0</td>\n",
       "      <td>0</td>\n",
       "      <td>True</td>\n",
       "      <td>10</td>\n",
       "      <td>2</td>\n",
       "      <td>1</td>\n",
       "      <td>2018</td>\n",
       "      <td>201703</td>\n",
       "      <td>54.0</td>\n",
       "      <td>...</td>\n",
       "      <td>NaN</td>\n",
       "      <td>NaN</td>\n",
       "      <td>NaN</td>\n",
       "      <td>NaN</td>\n",
       "      <td>NaN</td>\n",
       "      <td>2</td>\n",
       "      <td>1</td>\n",
       "      <td>2018</td>\n",
       "      <td>69.44</td>\n",
       "      <td>0.98</td>\n",
       "    </tr>\n",
       "    <tr>\n",
       "      <td>2</td>\n",
       "      <td>9200</td>\n",
       "      <td>0</td>\n",
       "      <td>1</td>\n",
       "      <td>True</td>\n",
       "      <td>24</td>\n",
       "      <td>2</td>\n",
       "      <td>1</td>\n",
       "      <td>2018</td>\n",
       "      <td>201611</td>\n",
       "      <td>35.0</td>\n",
       "      <td>...</td>\n",
       "      <td>NaN</td>\n",
       "      <td>NaN</td>\n",
       "      <td>NaN</td>\n",
       "      <td>NaN</td>\n",
       "      <td>NaN</td>\n",
       "      <td>2</td>\n",
       "      <td>1</td>\n",
       "      <td>2018</td>\n",
       "      <td>55.75</td>\n",
       "      <td>0.97</td>\n",
       "    </tr>\n",
       "    <tr>\n",
       "      <td>3</td>\n",
       "      <td>8562</td>\n",
       "      <td>0</td>\n",
       "      <td>0</td>\n",
       "      <td>True</td>\n",
       "      <td>19</td>\n",
       "      <td>2</td>\n",
       "      <td>1</td>\n",
       "      <td>2018</td>\n",
       "      <td>201606</td>\n",
       "      <td>NaN</td>\n",
       "      <td>...</td>\n",
       "      <td>2.0</td>\n",
       "      <td>1.0</td>\n",
       "      <td>2.0</td>\n",
       "      <td>1.0</td>\n",
       "      <td>1.0</td>\n",
       "      <td>2</td>\n",
       "      <td>1</td>\n",
       "      <td>2018</td>\n",
       "      <td>24.52</td>\n",
       "      <td>0.81</td>\n",
       "    </tr>\n",
       "    <tr>\n",
       "      <td>4</td>\n",
       "      <td>9961</td>\n",
       "      <td>0</td>\n",
       "      <td>0</td>\n",
       "      <td>True</td>\n",
       "      <td>19</td>\n",
       "      <td>2</td>\n",
       "      <td>1</td>\n",
       "      <td>2018</td>\n",
       "      <td>201606</td>\n",
       "      <td>NaN</td>\n",
       "      <td>...</td>\n",
       "      <td>1.0</td>\n",
       "      <td>2.0</td>\n",
       "      <td>1.0</td>\n",
       "      <td>2.0</td>\n",
       "      <td>1.0</td>\n",
       "      <td>2</td>\n",
       "      <td>1</td>\n",
       "      <td>2018</td>\n",
       "      <td>73.41</td>\n",
       "      <td>0.65</td>\n",
       "    </tr>\n",
       "  </tbody>\n",
       "</table>\n",
       "<p>5 rows × 334 columns</p>\n",
       "</div>"
      ],
      "text/plain": [
       "   PatientId  newbie  insuranceDummy  guarantorIsPatient  loyalty  \\\n",
       "0       9608       0               0                True       19   \n",
       "1       9393       0               0                True       10   \n",
       "2       9200       0               1                True       24   \n",
       "3       8562       0               0                True       19   \n",
       "4       9961       0               0                True       19   \n",
       "\n",
       "   DAY(AppointmentDate)  MONTH(AppointmentDate)  YEAR(AppointmentDate)  \\\n",
       "0                     2                       1                   2018   \n",
       "1                     2                       1                   2018   \n",
       "2                     2                       1                   2018   \n",
       "3                     2                       1                   2018   \n",
       "4                     2                       1                   2018   \n",
       "\n",
       "   patients.newpatientfile  patients.Age_npf  ...  \\\n",
       "0                   201606               NaN  ...   \n",
       "1                   201703              54.0  ...   \n",
       "2                   201611              35.0  ...   \n",
       "3                   201606               NaN  ...   \n",
       "4                   201606               NaN  ...   \n",
       "\n",
       "   apptTypes.NUM_UNIQUE(appointments.insurance)  \\\n",
       "0                                           NaN   \n",
       "1                                           NaN   \n",
       "2                                           NaN   \n",
       "3                                           2.0   \n",
       "4                                           1.0   \n",
       "\n",
       "   apptTypes.NUM_UNIQUE(appointments.provider)  \\\n",
       "0                                          NaN   \n",
       "1                                          NaN   \n",
       "2                                          NaN   \n",
       "3                                          1.0   \n",
       "4                                          2.0   \n",
       "\n",
       "   apptTypes.NUM_UNIQUE(appointments.source)  \\\n",
       "0                                        NaN   \n",
       "1                                        NaN   \n",
       "2                                        NaN   \n",
       "3                                        2.0   \n",
       "4                                        1.0   \n",
       "\n",
       "   apptTypes.NUM_UNIQUE(appointments.procedure)  \\\n",
       "0                                           NaN   \n",
       "1                                           NaN   \n",
       "2                                           NaN   \n",
       "3                                           1.0   \n",
       "4                                           2.0   \n",
       "\n",
       "   apptTypes.NUM_UNIQUE(appointments.weekday)  \\\n",
       "0                                         NaN   \n",
       "1                                         NaN   \n",
       "2                                         NaN   \n",
       "3                                         1.0   \n",
       "4                                         1.0   \n",
       "\n",
       "   apptTypes.DAY(first_appointments_time)  \\\n",
       "0                                       2   \n",
       "1                                       2   \n",
       "2                                       2   \n",
       "3                                       2   \n",
       "4                                       2   \n",
       "\n",
       "   apptTypes.MONTH(first_appointments_time)  \\\n",
       "0                                         1   \n",
       "1                                         1   \n",
       "2                                         1   \n",
       "3                                         1   \n",
       "4                                         1   \n",
       "\n",
       "   apptTypes.YEAR(first_appointments_time)  temperature  humidity  \n",
       "0                                     2018        74.89      0.89  \n",
       "1                                     2018        69.44      0.98  \n",
       "2                                     2018        55.75      0.97  \n",
       "3                                     2018        24.52      0.81  \n",
       "4                                     2018        73.41      0.65  \n",
       "\n",
       "[5 rows x 334 columns]"
      ]
     },
     "execution_count": 9,
     "metadata": {},
     "output_type": "execute_result"
    }
   ],
   "source": [
    "X.head()"
   ]
  },
  {
   "cell_type": "code",
   "execution_count": 13,
   "metadata": {},
   "outputs": [],
   "source": [
    "#split 2018 data into training and test sets, setting a seed for replication purposes\n",
    "cutoff_month = 8\n",
    "X_train, X_test, y_train, y_test = (X[X['MONTH(AppointmentDate)']<=cutoff_month],\n",
    "                                    X[X['MONTH(AppointmentDate)']>cutoff_month],\n",
    "                                    y[X['MONTH(AppointmentDate)']<=cutoff_month],\n",
    "                                    y[X['MONTH(AppointmentDate)']>cutoff_month])\n",
    "\n",
    "\n",
    "# Explicitly impute values for missing fields for RF and Log\n",
    "X_train, X_test = X_train.fillna(X_train.mean()), X_test.fillna(X_test.mean())\n",
    "X_train, X_test = X_train.fillna(0), X_test.fillna(0)\n",
    "\n"
   ]
  },
  {
   "cell_type": "code",
   "execution_count": 14,
   "metadata": {},
   "outputs": [
    {
     "name": "stderr",
     "output_type": "stream",
     "text": [
      "/Library/Frameworks/Python.framework/Versions/3.7/lib/python3.7/site-packages/sklearn/utils/validation.py:724: DataConversionWarning: A column-vector y was passed when a 1d array was expected. Please change the shape of y to (n_samples, ), for example using ravel().\n",
      "  y = column_or_1d(y, warn=True)\n"
     ]
    }
   ],
   "source": [
    "#logistic regression model\n",
    "model_log = LogisticRegression(solver=\"liblinear\", C=0.5, random_state=1).fit(X_train,y_train) ## train on data\n",
    "y_pred_model_log = model_log.predict_proba(X_test) #predict on test set"
   ]
  },
  {
   "cell_type": "code",
   "execution_count": 15,
   "metadata": {},
   "outputs": [
    {
     "name": "stderr",
     "output_type": "stream",
     "text": [
      "/Library/Frameworks/Python.framework/Versions/3.7/lib/python3.7/site-packages/ipykernel_launcher.py:3: DataConversionWarning: A column-vector y was passed when a 1d array was expected. Please change the shape of y to (n_samples,), for example using ravel().\n",
      "  This is separate from the ipykernel package so we can avoid doing imports until\n"
     ]
    }
   ],
   "source": [
    "from sklearn.ensemble import RandomForestClassifier\n",
    "#random forest model\n",
    "model_rf = RandomForestClassifier(n_estimators=1000, random_state=1).fit(X_train,y_train) ## train on data\n",
    "y_pred_model_rf = model_rf.predict_proba(X_test) #predict on test set"
   ]
  },
  {
   "cell_type": "code",
   "execution_count": 16,
   "metadata": {},
   "outputs": [],
   "source": [
    "##XGBoost\n",
    "from xgboost import XGBClassifier, plot_importance\n",
    "\n",
    "#XGB - automatically deals with missing values during training\n",
    "model_xgb = (XGBClassifier(n_estimators=50, max_depth = 3, eta = 0.1, subsample = 0.6, \n",
    "                           n_thread = 4, random_state=1, alpha = 0,\n",
    "                           tree_method = 'hist').fit(X_train,y_train.values.ravel()))\n",
    "y_pred_model_xgb = model_xgb.predict_proba(X_test)"
   ]
  },
  {
   "cell_type": "code",
   "execution_count": 17,
   "metadata": {},
   "outputs": [
    {
     "name": "stdout",
     "output_type": "stream",
     "text": [
      "The AUC score of the Log Reg model is: 0.6\n",
      "The AUC score of the RF model is: 0.62\n",
      "The AUC score of the XGB model is: 0.66\n"
     ]
    }
   ],
   "source": [
    "print(\"The AUC score of the Log Reg model is: \" + str(np.round(roc_auc_score(y_test,pd.DataFrame(y_pred_model_log)[1]),2)))\n",
    "print(\"The AUC score of the RF model is: \" + str(np.round(roc_auc_score(y_test,pd.DataFrame(y_pred_model_rf)[1]),2)))\n",
    "print(\"The AUC score of the XGB model is: \" + str(np.round(roc_auc_score(y_test,pd.DataFrame(y_pred_model_xgb)[1]),2)))\n"
   ]
  },
  {
   "cell_type": "markdown",
   "metadata": {},
   "source": [
    "### 3) Hyperparameter Tuning"
   ]
  },
  {
   "cell_type": "code",
   "execution_count": null,
   "metadata": {},
   "outputs": [],
   "source": [
    "score = 'roc_auc' #originally also roc_auc"
   ]
  },
  {
   "cell_type": "markdown",
   "metadata": {},
   "source": [
    "#### max depth"
   ]
  },
  {
   "cell_type": "code",
   "execution_count": null,
   "metadata": {},
   "outputs": [],
   "source": [
    "#max depth\n",
    "param_test2 = {'max_depth':range(5,45,10)}\n",
    "\n",
    "gsearch2 = GridSearchCV(estimator = XGBClassifier(n_estimators=200,max_depth = 5, eta = 0.15076, subsample = 0.62141,\n",
    "                                                  n_thread = 4, random_state=1, alpha = 0,tree_method = 'hist'),\n",
    "                        cv=5, param_grid = param_test2, scoring=score, iid=False)\n",
    "\n",
    "gsearch2.fit(X_train,y_train.values.ravel())\n",
    "gsearch2.best_params_, gsearch2.best_score_\n",
    "\n"
   ]
  },
  {
   "cell_type": "code",
   "execution_count": null,
   "metadata": {},
   "outputs": [],
   "source": [
    "#max depth fine tune\n",
    "param_test3 = {'max_depth':[1,2,3,4,5]}\n",
    "\n",
    "gsearch3 = GridSearchCV(estimator = XGBClassifier(n_estimators=200,max_depth = 5, eta = 0.15076, subsample = 0.62141,\n",
    "                                                  n_thread = 4, random_state=1, alpha = 0,tree_method = 'hist'),\n",
    "                        cv=5, param_grid = param_test3, scoring=score, iid=False)\n",
    "\n",
    "gsearch3.fit(X_train,y_train.values.ravel())\n",
    "gsearch3.best_params_, gsearch3.best_score_\n",
    "\n"
   ]
  },
  {
   "cell_type": "markdown",
   "metadata": {},
   "source": [
    "#### max estimators"
   ]
  },
  {
   "cell_type": "code",
   "execution_count": null,
   "metadata": {},
   "outputs": [],
   "source": [
    "#n_estimators\n",
    "param_test4 = {'n_estimators':range(200,1400,200)}\n",
    "\n",
    "gsearch4 = GridSearchCV(estimator = XGBClassifier(n_estimators=200,max_depth = 15, eta = 0.15, subsample = 0.05,\n",
    "                                                  n_thread = 4, random_state=1, alpha = 0,tree_method = 'hist'),\n",
    "                        cv=5, param_grid = param_test4, scoring=score, iid=False)\n",
    "\n",
    "gsearch4.fit(X_train,y_train.values.ravel())\n",
    "gsearch4.best_params_, gsearch4.best_score_\n"
   ]
  },
  {
   "cell_type": "code",
   "execution_count": null,
   "metadata": {},
   "outputs": [],
   "source": [
    "#n_estimators\n",
    "# param_test4 = {'n_estimators':[6,12,25, 50, 100,200]}\n",
    "\n",
    "# gsearch4 = GridSearchCV(estimator = XGBClassifier(n_estimators=200,max_depth = 2, eta = 0.15076, subsample = 0.62141,\n",
    "#                                                   n_thread = 4, random_state=1, alpha = 0,tree_method = 'hist'),\n",
    "#                         cv=5, param_grid = param_test4, scoring=score, iid=False)\n",
    "\n",
    "# gsearch4.fit(X_train,y_train.values.ravel())\n",
    "# gsearch4.best_params_, gsearch4.best_score_"
   ]
  },
  {
   "cell_type": "markdown",
   "metadata": {},
   "source": [
    "#### eta"
   ]
  },
  {
   "cell_type": "code",
   "execution_count": null,
   "metadata": {},
   "outputs": [],
   "source": [
    "#eta\n",
    "param_test5 = {'eta':[i/20.0 for i in range(1,8)]}\n",
    "\n",
    "gsearch5 = GridSearchCV(estimator = XGBClassifier(n_estimators=200,max_depth = 2, eta = 0.15076, subsample = 0.62141,\n",
    "                                                  n_thread = 4, random_state=1, alpha = 0,tree_method = 'hist'),\n",
    "                        cv=5, param_grid = param_test5, scoring=score, iid=False)\n",
    "\n",
    "gsearch5.fit(X_train,y_train.values.ravel())\n",
    "gsearch5.best_params_, gsearch5.best_score_\n"
   ]
  },
  {
   "cell_type": "markdown",
   "metadata": {},
   "source": [
    "#### subsample"
   ]
  },
  {
   "cell_type": "code",
   "execution_count": null,
   "metadata": {},
   "outputs": [],
   "source": [
    "#subsample\n",
    "param_test6 = {'subsample':[i/10.0 for i in range(1,9,2)]}\n",
    "\n",
    "gsearch6 = GridSearchCV(estimator = XGBClassifier(n_estimators=200,max_depth = 2, eta = 0.05, subsample = 0.62141,\n",
    "                                                  n_thread = 4, random_state=1, alpha = 0,tree_method = 'hist'),\n",
    "                        cv=5, param_grid = param_test6, scoring=score, iid=False)\n",
    "\n",
    "gsearch6.fit(X_train,y_train.values.ravel())\n",
    "gsearch6.best_params_, gsearch6.best_score_\n"
   ]
  },
  {
   "cell_type": "markdown",
   "metadata": {},
   "source": [
    "#### alpha "
   ]
  },
  {
   "cell_type": "code",
   "execution_count": null,
   "metadata": {},
   "outputs": [],
   "source": [
    "#alpha rate\n",
    "param_test1 = {'alpha':[0, 1e-2, 0.1, 1, 10, 100, 1000]}\n",
    "\n",
    "gsearch1 = GridSearchCV(estimator = XGBClassifier(n_estimators=800,max_depth = 3, eta = 0.05, subsample = 0.5,\n",
    "                                                  n_thread = 4, random_state=1, alpha = 0.5,tree_method = 'hist'),\n",
    "                        cv=5, param_grid = param_test1, scoring=score, iid=False)\n",
    "\n",
    "gsearch1.fit(X_train,y_train.values.ravel())\n",
    "gsearch1.best_params_, gsearch1.best_score_\n",
    "##alpha of 0 is best"
   ]
  },
  {
   "cell_type": "markdown",
   "metadata": {},
   "source": [
    "#### gamma"
   ]
  },
  {
   "cell_type": "code",
   "execution_count": 438,
   "metadata": {},
   "outputs": [
    {
     "data": {
      "text/plain": [
       "({'gamma': 16.0}, 0.46834822660837644)"
      ]
     },
     "execution_count": 438,
     "metadata": {},
     "output_type": "execute_result"
    }
   ],
   "source": [
    "import numpy as np\n",
    "#gamma rate\n",
    "param_test7 = {'gamma':[0.0, 0.5, 1.0, 2.0, 4.0, 8.0, 16.0]}\n",
    "\n",
    "gsearch7 = GridSearchCV(estimator = XGBClassifier(n_estimators=200,max_depth = 2, eta = 0.05, subsample = 0.3,\n",
    "                                                  n_thread = 4, random_state=1, alpha = 0, gamma=0,tree_method = 'hist'),\n",
    "                        cv=5, param_grid = param_test7, scoring=score, iid=False)\n",
    "\n",
    "gsearch7.fit(X_train,y_train.values.ravel())\n",
    "gsearch7.best_params_, gsearch7.best_score_\n"
   ]
  },
  {
   "cell_type": "code",
   "execution_count": null,
   "metadata": {},
   "outputs": [],
   "source": []
  },
  {
   "cell_type": "code",
   "execution_count": 439,
   "metadata": {},
   "outputs": [
    {
     "data": {
      "text/plain": [
       "({'gamma': 16.0}, 0.46834822660837644)"
      ]
     },
     "execution_count": 439,
     "metadata": {},
     "output_type": "execute_result"
    }
   ],
   "source": [
    "#gamma rate\n",
    "param_test7 = {'gamma':[16.0, 32.0]}\n",
    "gsearch7 = GridSearchCV(estimator = XGBClassifier(n_estimators=1400, max_depth = 3, eta = 0.05, subsample = 0.7, \n",
    "                           n_thread = 4, random_state=1, alpha = 0,gamma =25,\n",
    "                           tree_method = 'hist'),\n",
    "                        cv=5, param_grid = param_test7, scoring=score, iid=False)\n",
    "\n",
    "gsearch7.fit(X_train,y_train.values.ravel())\n",
    "gsearch7.best_params_, gsearch7.best_score_"
   ]
  },
  {
   "cell_type": "markdown",
   "metadata": {},
   "source": [
    "#### all together"
   ]
  },
  {
   "cell_type": "code",
   "execution_count": null,
   "metadata": {},
   "outputs": [],
   "source": [
    "param_test8 = {'gamma':[np.arange(0, 10, 0.5)],\n",
    "               'max_depth':[range(5,30,5)],\n",
    "               'n_estimators':[range(200,2000,200)],\n",
    "               'eta':[i/20.0 for i in range(1,6)],\n",
    "               'subsample':[i/10.0 for i in range(1,9,2)],\n",
    "              }\n",
    "eval_set = [X_test, y_test.values.ravel()]\n",
    "gsearch8 = GridSearchCV(estimator = XGBClassifier(n_estimators=1400,max_depth = , eta = 0.05, subsample = 0.3,\n",
    "                                                  n_thread = 4, random_state=1, alpha = 0, gamma=0,tree_method = 'hist',eval_metric='auc', eval_set=eval_set,early_stopping_rounds=10),\n",
    "                        cv=5, param_grid = param_test8, scoring='roc_auc', iid=False)\n",
    "\n",
    "\n",
    "gsearch8.fit(X_train,y_train.values.ravel())\n",
    "gsearch8.best_params_, gsearch8.best_score_\n",
    "#parameters for roc_auc without weather\n",
    "# ({'eta': 0.05,\n",
    "#   'gamma': 0.0,\n",
    "#   'max_depth': 1,\n",
    "#   'n_estimators': 25,\n",
    "#   'subsample': 0.5},\n",
    "#  0.582821084090225)\n"
   ]
  },
  {
   "cell_type": "code",
   "execution_count": 35,
   "metadata": {},
   "outputs": [
    {
     "name": "stdout",
     "output_type": "stream",
     "text": [
      "The AUC score of the XGB model is: 0.7\n"
     ]
    }
   ],
   "source": [
    "##XGBoost with updated stuff\n",
    "from xgboost import XGBClassifier, plot_importance\n",
    "\n",
    "eval_set = [(X_train, y_train.values.ravel()), (X_test, y_test.values.ravel())]\n",
    "\n",
    "#XGB - automatically deals with missing values during training\n",
    "model_xgb_PT = XGBClassifier(n_estimators=1400, max_depth = 5, eta = 0.05, subsample = 0.7, \n",
    "                           n_thread = 4, random_state=1, alpha = 0,gamma =10,objective= 'binary:logistic',\n",
    "                           tree_method = 'hist').fit(X_train, y_train.values.ravel(), \n",
    "                                                     eval_metric=[\"error\", \"logloss\",\"auc\"], eval_set=eval_set,early_stopping_rounds=10, verbose=False)\n",
    "y_pred_model_xgb_PT = model_xgb_PT.predict_proba(X_test)\n",
    "print(\"The AUC score of the XGB model is: \" + str(np.round(roc_auc_score(y_test,pd.DataFrame(y_pred_model_xgb_PT)[1]),2)))\n"
   ]
  },
  {
   "cell_type": "markdown",
   "metadata": {},
   "source": [
    "### 4) Visualizing Model \n"
   ]
  },
  {
   "cell_type": "code",
   "execution_count": 37,
   "metadata": {},
   "outputs": [
    {
     "data": {
      "image/png": "[encoded data removed]",
      "text/plain": [
       "<Figure size 432x288 with 1 Axes>"
      ]
     },
     "metadata": {
      "needs_background": "light"
     },
     "output_type": "display_data"
    }
   ],
   "source": [
    "from matplotlib import pyplot\n",
    "\n",
    "# retrieve performance metrics\n",
    "results = model_xgb_PT.evals_result()\n",
    "epochs = len(results['validation_0']['error'])\n",
    "x_axis = range(0, epochs)\n",
    "# plot log loss\n",
    "fig, ax = pyplot.subplots()\n",
    "ax.plot(x_axis, results['validation_0']['logloss'], label='Train')\n",
    "ax.plot(x_axis, results['validation_1']['logloss'], label='Test')\n",
    "ax.legend()\n",
    "pyplot.ylabel('Log Loss')\n",
    "pyplot.title('XGBoost Log Loss')\n",
    "pyplot.show()"
   ]
  },
  {
   "cell_type": "code",
   "execution_count": 38,
   "metadata": {},
   "outputs": [
    {
     "name": "stderr",
     "output_type": "stream",
     "text": [
      "/Library/Frameworks/Python.framework/Versions/3.7/lib/python3.7/site-packages/sklearn/linear_model/ridge.py:909: DataConversionWarning: A column-vector y was passed when a 1d array was expected. Please change the shape of y to (n_samples, ), for example using ravel().\n",
      "  y = column_or_1d(y, warn=True)\n"
     ]
    },
    {
     "data": {
      "image/png": "[encoded data removed]",
      "text/plain": [
       "<Figure size 576x396 with 1 Axes>"
      ]
     },
     "metadata": {},
     "output_type": "display_data"
    },
    {
     "data": {
      "text/plain": [
       "<matplotlib.axes._subplots.AxesSubplot at 0x128670e50>"
      ]
     },
     "execution_count": 38,
     "metadata": {},
     "output_type": "execute_result"
    }
   ],
   "source": [
    "from sklearn.linear_model import RidgeClassifier\n",
    "from sklearn.model_selection import train_test_split as tts\n",
    "from yellowbrick.classifier import PrecisionRecallCurve\n",
    "from yellowbrick.datasets import load_spam\n",
    "\n",
    "# Create the visualizer, fit, score, and poof it\n",
    "viz = PrecisionRecallCurve(RidgeClassifier())\n",
    "viz.fit(X_train, y_train)\n",
    "viz.score(X_test, y_test)\n",
    "viz.poof()"
   ]
  },
  {
   "cell_type": "code",
   "execution_count": 81,
   "metadata": {},
   "outputs": [
    {
     "data": {
      "image/png": "[encoded data removed]",
      "text/plain": [
       "<Figure size 576x576 with 1 Axes>"
      ]
     },
     "metadata": {},
     "output_type": "display_data"
    }
   ],
   "source": [
    "##comparing LOG, XGB, RF\n",
    "\n",
    "import matplotlib.pyplot as plt\n",
    "from xgboost import XGBClassifier, plot_importance\n",
    "\n",
    "##tableau colors\n",
    "tableau20 = [(31, 119, 180), (174, 199, 232), (255, 127, 14), (255, 187, 120),    \n",
    "             (44, 160, 44), (152, 223, 138), (214, 39, 40), (255, 152, 150),    \n",
    "             (148, 103, 189), (197, 176, 213), (140, 86, 75), (196, 156, 148),    \n",
    "             (227, 119, 194), (247, 182, 210), (127, 127, 127), (199, 199, 199),    \n",
    "             (188, 189, 34), (219, 219, 141), (23, 190, 207), (158, 218, 229)]    \n",
    "\n",
    "for i in range(len(tableau20)):    \n",
    "    r, g, b = tableau20[i]    \n",
    "    tableau20[i] = (r / 255., g / 255., b / 255.)    \n",
    "\n",
    "plt.style.use('dark_background') # this turns the whole figure (and following figures) into dark mode\n",
    "\n",
    "fig, ax = pyplot.subplots(figsize=(8,8))\n",
    "# ax.spines[\"top\"].set_visible(False)    \n",
    "# ax.spines[\"bottom\"].set_visible(False)    \n",
    "# ax.spines[\"right\"].set_visible(False)    \n",
    "# ax.spines[\"left\"].set_visible(False)    \n",
    "\n",
    "# Hide grid lines\n",
    "ax.grid(False)\n",
    "\n",
    "##calculate false positive and true positive rates\n",
    "fpr, tpr,_=roc_curve(y_test,pd.DataFrame(y_pred_model_log)[1],drop_intermediate=False)\n",
    "fpr_2, tpr_2,_=roc_curve(y_test,pd.DataFrame(y_pred_model_xgb_PT)[1],drop_intermediate=False)\n",
    "fpr_3, tpr_3,_=roc_curve(y_test,pd.DataFrame(y_pred_model_rf)[1],drop_intermediate=False)\n",
    "\n",
    "\n",
    "# plot ROC and reference\n",
    "plt.plot([0, 1], [0, 1], color='white', lw=4, linestyle='--')\n",
    "plt.plot(fpr, tpr, color=tableau20[14], lw=4, label='LOG')\n",
    "plt.plot(fpr_2, tpr_2, color=tableau20[4], lw=4, label='XGB')\n",
    "plt.plot(fpr_3, tpr_3, color=tableau20[0], lw=4, label='RF')\n",
    "\n",
    "##Title and label\n",
    "plt.xlabel('FPR', fontsize = 20)\n",
    "plt.ylabel('TPR', fontsize =20)\n",
    "plt.legend(prop={'size': 20})\n",
    "plt.xticks(fontsize=20)\n",
    "plt.yticks(fontsize=20)\n",
    "\n",
    "\n",
    "plt.savefig('data/MVP_ROCcurve.png', transparent=True)\n",
    "plt.show()"
   ]
  },
  {
   "cell_type": "code",
   "execution_count": 5,
   "metadata": {},
   "outputs": [
    {
     "ename": "NameError",
     "evalue": "name 'model_xgb_PT' is not defined",
     "output_type": "error",
     "traceback": [
      "\u001b[0;31m---------------------------------------------------------------------------\u001b[0m",
      "\u001b[0;31mNameError\u001b[0m                                 Traceback (most recent call last)",
      "\u001b[0;32m<ipython-input-5-30a7b44ae97b>\u001b[0m in \u001b[0;36m<module>\u001b[0;34m\u001b[0m\n\u001b[1;32m      1\u001b[0m \u001b[0;32mimport\u001b[0m \u001b[0mmatplotlib\u001b[0m\u001b[0;34m.\u001b[0m\u001b[0mpyplot\u001b[0m \u001b[0;32mas\u001b[0m \u001b[0mplt\u001b[0m\u001b[0;34m\u001b[0m\u001b[0;34m\u001b[0m\u001b[0m\n\u001b[1;32m      2\u001b[0m \u001b[0;34m\u001b[0m\u001b[0m\n\u001b[0;32m----> 3\u001b[0;31m \u001b[0my_pred_model_xgb_train\u001b[0m \u001b[0;34m=\u001b[0m \u001b[0mmodel_xgb_PT\u001b[0m\u001b[0;34m.\u001b[0m\u001b[0mpredict_proba\u001b[0m\u001b[0;34m(\u001b[0m\u001b[0mX_train\u001b[0m\u001b[0;34m)\u001b[0m\u001b[0;34m\u001b[0m\u001b[0;34m\u001b[0m\u001b[0m\n\u001b[0m\u001b[1;32m      4\u001b[0m \u001b[0;34m\u001b[0m\u001b[0m\n\u001b[1;32m      5\u001b[0m \u001b[0mfig\u001b[0m\u001b[0;34m,\u001b[0m \u001b[0max\u001b[0m \u001b[0;34m=\u001b[0m \u001b[0mpyplot\u001b[0m\u001b[0;34m.\u001b[0m\u001b[0msubplots\u001b[0m\u001b[0;34m(\u001b[0m\u001b[0mfigsize\u001b[0m\u001b[0;34m=\u001b[0m\u001b[0;34m(\u001b[0m\u001b[0;36m8\u001b[0m\u001b[0;34m,\u001b[0m\u001b[0;36m8\u001b[0m\u001b[0;34m)\u001b[0m\u001b[0;34m)\u001b[0m\u001b[0;34m\u001b[0m\u001b[0;34m\u001b[0m\u001b[0m\n",
      "\u001b[0;31mNameError\u001b[0m: name 'model_xgb_PT' is not defined"
     ]
    }
   ],
   "source": [
    "import matplotlib.pyplot as plt\n",
    "\n",
    "y_pred_model_xgb_train = model_xgb_PT.predict_proba(X_train)\n",
    "\n",
    "fig, ax = pyplot.subplots(figsize=(8,8))\n",
    "##comparing ROC for XGB train and test\n",
    "fpr_2, tpr_2,_=roc_curve(y_test,pd.DataFrame(y_pred_model_xgb_PT)[1],drop_intermediate=False)\n",
    "fpr_train, tpr_train,_=roc_curve(y_train,pd.DataFrame(y_pred_model_xgb_train)[1],drop_intermediate=False)\n",
    "\n",
    "\n",
    "plt.plot([0, 1], [0, 1], color='blue', lw=2, linestyle='--')\n",
    "plt.plot(fpr_train, tpr_train, color='blue', lw=2, label='XGB_train')\n",
    "plt.plot(fpr_2, tpr_2, color='green', lw=2, label='XGB_test')\n",
    "\n",
    "\n",
    "# Hide grid lines\n",
    "ax.grid(False)\n",
    "\n",
    "##Title and label\n",
    "\n",
    "plt.xlabel('FPR')\n",
    "plt.ylabel('TPR')\n",
    "plt.legend()\n",
    "plt.title('ROC curve')\n",
    "\n",
    "\n",
    "plt.savefig(cwd + '/data/test_vs_train.png')\n",
    "plt.show()"
   ]
  },
  {
   "cell_type": "code",
   "execution_count": 43,
   "metadata": {},
   "outputs": [
    {
     "ename": "SyntaxError",
     "evalue": "invalid syntax (<ipython-input-43-e5fb8d09407e>, line 3)",
     "output_type": "error",
     "traceback": [
      "\u001b[0;36m  File \u001b[0;32m\"<ipython-input-43-e5fb8d09407e>\"\u001b[0;36m, line \u001b[0;32m3\u001b[0m\n\u001b[0;31m    plt.title('MVP_Feature importance')\u001b[0m\n\u001b[0m      ^\u001b[0m\n\u001b[0;31mSyntaxError\u001b[0m\u001b[0;31m:\u001b[0m invalid syntax\n"
     ]
    }
   ],
   "source": [
    "\n",
    "fig, ax = plt.subplots( #figsize=(10, 200))\n",
    "plot_importance(model_xgb_PT, ax=ax)\n",
    "plt.title('MVP_Feature importance')\n",
    "\n",
    "plt.savefig('/Users/aishagharsalli/Documents/dental_predictive_tools/02-20-2019 data pull/figures/MVP_Feature_importance.png')\n",
    "plt.show()"
   ]
  },
  {
   "cell_type": "markdown",
   "metadata": {},
   "source": [
    "#### percentage vs no show"
   ]
  },
  {
   "cell_type": "code",
   "execution_count": 62,
   "metadata": {},
   "outputs": [],
   "source": [
    "y_pred_model_xgb_train = model_xgb_PT.predict_proba(X_train)\n",
    "train_percent_noshow = pd.DataFrame({'percent_noshow': y_pred_model_xgb_train[:,1]})"
   ]
  },
  {
   "cell_type": "code",
   "execution_count": 63,
   "metadata": {},
   "outputs": [
    {
     "data": {
      "text/plain": [
       "True"
      ]
     },
     "execution_count": 63,
     "metadata": {},
     "output_type": "execute_result"
    }
   ],
   "source": [
    "##are all indexes the same\n",
    "same_index = y_train.index == X_train.index\n",
    "same_index.all()"
   ]
  },
  {
   "cell_type": "code",
   "execution_count": 64,
   "metadata": {},
   "outputs": [
    {
     "data": {
      "text/html": [
       "<div>\n",
       "<style scoped>\n",
       "    .dataframe tbody tr th:only-of-type {\n",
       "        vertical-align: middle;\n",
       "    }\n",
       "\n",
       "    .dataframe tbody tr th {\n",
       "        vertical-align: top;\n",
       "    }\n",
       "\n",
       "    .dataframe thead th {\n",
       "        text-align: right;\n",
       "    }\n",
       "</style>\n",
       "<table border=\"1\" class=\"dataframe\">\n",
       "  <thead>\n",
       "    <tr style=\"text-align: right;\">\n",
       "      <th></th>\n",
       "      <th>PatientId</th>\n",
       "      <th>noshow</th>\n",
       "      <th>percent_noshow</th>\n",
       "    </tr>\n",
       "  </thead>\n",
       "  <tbody>\n",
       "    <tr>\n",
       "      <td>0</td>\n",
       "      <td>9608</td>\n",
       "      <td>0</td>\n",
       "      <td>0.116585</td>\n",
       "    </tr>\n",
       "    <tr>\n",
       "      <td>1</td>\n",
       "      <td>9393</td>\n",
       "      <td>0</td>\n",
       "      <td>0.116585</td>\n",
       "    </tr>\n",
       "    <tr>\n",
       "      <td>2</td>\n",
       "      <td>9200</td>\n",
       "      <td>0</td>\n",
       "      <td>0.116585</td>\n",
       "    </tr>\n",
       "    <tr>\n",
       "      <td>3</td>\n",
       "      <td>8562</td>\n",
       "      <td>0</td>\n",
       "      <td>0.086593</td>\n",
       "    </tr>\n",
       "    <tr>\n",
       "      <td>4</td>\n",
       "      <td>9961</td>\n",
       "      <td>0</td>\n",
       "      <td>0.086593</td>\n",
       "    </tr>\n",
       "    <tr>\n",
       "      <td>...</td>\n",
       "      <td>...</td>\n",
       "      <td>...</td>\n",
       "      <td>...</td>\n",
       "    </tr>\n",
       "    <tr>\n",
       "      <td>3656</td>\n",
       "      <td>7685</td>\n",
       "      <td>0</td>\n",
       "      <td>0.128127</td>\n",
       "    </tr>\n",
       "    <tr>\n",
       "      <td>3657</td>\n",
       "      <td>4515</td>\n",
       "      <td>0</td>\n",
       "      <td>0.161193</td>\n",
       "    </tr>\n",
       "    <tr>\n",
       "      <td>3658</td>\n",
       "      <td>6830</td>\n",
       "      <td>0</td>\n",
       "      <td>0.180993</td>\n",
       "    </tr>\n",
       "    <tr>\n",
       "      <td>3659</td>\n",
       "      <td>1390</td>\n",
       "      <td>1</td>\n",
       "      <td>0.165221</td>\n",
       "    </tr>\n",
       "    <tr>\n",
       "      <td>3660</td>\n",
       "      <td>10284</td>\n",
       "      <td>1</td>\n",
       "      <td>0.213332</td>\n",
       "    </tr>\n",
       "  </tbody>\n",
       "</table>\n",
       "<p>3661 rows × 3 columns</p>\n",
       "</div>"
      ],
      "text/plain": [
       "      PatientId  noshow  percent_noshow\n",
       "0          9608       0        0.116585\n",
       "1          9393       0        0.116585\n",
       "2          9200       0        0.116585\n",
       "3          8562       0        0.086593\n",
       "4          9961       0        0.086593\n",
       "...         ...     ...             ...\n",
       "3656       7685       0        0.128127\n",
       "3657       4515       0        0.161193\n",
       "3658       6830       0        0.180993\n",
       "3659       1390       1        0.165221\n",
       "3660      10284       1        0.213332\n",
       "\n",
       "[3661 rows x 3 columns]"
      ]
     },
     "execution_count": 64,
     "metadata": {},
     "output_type": "execute_result"
    }
   ],
   "source": [
    "#sanity check. where to call it no shows?\n",
    "table = pd.concat([X_train['PatientId'].reset_index(drop=True), y_train.reset_index(drop=True), train_percent_noshow.reset_index(drop=True)], axis=1)\n",
    "table"
   ]
  },
  {
   "cell_type": "code",
   "execution_count": 65,
   "metadata": {},
   "outputs": [
    {
     "data": {
      "image/png": "[encoded data removed]",
      "text/plain": [
       "<Figure size 576x396 with 1 Axes>"
      ]
     },
     "metadata": {},
     "output_type": "display_data"
    }
   ],
   "source": [
    "##training data\n",
    "import seaborn as sns; sns.set(color_codes=True)\n",
    "ax = sns.regplot(x=\"percent_noshow\", y=\"noshow\",logistic=True, data=table)\n",
    "fig = ax.get_figure()\n",
    "fig.savefig(\"percent_noshow_logistic.png\")"
   ]
  },
  {
   "cell_type": "code",
   "execution_count": 66,
   "metadata": {},
   "outputs": [
    {
     "data": {
      "image/png": "[encoded data removed]",
      "text/plain": [
       "<Figure size 576x396 with 1 Axes>"
      ]
     },
     "metadata": {},
     "output_type": "display_data"
    }
   ],
   "source": [
    "##test_data\n",
    "percent_noshow = pd.DataFrame({'percent_noshow': y_pred_model_xgb_PT[:,1]})\n",
    "test_table = pd.concat([X_test['PatientId'].reset_index(drop=True), y_test.reset_index(drop=True), percent_noshow.reset_index(drop=True)], axis=1)\n",
    "\n",
    "test_logistic = sns.regplot(x=\"percent_noshow\", y=\"noshow\",logistic=True, data=test_table)\n",
    "test_logistic = test_logistic.get_figure()\n",
    "test_logistic.savefig(\"percent_noshow_logistic_test.png\")"
   ]
  },
  {
   "cell_type": "code",
   "execution_count": 67,
   "metadata": {
    "scrolled": true
   },
   "outputs": [
    {
     "data": {
      "text/html": [
       "<div>\n",
       "<style scoped>\n",
       "    .dataframe tbody tr th:only-of-type {\n",
       "        vertical-align: middle;\n",
       "    }\n",
       "\n",
       "    .dataframe tbody tr th {\n",
       "        vertical-align: top;\n",
       "    }\n",
       "\n",
       "    .dataframe thead th {\n",
       "        text-align: right;\n",
       "    }\n",
       "</style>\n",
       "<table border=\"1\" class=\"dataframe\">\n",
       "  <thead>\n",
       "    <tr style=\"text-align: right;\">\n",
       "      <th>percent_noshow</th>\n",
       "      <th>0.184371</th>\n",
       "      <th>0.184452</th>\n",
       "      <th>0.184616</th>\n",
       "      <th>0.185175</th>\n",
       "      <th>0.185484</th>\n",
       "      <th>0.185565</th>\n",
       "      <th>0.185861</th>\n",
       "      <th>0.186117</th>\n",
       "      <th>0.186205</th>\n",
       "      <th>0.186929</th>\n",
       "      <th>...</th>\n",
       "      <th>0.265392</th>\n",
       "      <th>0.265434</th>\n",
       "      <th>0.266877</th>\n",
       "      <th>0.268834</th>\n",
       "      <th>0.274672</th>\n",
       "      <th>0.276007</th>\n",
       "      <th>0.284726</th>\n",
       "      <th>0.294488</th>\n",
       "      <th>0.300806</th>\n",
       "      <th>0.311949</th>\n",
       "    </tr>\n",
       "    <tr>\n",
       "      <th>noshow</th>\n",
       "      <th></th>\n",
       "      <th></th>\n",
       "      <th></th>\n",
       "      <th></th>\n",
       "      <th></th>\n",
       "      <th></th>\n",
       "      <th></th>\n",
       "      <th></th>\n",
       "      <th></th>\n",
       "      <th></th>\n",
       "      <th></th>\n",
       "      <th></th>\n",
       "      <th></th>\n",
       "      <th></th>\n",
       "      <th></th>\n",
       "      <th></th>\n",
       "      <th></th>\n",
       "      <th></th>\n",
       "      <th></th>\n",
       "      <th></th>\n",
       "      <th></th>\n",
       "    </tr>\n",
       "  </thead>\n",
       "  <tbody>\n",
       "    <tr>\n",
       "      <td>0</td>\n",
       "      <td>0</td>\n",
       "      <td>0</td>\n",
       "      <td>0</td>\n",
       "      <td>1</td>\n",
       "      <td>9</td>\n",
       "      <td>3</td>\n",
       "      <td>1</td>\n",
       "      <td>8</td>\n",
       "      <td>1</td>\n",
       "      <td>10</td>\n",
       "      <td>...</td>\n",
       "      <td>5</td>\n",
       "      <td>0</td>\n",
       "      <td>1</td>\n",
       "      <td>1</td>\n",
       "      <td>1</td>\n",
       "      <td>1</td>\n",
       "      <td>4</td>\n",
       "      <td>2</td>\n",
       "      <td>1</td>\n",
       "      <td>0</td>\n",
       "    </tr>\n",
       "    <tr>\n",
       "      <td>1</td>\n",
       "      <td>1</td>\n",
       "      <td>1</td>\n",
       "      <td>1</td>\n",
       "      <td>0</td>\n",
       "      <td>5</td>\n",
       "      <td>0</td>\n",
       "      <td>0</td>\n",
       "      <td>1</td>\n",
       "      <td>0</td>\n",
       "      <td>0</td>\n",
       "      <td>...</td>\n",
       "      <td>4</td>\n",
       "      <td>1</td>\n",
       "      <td>0</td>\n",
       "      <td>0</td>\n",
       "      <td>0</td>\n",
       "      <td>0</td>\n",
       "      <td>4</td>\n",
       "      <td>0</td>\n",
       "      <td>0</td>\n",
       "      <td>1</td>\n",
       "    </tr>\n",
       "  </tbody>\n",
       "</table>\n",
       "<p>2 rows × 100 columns</p>\n",
       "</div>"
      ],
      "text/plain": [
       "percent_noshow  0.184371  0.184452  0.184616  0.185175  0.185484  0.185565  \\\n",
       "noshow                                                                       \n",
       "0                      0         0         0         1         9         3   \n",
       "1                      1         1         1         0         5         0   \n",
       "\n",
       "percent_noshow  0.185861  0.186117  0.186205  0.186929  ...  0.265392  \\\n",
       "noshow                                                  ...             \n",
       "0                      1         8         1        10  ...         5   \n",
       "1                      0         1         0         0  ...         4   \n",
       "\n",
       "percent_noshow  0.265434  0.266877  0.268834  0.274672  0.276007  0.284726  \\\n",
       "noshow                                                                       \n",
       "0                      0         1         1         1         1         4   \n",
       "1                      1         0         0         0         0         4   \n",
       "\n",
       "percent_noshow  0.294488  0.300806  0.311949  \n",
       "noshow                                        \n",
       "0                      2         1         0  \n",
       "1                      0         0         1  \n",
       "\n",
       "[2 rows x 100 columns]"
      ]
     },
     "execution_count": 67,
     "metadata": {},
     "output_type": "execute_result"
    }
   ],
   "source": [
    "no_show_likely = test_table[test_table['percent_noshow']>0.18407562]\n",
    "no_show_unlikely = test_table[test_table['percent_noshow']<0.18407562]\n",
    "pd.crosstab(no_show_likely.noshow, no_show_likely.percent_noshow)"
   ]
  },
  {
   "cell_type": "code",
   "execution_count": 72,
   "metadata": {},
   "outputs": [
    {
     "data": {
      "text/plain": [
       "array([0.08664061, 0.09114677, 0.09565293, 0.10015909, 0.10466525,\n",
       "       0.10917141, 0.11367757, 0.11818373, 0.12268988, 0.12719604,\n",
       "       0.1317022 , 0.13620836, 0.14071452, 0.14522068, 0.14972684,\n",
       "       0.154233  , 0.15873916, 0.16324532, 0.16775148, 0.17225763,\n",
       "       0.17676379, 0.18126995, 0.18577611, 0.19028227, 0.19478843,\n",
       "       0.19929459, 0.20380075, 0.20830691, 0.21281307, 0.21731923,\n",
       "       0.22182539, 0.22633154, 0.2308377 , 0.23534386, 0.23985002,\n",
       "       0.24435618, 0.24886234, 0.2533685 , 0.25787466, 0.26238082,\n",
       "       0.26688698, 0.27139314, 0.27589929, 0.28040545, 0.28491161,\n",
       "       0.28941777, 0.29392393, 0.29843009, 0.30293625, 0.30744241,\n",
       "       0.31194857])"
      ]
     },
     "execution_count": 72,
     "metadata": {},
     "output_type": "execute_result"
    }
   ],
   "source": [
    "def minmax(val_list):\n",
    "    min_val = min(val_list)\n",
    "    max_val = max(val_list)\n",
    "\n",
    "    return (min_val, max_val)\n",
    "\n",
    "gap = minmax(test_table.percent_noshow)\n",
    "step_size = (gap[1]-gap[0])/50\n",
    "\n",
    "cutoffs = np.arange(gap[0], gap[1], step_size)\n",
    "cutoffs"
   ]
  },
  {
   "cell_type": "code",
   "execution_count": 73,
   "metadata": {},
   "outputs": [
    {
     "data": {
      "text/plain": [
       "0.9007731958762887"
      ]
     },
     "execution_count": 73,
     "metadata": {},
     "output_type": "execute_result"
    }
   ],
   "source": [
    "no_show_unlikely[no_show_unlikely.noshow ==0].shape[0] /no_show_unlikely.shape[0]\n"
   ]
  },
  {
   "cell_type": "code",
   "execution_count": 74,
   "metadata": {},
   "outputs": [
    {
     "data": {
      "text/plain": [
       "0.26744186046511625"
      ]
     },
     "execution_count": 74,
     "metadata": {},
     "output_type": "execute_result"
    }
   ],
   "source": [
    "no_show_likely[no_show_likely.noshow ==1].shape[0] /no_show_likely.shape[0]"
   ]
  },
  {
   "cell_type": "code",
   "execution_count": 75,
   "metadata": {},
   "outputs": [
    {
     "ename": "ZeroDivisionError",
     "evalue": "division by zero",
     "output_type": "error",
     "traceback": [
      "\u001b[0;31m---------------------------------------------------------------------------\u001b[0m",
      "\u001b[0;31mZeroDivisionError\u001b[0m                         Traceback (most recent call last)",
      "\u001b[0;32m<ipython-input-75-cdfd31659372>\u001b[0m in \u001b[0;36m<module>\u001b[0;34m\u001b[0m\n\u001b[1;32m      3\u001b[0m     \u001b[0mno_show_likely\u001b[0m \u001b[0;34m=\u001b[0m \u001b[0mtest_table\u001b[0m\u001b[0;34m[\u001b[0m\u001b[0mtest_table\u001b[0m\u001b[0;34m[\u001b[0m\u001b[0;34m'percent_noshow'\u001b[0m\u001b[0;34m]\u001b[0m\u001b[0;34m>\u001b[0m\u001b[0mi\u001b[0m\u001b[0;34m]\u001b[0m\u001b[0;34m\u001b[0m\u001b[0;34m\u001b[0m\u001b[0m\n\u001b[1;32m      4\u001b[0m     \u001b[0mno_show_unlikely\u001b[0m \u001b[0;34m=\u001b[0m \u001b[0mtest_table\u001b[0m\u001b[0;34m[\u001b[0m\u001b[0mtest_table\u001b[0m\u001b[0;34m[\u001b[0m\u001b[0;34m'percent_noshow'\u001b[0m\u001b[0;34m]\u001b[0m\u001b[0;34m<\u001b[0m\u001b[0mi\u001b[0m\u001b[0;34m]\u001b[0m\u001b[0;34m\u001b[0m\u001b[0;34m\u001b[0m\u001b[0m\n\u001b[0;32m----> 5\u001b[0;31m     \u001b[0mprecision\u001b[0m \u001b[0;34m=\u001b[0m \u001b[0mno_show_likely\u001b[0m\u001b[0;34m[\u001b[0m\u001b[0mno_show_likely\u001b[0m\u001b[0;34m.\u001b[0m\u001b[0mnoshow\u001b[0m \u001b[0;34m==\u001b[0m\u001b[0;36m1\u001b[0m\u001b[0;34m]\u001b[0m\u001b[0;34m.\u001b[0m\u001b[0mshape\u001b[0m\u001b[0;34m[\u001b[0m\u001b[0;36m0\u001b[0m\u001b[0;34m]\u001b[0m \u001b[0;34m/\u001b[0m\u001b[0mno_show_likely\u001b[0m\u001b[0;34m.\u001b[0m\u001b[0mshape\u001b[0m\u001b[0;34m[\u001b[0m\u001b[0;36m0\u001b[0m\u001b[0;34m]\u001b[0m\u001b[0;34m\u001b[0m\u001b[0;34m\u001b[0m\u001b[0m\n\u001b[0m\u001b[1;32m      6\u001b[0m     \u001b[0mpercentage\u001b[0m \u001b[0;34m=\u001b[0m \u001b[0;34m(\u001b[0m\u001b[0mi\u001b[0m\u001b[0;34m-\u001b[0m\u001b[0mgap\u001b[0m\u001b[0;34m[\u001b[0m\u001b[0;36m0\u001b[0m\u001b[0;34m]\u001b[0m\u001b[0;34m)\u001b[0m\u001b[0;34m/\u001b[0m\u001b[0;34m(\u001b[0m\u001b[0mgap\u001b[0m\u001b[0;34m[\u001b[0m\u001b[0;36m1\u001b[0m\u001b[0;34m]\u001b[0m\u001b[0;34m-\u001b[0m\u001b[0mgap\u001b[0m\u001b[0;34m[\u001b[0m\u001b[0;36m0\u001b[0m\u001b[0;34m]\u001b[0m\u001b[0;34m)\u001b[0m\u001b[0;34m*\u001b[0m\u001b[0;36m100\u001b[0m\u001b[0;34m\u001b[0m\u001b[0;34m\u001b[0m\u001b[0m\n\u001b[1;32m      7\u001b[0m     \u001b[0mproportion\u001b[0m \u001b[0;34m=\u001b[0m \u001b[0mno_show_likely\u001b[0m\u001b[0;34m.\u001b[0m\u001b[0mshape\u001b[0m\u001b[0;34m[\u001b[0m\u001b[0;36m0\u001b[0m\u001b[0;34m]\u001b[0m \u001b[0;34m/\u001b[0m \u001b[0mtest_table\u001b[0m\u001b[0;34m.\u001b[0m\u001b[0mshape\u001b[0m\u001b[0;34m[\u001b[0m\u001b[0;36m0\u001b[0m\u001b[0;34m]\u001b[0m\u001b[0;34m\u001b[0m\u001b[0;34m\u001b[0m\u001b[0m\n",
      "\u001b[0;31mZeroDivisionError\u001b[0m: division by zero"
     ]
    }
   ],
   "source": [
    "no_show_precision = []\n",
    "for i in cutoffs:\n",
    "    no_show_likely = test_table[test_table['percent_noshow']>i]\n",
    "    no_show_unlikely = test_table[test_table['percent_noshow']<i]\n",
    "    precision = no_show_likely[no_show_likely.noshow ==1].shape[0] /no_show_likely.shape[0]\n",
    "    percentage = (i-gap[0])/(gap[1]-gap[0])*100\n",
    "    proportion = no_show_likely.shape[0] / test_table.shape[0]\n",
    "    total = no_show_likely.shape[0]\n",
    "    data = [percentage, precision, proportion, total]\n",
    "    no_show_precision.append(data)\n",
    "\n",
    "\n",
    "\n",
    "    \n",
    "    "
   ]
  },
  {
   "cell_type": "code",
   "execution_count": 76,
   "metadata": {},
   "outputs": [
    {
     "data": {
      "text/plain": [
       "1810"
      ]
     },
     "execution_count": 76,
     "metadata": {},
     "output_type": "execute_result"
    }
   ],
   "source": [
    "test_table.shape[0]"
   ]
  },
  {
   "cell_type": "code",
   "execution_count": 77,
   "metadata": {},
   "outputs": [
    {
     "data": {
      "text/html": [
       "<div>\n",
       "<style scoped>\n",
       "    .dataframe tbody tr th:only-of-type {\n",
       "        vertical-align: middle;\n",
       "    }\n",
       "\n",
       "    .dataframe tbody tr th {\n",
       "        vertical-align: top;\n",
       "    }\n",
       "\n",
       "    .dataframe thead th {\n",
       "        text-align: right;\n",
       "    }\n",
       "</style>\n",
       "<table border=\"1\" class=\"dataframe\">\n",
       "  <thead>\n",
       "    <tr style=\"text-align: right;\">\n",
       "      <th></th>\n",
       "      <th>percentile</th>\n",
       "      <th>precision</th>\n",
       "      <th>proportion</th>\n",
       "      <th>total</th>\n",
       "    </tr>\n",
       "  </thead>\n",
       "  <tbody>\n",
       "    <tr>\n",
       "      <td>36</td>\n",
       "      <td>72.0</td>\n",
       "      <td>0.328571</td>\n",
       "      <td>0.038674</td>\n",
       "      <td>70</td>\n",
       "    </tr>\n",
       "    <tr>\n",
       "      <td>37</td>\n",
       "      <td>74.0</td>\n",
       "      <td>0.328125</td>\n",
       "      <td>0.035359</td>\n",
       "      <td>64</td>\n",
       "    </tr>\n",
       "    <tr>\n",
       "      <td>38</td>\n",
       "      <td>76.0</td>\n",
       "      <td>0.339286</td>\n",
       "      <td>0.030939</td>\n",
       "      <td>56</td>\n",
       "    </tr>\n",
       "    <tr>\n",
       "      <td>39</td>\n",
       "      <td>78.0</td>\n",
       "      <td>0.366667</td>\n",
       "      <td>0.016575</td>\n",
       "      <td>30</td>\n",
       "    </tr>\n",
       "    <tr>\n",
       "      <td>40</td>\n",
       "      <td>80.0</td>\n",
       "      <td>0.333333</td>\n",
       "      <td>0.008287</td>\n",
       "      <td>15</td>\n",
       "    </tr>\n",
       "    <tr>\n",
       "      <td>41</td>\n",
       "      <td>82.0</td>\n",
       "      <td>0.357143</td>\n",
       "      <td>0.007735</td>\n",
       "      <td>14</td>\n",
       "    </tr>\n",
       "    <tr>\n",
       "      <td>42</td>\n",
       "      <td>84.0</td>\n",
       "      <td>0.384615</td>\n",
       "      <td>0.007182</td>\n",
       "      <td>13</td>\n",
       "    </tr>\n",
       "    <tr>\n",
       "      <td>43</td>\n",
       "      <td>86.0</td>\n",
       "      <td>0.416667</td>\n",
       "      <td>0.006630</td>\n",
       "      <td>12</td>\n",
       "    </tr>\n",
       "    <tr>\n",
       "      <td>44</td>\n",
       "      <td>88.0</td>\n",
       "      <td>0.250000</td>\n",
       "      <td>0.002210</td>\n",
       "      <td>4</td>\n",
       "    </tr>\n",
       "    <tr>\n",
       "      <td>45</td>\n",
       "      <td>90.0</td>\n",
       "      <td>0.250000</td>\n",
       "      <td>0.002210</td>\n",
       "      <td>4</td>\n",
       "    </tr>\n",
       "    <tr>\n",
       "      <td>46</td>\n",
       "      <td>92.0</td>\n",
       "      <td>0.250000</td>\n",
       "      <td>0.002210</td>\n",
       "      <td>4</td>\n",
       "    </tr>\n",
       "    <tr>\n",
       "      <td>47</td>\n",
       "      <td>94.0</td>\n",
       "      <td>0.500000</td>\n",
       "      <td>0.001105</td>\n",
       "      <td>2</td>\n",
       "    </tr>\n",
       "    <tr>\n",
       "      <td>48</td>\n",
       "      <td>96.0</td>\n",
       "      <td>1.000000</td>\n",
       "      <td>0.000552</td>\n",
       "      <td>1</td>\n",
       "    </tr>\n",
       "    <tr>\n",
       "      <td>49</td>\n",
       "      <td>98.0</td>\n",
       "      <td>1.000000</td>\n",
       "      <td>0.000552</td>\n",
       "      <td>1</td>\n",
       "    </tr>\n",
       "  </tbody>\n",
       "</table>\n",
       "</div>"
      ],
      "text/plain": [
       "    percentile  precision  proportion  total\n",
       "36        72.0   0.328571    0.038674     70\n",
       "37        74.0   0.328125    0.035359     64\n",
       "38        76.0   0.339286    0.030939     56\n",
       "39        78.0   0.366667    0.016575     30\n",
       "40        80.0   0.333333    0.008287     15\n",
       "41        82.0   0.357143    0.007735     14\n",
       "42        84.0   0.384615    0.007182     13\n",
       "43        86.0   0.416667    0.006630     12\n",
       "44        88.0   0.250000    0.002210      4\n",
       "45        90.0   0.250000    0.002210      4\n",
       "46        92.0   0.250000    0.002210      4\n",
       "47        94.0   0.500000    0.001105      2\n",
       "48        96.0   1.000000    0.000552      1\n",
       "49        98.0   1.000000    0.000552      1"
      ]
     },
     "execution_count": 77,
     "metadata": {},
     "output_type": "execute_result"
    }
   ],
   "source": [
    "no_show_precision = pd.DataFrame(no_show_precision, columns = ['percentile', 'precision', 'proportion', 'total'])\n",
    "no_show_precision[no_show_precision['percentile']>70]"
   ]
  },
  {
   "cell_type": "code",
   "execution_count": null,
   "metadata": {},
   "outputs": [],
   "source": []
  },
  {
   "cell_type": "code",
   "execution_count": 78,
   "metadata": {},
   "outputs": [
    {
     "data": {
      "image/png": "[encoded data removed]",
      "text/plain": [
       "<Figure size 576x576 with 1 Axes>"
      ]
     },
     "metadata": {},
     "output_type": "display_data"
    }
   ],
   "source": [
    "from matplotlib import pyplot\n",
    "\n",
    "plt.style.use('dark_background') # this turns the whole figure (and following figures) into dark mode\n",
    "# retrieve performance metrics\n",
    "x_axis = no_show_precision['percentile']\n",
    "# plot log loss\n",
    "fig, ax = pyplot.subplots(figsize=(8,8))\n",
    "\n",
    "\n",
    "\n",
    "ax.plot(x_axis, no_show_precision['precision'], label='Precision', lw=4)\n",
    "ax.plot(x_axis, no_show_precision['proportion'], label='Proportion', lw=4)\n",
    "ax.legend(prop={'size': 15})\n",
    "plt.axvline(80, color='white', linestyle='--', lw =1)\n",
    "pyplot.ylabel('Precision / Proportion (out of 1)', size=25)\n",
    "#pyplot.title('Tradeoffs for Predicted Probablity Threshold', size=30)\n",
    "pyplot.xlabel('Predicted Probability', size=25)\n",
    "plt.xticks(fontsize=20)\n",
    "plt.yticks(fontsize=20)\n",
    "\n",
    "# Hide grid lines\n",
    "ax.grid(False)\n",
    "\n",
    "plt.legend(prop={'size': 20})\n",
    "pyplot.show()\n",
    "fig.savefig(\"data/Tradeoffs.png\", transparent=True)"
   ]
  },
  {
   "cell_type": "code",
   "execution_count": 80,
   "metadata": {},
   "outputs": [],
   "source": [
    "# #storing the pickled model. \n",
    "# import pickle\n",
    "# ##pickle model, code from Lindsay\n",
    "# ##My model is called 'rf' (as you see above)- whatever you called your model, substitute that in for 'rf', below.\n",
    "# ##Don't change anything else unless you really want to.\n",
    "with open('insightMVP_model_weather_postFT.pkl', 'wb') as fid:\n",
    "    pickle.dump(model_xgb_PT, fid,2)  \n"
   ]
  },
  {
   "cell_type": "code",
   "execution_count": 1069,
   "metadata": {},
   "outputs": [],
   "source": [
    "import pickle\n",
    "##pickle model, code from Lindsay\n",
    "##My model is called 'rf' (as you see above)- whatever you called your model, substitute that in for 'rf', below.\n",
    "##Don't change anything else unless you really want to.\n",
    "\n",
    "#with 1 max depth\n",
    "#with open('insightMVP_model_simple.pkl', 'wb') as fid:\n",
    "    \n",
    "with open('insightMVP_model_2depth.pkl', 'wb') as fid:\n",
    "    pickle.dump(model_xgb_PT, fid,2)  "
   ]
  },
  {
   "cell_type": "code",
   "execution_count": null,
   "metadata": {},
   "outputs": [],
   "source": [
    "\n",
    "# Load the model from disk\n",
    "loaded_model = pickle.load(open('insightMVP_model.pkl', 'rb'))\n",
    "\n",
    "\n",
    "\n",
    "y_pred_model_xgb = loaded_model.predict_proba(X_test)\n",
    "\n",
    "print(\"The AUC score of the XGB model is: \" + str(np.round(roc_auc_score(y_test,pd.DataFrame(y_pred_model_xgb)[1]),2)))"
   ]
  },
  {
   "cell_type": "code",
   "execution_count": 1070,
   "metadata": {},
   "outputs": [
    {
     "data": {
      "text/html": [
       "<div>\n",
       "<style scoped>\n",
       "    .dataframe tbody tr th:only-of-type {\n",
       "        vertical-align: middle;\n",
       "    }\n",
       "\n",
       "    .dataframe tbody tr th {\n",
       "        vertical-align: top;\n",
       "    }\n",
       "\n",
       "    .dataframe thead th {\n",
       "        text-align: right;\n",
       "    }\n",
       "</style>\n",
       "<table border=\"1\" class=\"dataframe\">\n",
       "  <thead>\n",
       "    <tr style=\"text-align: right;\">\n",
       "      <th></th>\n",
       "      <th>PatientId</th>\n",
       "      <th>noshow</th>\n",
       "      <th>percent_noshow</th>\n",
       "    </tr>\n",
       "  </thead>\n",
       "  <tbody>\n",
       "    <tr>\n",
       "      <td>0</td>\n",
       "      <td>9608</td>\n",
       "      <td>0</td>\n",
       "      <td>0.044785</td>\n",
       "    </tr>\n",
       "    <tr>\n",
       "      <td>1</td>\n",
       "      <td>9393</td>\n",
       "      <td>0</td>\n",
       "      <td>0.044785</td>\n",
       "    </tr>\n",
       "    <tr>\n",
       "      <td>2</td>\n",
       "      <td>9200</td>\n",
       "      <td>0</td>\n",
       "      <td>0.044785</td>\n",
       "    </tr>\n",
       "    <tr>\n",
       "      <td>3</td>\n",
       "      <td>8562</td>\n",
       "      <td>0</td>\n",
       "      <td>0.047990</td>\n",
       "    </tr>\n",
       "    <tr>\n",
       "      <td>4</td>\n",
       "      <td>9961</td>\n",
       "      <td>0</td>\n",
       "      <td>0.044785</td>\n",
       "    </tr>\n",
       "    <tr>\n",
       "      <td>...</td>\n",
       "      <td>...</td>\n",
       "      <td>...</td>\n",
       "      <td>...</td>\n",
       "    </tr>\n",
       "    <tr>\n",
       "      <td>3656</td>\n",
       "      <td>7685</td>\n",
       "      <td>0</td>\n",
       "      <td>0.139150</td>\n",
       "    </tr>\n",
       "    <tr>\n",
       "      <td>3657</td>\n",
       "      <td>4515</td>\n",
       "      <td>0</td>\n",
       "      <td>0.139150</td>\n",
       "    </tr>\n",
       "    <tr>\n",
       "      <td>3658</td>\n",
       "      <td>6830</td>\n",
       "      <td>0</td>\n",
       "      <td>0.155550</td>\n",
       "    </tr>\n",
       "    <tr>\n",
       "      <td>3659</td>\n",
       "      <td>1390</td>\n",
       "      <td>1</td>\n",
       "      <td>0.139150</td>\n",
       "    </tr>\n",
       "    <tr>\n",
       "      <td>3660</td>\n",
       "      <td>10284</td>\n",
       "      <td>1</td>\n",
       "      <td>0.139150</td>\n",
       "    </tr>\n",
       "  </tbody>\n",
       "</table>\n",
       "<p>3661 rows × 3 columns</p>\n",
       "</div>"
      ],
      "text/plain": [
       "      PatientId  noshow  percent_noshow\n",
       "0          9608       0        0.044785\n",
       "1          9393       0        0.044785\n",
       "2          9200       0        0.044785\n",
       "3          8562       0        0.047990\n",
       "4          9961       0        0.044785\n",
       "...         ...     ...             ...\n",
       "3656       7685       0        0.139150\n",
       "3657       4515       0        0.139150\n",
       "3658       6830       0        0.155550\n",
       "3659       1390       1        0.139150\n",
       "3660      10284       1        0.139150\n",
       "\n",
       "[3661 rows x 3 columns]"
      ]
     },
     "execution_count": 1070,
     "metadata": {},
     "output_type": "execute_result"
    }
   ],
   "source": [
    "table"
   ]
  },
  {
   "cell_type": "code",
   "execution_count": null,
   "metadata": {},
   "outputs": [],
   "source": [
    "def highlight_greaterthan(s,threshold,column):\n",
    "    is_max = pd.Series(data=False, index=s.index)\n",
    "    is_max[column] = s.loc[column] >= threshold\n",
    "    return ['background-color: red' if is_max.any() else '' for v in is_max]\n",
    "\n",
    "\n",
    "style1 = table.style.apply(highlight_greaterthan,threshold=0.15,column=['percent_noshow'], axis=1)\n",
    "df_html = style1.render()\n",
    "df_html"
   ]
  },
  {
   "cell_type": "code",
   "execution_count": null,
   "metadata": {},
   "outputs": [],
   "source": [
    "table.style.apply(highlight_greaterthan,threshold=0.15,column=['percent_noshow'], axis=1).head()"
   ]
  },
  {
   "cell_type": "markdown",
   "metadata": {},
   "source": [
    "### EDA Figure"
   ]
  },
  {
   "cell_type": "code",
   "execution_count": 73,
   "metadata": {},
   "outputs": [
    {
     "data": {
      "image/png": "[encoded data removed]",
      "text/plain": [
       "<Figure size 648x648 with 1 Axes>"
      ]
     },
     "metadata": {},
     "output_type": "display_data"
    }
   ],
   "source": [
    "import seaborn as sb\n",
    "import matplotlib as mlb\n",
    "plt.style.use('dark_background') # this turns the whole figure (and following figures) into dark mode\n",
    "# retrieve performance metrics\n",
    "# plot log loss\n",
    "fig, ax = pyplot.subplots(figsize=(9,9))\n",
    "\n",
    "plt.xticks(fontsize=30)\n",
    "plt.yticks(fontsize=30)\n",
    "\n",
    "# Hide grid lines\n",
    "ax.grid(False)\n",
    "\n",
    "\n",
    "\n",
    "\n",
    "\n",
    "\n",
    "sb.set(style=\"whitegrid\")\n",
    "ax = sb.countplot(x=\"noshow\",data=y,  palette=\"Set3\")\n",
    "ax.set_xticklabels(labels = ['Completed','Broken'])\n",
    "plt.xlabel('No Show', size =30)\n",
    "plt.ylabel('# Apointments', size =30)\n",
    "\n",
    "fig = ax.get_figure()\n",
    "fig.savefig(\"data/noshow.png\", transparent = True)"
   ]
  },
  {
   "cell_type": "code",
   "execution_count": 53,
   "metadata": {},
   "outputs": [
    {
     "data": {
      "text/html": [
       "<div>\n",
       "<style scoped>\n",
       "    .dataframe tbody tr th:only-of-type {\n",
       "        vertical-align: middle;\n",
       "    }\n",
       "\n",
       "    .dataframe tbody tr th {\n",
       "        vertical-align: top;\n",
       "    }\n",
       "\n",
       "    .dataframe thead th {\n",
       "        text-align: right;\n",
       "    }\n",
       "</style>\n",
       "<table border=\"1\" class=\"dataframe\">\n",
       "  <thead>\n",
       "    <tr style=\"text-align: right;\">\n",
       "      <th></th>\n",
       "      <th>noshow</th>\n",
       "    </tr>\n",
       "    <tr>\n",
       "      <th>AppointmentId</th>\n",
       "      <th></th>\n",
       "    </tr>\n",
       "  </thead>\n",
       "  <tbody>\n",
       "    <tr>\n",
       "      <td>319</td>\n",
       "      <td>0</td>\n",
       "    </tr>\n",
       "    <tr>\n",
       "      <td>1526</td>\n",
       "      <td>0</td>\n",
       "    </tr>\n",
       "    <tr>\n",
       "      <td>4249</td>\n",
       "      <td>0</td>\n",
       "    </tr>\n",
       "    <tr>\n",
       "      <td>42</td>\n",
       "      <td>0</td>\n",
       "    </tr>\n",
       "    <tr>\n",
       "      <td>1942</td>\n",
       "      <td>0</td>\n",
       "    </tr>\n",
       "  </tbody>\n",
       "</table>\n",
       "</div>"
      ],
      "text/plain": [
       "               noshow\n",
       "AppointmentId        \n",
       "319                 0\n",
       "1526                0\n",
       "4249                0\n",
       "42                  0\n",
       "1942                0"
      ]
     },
     "execution_count": 53,
     "metadata": {},
     "output_type": "execute_result"
    }
   ],
   "source": [
    "X.head()"
   ]
  },
  {
   "cell_type": "code",
   "execution_count": null,
   "metadata": {},
   "outputs": [],
   "source": []
  }
 ],
 "metadata": {
  "kernelspec": {
   "display_name": "Python 3",
   "language": "python",
   "name": "python3"
  },
  "language_info": {
   "codemirror_mode": {
    "name": "ipython",
    "version": 3
   },
   "file_extension": ".py",
   "mimetype": "text/x-python",
   "name": "python",
   "nbconvert_exporter": "python",
   "pygments_lexer": "ipython3",
   "version": "3.7.4"
  },
  "name": ""
 },
 "nbformat": 4,
 "nbformat_minor": 4
}
