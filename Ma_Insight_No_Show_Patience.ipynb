{
 "cells": [
  {
   "cell_type": "markdown",
   "metadata": {},
   "source": [
    "# Predicting no-show patients at a Dental Practice"
   ]
  },
  {
   "cell_type": "markdown",
   "metadata": {},
   "source": [
    "## Introduction\n",
    "\n",
    "### Goal\n",
    "To document steps used to create a machine learning algorithm that predicts patient attendance.\n",
    "\n",
    "### Steps\n",
    "\n",
    "1) Feature Engineering\n",
    "\n",
    "2) Building ML model\n",
    "\n",
    "3) Hyperparameter Tuning\n",
    "\n",
    "4) Visualizing model output\n",
    "\n",
    "\n",
    "\n"
   ]
  },
  {
   "cell_type": "markdown",
   "metadata": {},
   "source": [
    "## 1) Automatic Feature Creation using featuretools"
   ]
  },
  {
   "cell_type": "code",
   "execution_count": 1,
   "metadata": {},
   "outputs": [],
   "source": [
    "import featuretools as ft\n",
    "import featuretools.variable_types as vtypes\n",
    "import pandas as pd\n",
    "import os\n",
    "import multiprocess as mp\n",
    "\n",
    "# Load the model from disk\n",
    "weather = pickle.load(open('data/weather2018.pkl', 'rb'))\n",
    "\n",
    "#read current working directory\n",
    "##assume running notebook from No_show_patience directory\n",
    "cwd = os.getcwd()\n",
    "\n",
    "\n",
    "#import and load data\n",
    "full_dataset = pd.read_pickle(cwd + \"/data/preFT2018.pkl\")\n",
    "#use below code at experimentation stage to build new features on a small dataset.\n",
    "#full_dataset = full_dataset.iloc[:5,:]\n",
    "\n",
    "full_dataset.AppointmentDate = (pd.to_datetime(full_dataset.AppointmentDate) + \n",
    "                                (pd.Timedelta(days = 1) - pd.Timedelta(seconds = 1)) * (full_dataset.noshow))\n",
    "\n",
    "\n",
    "\n",
    "variable_types = {'PatientId': vtypes.Numeric, 'newbie':vtypes.Boolean,'insuranceDummy':vtypes.Boolean, \n",
    "                  'guarantorIsPatient':vtypes.Boolean, 'loyalty':vtypes.Numeric, 'noshow':vtypes.Boolean, \n",
    "                  'PatientEmail':vtypes.EmailAddress,'GuarantorEmail':vtypes.EmailAddress,\n",
    "                  'PatientPhone1':vtypes.PhoneNumber, 'patientEmailDomain':vtypes.Categorical,\n",
    "                  'guarantorEmailDomain':vtypes.Categorical, 'patientPhone1AreaCode':vtypes.Categorical, \n",
    "                  'insurance':vtypes.Categorical, 'provider':vtypes.Categorical, \n",
    "                  'source':vtypes.Categorical, 'procedure':vtypes.Categorical,\n",
    "                  'weekday':vtypes.Categorical, 'apptType':vtypes.Categorical,\n",
    "                  \"newpatientfile\":vtypes.Ordinal, \"Age_npf\":vtypes.Numeric, \"Patient\":vtypes.Text}\n",
    "variable_list = (['PatientId', 'AppointmentDate', 'newbie',\n",
    "                  'insuranceDummy', 'guarantorIsPatient', 'loyalty', 'noshow',\n",
    "                  'PatientEmail', 'GuarantorEmail', 'PatientPhone1', \n",
    "                  'patientEmailDomain', 'guarantorEmailDomain', 'patientPhone1AreaCode',\n",
    "                  'insurance','provider', 'source','procedure', 'weekday', 'apptType', \n",
    "                  \"newpatientfile\", \"Age_npf\", \"Patient\", 'AppointmentId'])"
   ]
  },
  {
   "cell_type": "code",
   "execution_count": 2,
   "metadata": {},
   "outputs": [],
   "source": [
    "full_dataset[variable_list].iloc[0:9,:].to_csv(cwd + \"/data/head.csv\")"
   ]
  },
  {
   "cell_type": "code",
   "execution_count": 2,
   "metadata": {},
   "outputs": [],
   "source": [
    "# Make an entity named 'appointments' which stores dataset metadata with the dataframe\n",
    "es = ft.EntitySet('Appointments')\n",
    "es = es.entity_from_dataframe(entity_id=\"appointments\",\n",
    "                              dataframe=full_dataset[variable_list],\n",
    "                              index='AppointmentId',\n",
    "                              time_index='AppointmentDate',\n",
    "                              variable_types=variable_types)\n",
    "es['appointments']\n",
    "\n",
    "# Make patients, weekdays, emails and insurances entities\n",
    "\n",
    "es.normalize_entity(base_entity_id='appointments', new_entity_id='patients', index='PatientId', \n",
    "                    additional_variables = ['Patient', 'PatientEmail', 'GuarantorEmail', 'PatientPhone1',\n",
    "                                            'newpatientfile', 'Age_npf'], make_time_index=True)\n",
    "# 'PatientEmail', 'GuarantorEmail', 'PatientPhone1'\n",
    "es.normalize_entity('appointments', 'patientemails', 'patientEmailDomain', make_time_index=True)\n",
    "es.normalize_entity('appointments', 'guarantoremails', 'guarantorEmailDomain', make_time_index=True)\n",
    "es.normalize_entity('appointments', 'patientPhones', 'patientPhone1AreaCode',make_time_index=True)\n",
    "es.normalize_entity('appointments', 'insurances', 'insurance',make_time_index=True)\n",
    "es.normalize_entity('appointments', 'providers', 'provider', make_time_index=True)\n",
    "es.normalize_entity('appointments', 'sources', 'source', make_time_index=True)\n",
    "es.normalize_entity('appointments', 'procedures', 'procedure', make_time_index=True)\n",
    "es.normalize_entity('appointments', 'weekdays', 'weekday', make_time_index=True)\n",
    "es.normalize_entity('appointments', 'apptTypes', 'apptType',make_time_index=True)\n",
    "\n",
    "variable_list = (['PatientId', 'AppointmentDate', 'newbie',\n",
    "                  'insuranceDummy', 'guarantorIsPatient', 'loyalty', 'noshow',\n",
    "                  'PatientEmail', 'GuarantorEmail', 'PatientPhone1', 'insurance',\n",
    "                  'provider', 'procedure', 'weekday', 'apptType', 'AppointmentId'])"
   ]
  },
  {
   "cell_type": "code",
   "execution_count": 3,
   "metadata": {},
   "outputs": [
    {
     "name": "stdout",
     "output_type": "stream",
     "text": [
      "Entityset: Appointments\n",
      "  Entities:\n",
      "    appointments [Rows: 5471, Columns: 17]\n",
      "    patients [Rows: 2020, Columns: 8]\n",
      "    patientemails [Rows: 9, Columns: 2]\n",
      "    guarantoremails [Rows: 8, Columns: 2]\n",
      "    patientPhones [Rows: 8, Columns: 2]\n",
      "    insurances [Rows: 9, Columns: 2]\n",
      "    providers [Rows: 4, Columns: 2]\n",
      "    sources [Rows: 6, Columns: 2]\n",
      "    procedures [Rows: 21, Columns: 2]\n",
      "    weekdays [Rows: 5, Columns: 2]\n",
      "    apptTypes [Rows: 3, Columns: 2]\n",
      "  Relationships:\n",
      "    appointments.PatientId -> patients.PatientId\n",
      "    appointments.patientEmailDomain -> patientemails.patientEmailDomain\n",
      "    appointments.guarantorEmailDomain -> guarantoremails.guarantorEmailDomain\n",
      "    appointments.patientPhone1AreaCode -> patientPhones.patientPhone1AreaCode\n",
      "    appointments.insurance -> insurances.insurance\n",
      "    appointments.provider -> providers.provider\n",
      "    appointments.source -> sources.source\n",
      "    appointments.procedure -> procedures.procedure\n",
      "    appointments.weekday -> weekdays.weekday\n",
      "    appointments.apptType -> apptTypes.apptType\n"
     ]
    }
   ],
   "source": [
    "print(es)"
   ]
  },
  {
   "cell_type": "code",
   "execution_count": 11,
   "metadata": {},
   "outputs": [
    {
     "name": "stdout",
     "output_type": "stream",
     "text": [
      "Built 372 features\n",
      "EntitySet scattered to 4 workers in 5 seconds           \n",
      "Elapsed: 21:05 | Progress: 100%|██████████| Remaining: 00:00  \n"
     ]
    }
   ],
   "source": [
    "cutoff_times =  es['appointments'].df[['AppointmentId','AppointmentDate']]\n",
    "cat_cols = ['insurance','provider', 'procedure', 'patientEmailDomain', 'guarantorEmailDomain', \n",
    "            'patientPhone1AreaCode','weekday', 'apptType','source']\n",
    "\n",
    "X_ft, features = ft.dfs(entityset=es,\n",
    "                        target_entity='appointments',\n",
    "                        agg_primitives=['count', 'percent_true', 'num_true', 'trend', 'skew', 'all', 'std',\n",
    "                                       'max', 'mean', 'min', 'median', 'num_unique'],\n",
    "                        max_depth=3,\n",
    "                        trans_primitives=['day', 'month', 'year', 'num_words', 'num_characters'],\n",
    "                        cutoff_time=cutoff_times,\n",
    "                        verbose=True,\n",
    "                        approximate = '3h',\n",
    "                        #approximate = \"1 day\",\n",
    "                        chunk_size=50,\n",
    "                        n_jobs=mp.cpu_count())"
   ]
  },
  {
   "cell_type": "code",
   "execution_count": 12,
   "metadata": {},
   "outputs": [
    {
     "data": {
      "text/html": [
       "<div>\n",
       "<style scoped>\n",
       "    .dataframe tbody tr th:only-of-type {\n",
       "        vertical-align: middle;\n",
       "    }\n",
       "\n",
       "    .dataframe tbody tr th {\n",
       "        vertical-align: top;\n",
       "    }\n",
       "\n",
       "    .dataframe thead th {\n",
       "        text-align: right;\n",
       "    }\n",
       "</style>\n",
       "<table border=\"1\" class=\"dataframe\">\n",
       "  <thead>\n",
       "    <tr style=\"text-align: right;\">\n",
       "      <th></th>\n",
       "      <th>PatientId</th>\n",
       "      <th>newbie</th>\n",
       "      <th>insuranceDummy</th>\n",
       "      <th>guarantorIsPatient</th>\n",
       "      <th>loyalty</th>\n",
       "      <th>noshow</th>\n",
       "      <th>patientEmailDomain</th>\n",
       "      <th>guarantorEmailDomain</th>\n",
       "      <th>patientPhone1AreaCode</th>\n",
       "      <th>insurance</th>\n",
       "      <th>...</th>\n",
       "      <th>sources.NUM_UNIQUE(appointments.YEAR(AppointmentDate))</th>\n",
       "      <th>procedures.NUM_UNIQUE(appointments.DAY(AppointmentDate))</th>\n",
       "      <th>procedures.NUM_UNIQUE(appointments.MONTH(AppointmentDate))</th>\n",
       "      <th>procedures.NUM_UNIQUE(appointments.YEAR(AppointmentDate))</th>\n",
       "      <th>weekdays.NUM_UNIQUE(appointments.DAY(AppointmentDate))</th>\n",
       "      <th>weekdays.NUM_UNIQUE(appointments.MONTH(AppointmentDate))</th>\n",
       "      <th>weekdays.NUM_UNIQUE(appointments.YEAR(AppointmentDate))</th>\n",
       "      <th>apptTypes.NUM_UNIQUE(appointments.DAY(AppointmentDate))</th>\n",
       "      <th>apptTypes.NUM_UNIQUE(appointments.MONTH(AppointmentDate))</th>\n",
       "      <th>apptTypes.NUM_UNIQUE(appointments.YEAR(AppointmentDate))</th>\n",
       "    </tr>\n",
       "    <tr>\n",
       "      <th>AppointmentId</th>\n",
       "      <th></th>\n",
       "      <th></th>\n",
       "      <th></th>\n",
       "      <th></th>\n",
       "      <th></th>\n",
       "      <th></th>\n",
       "      <th></th>\n",
       "      <th></th>\n",
       "      <th></th>\n",
       "      <th></th>\n",
       "      <th></th>\n",
       "      <th></th>\n",
       "      <th></th>\n",
       "      <th></th>\n",
       "      <th></th>\n",
       "      <th></th>\n",
       "      <th></th>\n",
       "      <th></th>\n",
       "      <th></th>\n",
       "      <th></th>\n",
       "      <th></th>\n",
       "    </tr>\n",
       "  </thead>\n",
       "  <tbody>\n",
       "    <tr>\n",
       "      <td>319</td>\n",
       "      <td>9608</td>\n",
       "      <td>0</td>\n",
       "      <td>0</td>\n",
       "      <td>True</td>\n",
       "      <td>19</td>\n",
       "      <td>0</td>\n",
       "      <td>PatientEmail_gmail.com</td>\n",
       "      <td>GuarantorEmail_gmail.com</td>\n",
       "      <td>PatientPhone1_434</td>\n",
       "      <td>Insurance_others</td>\n",
       "      <td>...</td>\n",
       "      <td>NaN</td>\n",
       "      <td>NaN</td>\n",
       "      <td>NaN</td>\n",
       "      <td>NaN</td>\n",
       "      <td>NaN</td>\n",
       "      <td>NaN</td>\n",
       "      <td>NaN</td>\n",
       "      <td>NaN</td>\n",
       "      <td>NaN</td>\n",
       "      <td>NaN</td>\n",
       "    </tr>\n",
       "    <tr>\n",
       "      <td>1526</td>\n",
       "      <td>9393</td>\n",
       "      <td>0</td>\n",
       "      <td>0</td>\n",
       "      <td>True</td>\n",
       "      <td>10</td>\n",
       "      <td>0</td>\n",
       "      <td>PatientEmail_others</td>\n",
       "      <td>GuarantorEmail_others</td>\n",
       "      <td>PatientPhone1_434</td>\n",
       "      <td>Insurance_others</td>\n",
       "      <td>...</td>\n",
       "      <td>NaN</td>\n",
       "      <td>NaN</td>\n",
       "      <td>NaN</td>\n",
       "      <td>NaN</td>\n",
       "      <td>NaN</td>\n",
       "      <td>NaN</td>\n",
       "      <td>NaN</td>\n",
       "      <td>NaN</td>\n",
       "      <td>NaN</td>\n",
       "      <td>NaN</td>\n",
       "    </tr>\n",
       "    <tr>\n",
       "      <td>4249</td>\n",
       "      <td>9200</td>\n",
       "      <td>0</td>\n",
       "      <td>1</td>\n",
       "      <td>True</td>\n",
       "      <td>24</td>\n",
       "      <td>0</td>\n",
       "      <td>PatientEmail_gmail.com</td>\n",
       "      <td>GuarantorEmail_gmail.com</td>\n",
       "      <td>PatientPhone1_others</td>\n",
       "      <td>Insurance_UNITED CONCORDIA</td>\n",
       "      <td>...</td>\n",
       "      <td>NaN</td>\n",
       "      <td>NaN</td>\n",
       "      <td>NaN</td>\n",
       "      <td>NaN</td>\n",
       "      <td>NaN</td>\n",
       "      <td>NaN</td>\n",
       "      <td>NaN</td>\n",
       "      <td>NaN</td>\n",
       "      <td>NaN</td>\n",
       "      <td>NaN</td>\n",
       "    </tr>\n",
       "    <tr>\n",
       "      <td>42</td>\n",
       "      <td>8562</td>\n",
       "      <td>0</td>\n",
       "      <td>0</td>\n",
       "      <td>True</td>\n",
       "      <td>19</td>\n",
       "      <td>0</td>\n",
       "      <td>PatientEmail_others</td>\n",
       "      <td>GuarantorEmail_others</td>\n",
       "      <td>PatientPhone1_434</td>\n",
       "      <td>Insurance_others</td>\n",
       "      <td>...</td>\n",
       "      <td>1.0</td>\n",
       "      <td>1.0</td>\n",
       "      <td>1.0</td>\n",
       "      <td>1.0</td>\n",
       "      <td>1.0</td>\n",
       "      <td>1.0</td>\n",
       "      <td>1.0</td>\n",
       "      <td>1.0</td>\n",
       "      <td>1.0</td>\n",
       "      <td>1.0</td>\n",
       "    </tr>\n",
       "    <tr>\n",
       "      <td>1942</td>\n",
       "      <td>9961</td>\n",
       "      <td>0</td>\n",
       "      <td>0</td>\n",
       "      <td>True</td>\n",
       "      <td>19</td>\n",
       "      <td>0</td>\n",
       "      <td>PatientEmail_GMAIL.COM</td>\n",
       "      <td>GuarantorEmail_GMAIL.COM</td>\n",
       "      <td>PatientPhone1_540</td>\n",
       "      <td>Insurance_others</td>\n",
       "      <td>...</td>\n",
       "      <td>1.0</td>\n",
       "      <td>1.0</td>\n",
       "      <td>1.0</td>\n",
       "      <td>1.0</td>\n",
       "      <td>1.0</td>\n",
       "      <td>1.0</td>\n",
       "      <td>1.0</td>\n",
       "      <td>1.0</td>\n",
       "      <td>1.0</td>\n",
       "      <td>1.0</td>\n",
       "    </tr>\n",
       "  </tbody>\n",
       "</table>\n",
       "<p>5 rows × 372 columns</p>\n",
       "</div>"
      ],
      "text/plain": [
       "               PatientId  newbie  insuranceDummy  guarantorIsPatient  loyalty  \\\n",
       "AppointmentId                                                                   \n",
       "319                 9608       0               0                True       19   \n",
       "1526                9393       0               0                True       10   \n",
       "4249                9200       0               1                True       24   \n",
       "42                  8562       0               0                True       19   \n",
       "1942                9961       0               0                True       19   \n",
       "\n",
       "               noshow      patientEmailDomain      guarantorEmailDomain  \\\n",
       "AppointmentId                                                             \n",
       "319                 0  PatientEmail_gmail.com  GuarantorEmail_gmail.com   \n",
       "1526                0     PatientEmail_others     GuarantorEmail_others   \n",
       "4249                0  PatientEmail_gmail.com  GuarantorEmail_gmail.com   \n",
       "42                  0     PatientEmail_others     GuarantorEmail_others   \n",
       "1942                0  PatientEmail_GMAIL.COM  GuarantorEmail_GMAIL.COM   \n",
       "\n",
       "              patientPhone1AreaCode  \\\n",
       "AppointmentId                         \n",
       "319               PatientPhone1_434   \n",
       "1526              PatientPhone1_434   \n",
       "4249           PatientPhone1_others   \n",
       "42                PatientPhone1_434   \n",
       "1942              PatientPhone1_540   \n",
       "\n",
       "                                                insurance  ...  \\\n",
       "AppointmentId                                              ...   \n",
       "319                                      Insurance_others  ...   \n",
       "1526                                     Insurance_others  ...   \n",
       "4249           Insurance_UNITED CONCORDIA                  ...   \n",
       "42                                       Insurance_others  ...   \n",
       "1942                                     Insurance_others  ...   \n",
       "\n",
       "              sources.NUM_UNIQUE(appointments.YEAR(AppointmentDate))  \\\n",
       "AppointmentId                                                          \n",
       "319                                                          NaN       \n",
       "1526                                                         NaN       \n",
       "4249                                                         NaN       \n",
       "42                                                           1.0       \n",
       "1942                                                         1.0       \n",
       "\n",
       "              procedures.NUM_UNIQUE(appointments.DAY(AppointmentDate))  \\\n",
       "AppointmentId                                                            \n",
       "319                                                          NaN         \n",
       "1526                                                         NaN         \n",
       "4249                                                         NaN         \n",
       "42                                                           1.0         \n",
       "1942                                                         1.0         \n",
       "\n",
       "              procedures.NUM_UNIQUE(appointments.MONTH(AppointmentDate))  \\\n",
       "AppointmentId                                                              \n",
       "319                                                          NaN           \n",
       "1526                                                         NaN           \n",
       "4249                                                         NaN           \n",
       "42                                                           1.0           \n",
       "1942                                                         1.0           \n",
       "\n",
       "              procedures.NUM_UNIQUE(appointments.YEAR(AppointmentDate))  \\\n",
       "AppointmentId                                                             \n",
       "319                                                          NaN          \n",
       "1526                                                         NaN          \n",
       "4249                                                         NaN          \n",
       "42                                                           1.0          \n",
       "1942                                                         1.0          \n",
       "\n",
       "              weekdays.NUM_UNIQUE(appointments.DAY(AppointmentDate))  \\\n",
       "AppointmentId                                                          \n",
       "319                                                          NaN       \n",
       "1526                                                         NaN       \n",
       "4249                                                         NaN       \n",
       "42                                                           1.0       \n",
       "1942                                                         1.0       \n",
       "\n",
       "               weekdays.NUM_UNIQUE(appointments.MONTH(AppointmentDate))  \\\n",
       "AppointmentId                                                             \n",
       "319                                                          NaN          \n",
       "1526                                                         NaN          \n",
       "4249                                                         NaN          \n",
       "42                                                           1.0          \n",
       "1942                                                         1.0          \n",
       "\n",
       "               weekdays.NUM_UNIQUE(appointments.YEAR(AppointmentDate))  \\\n",
       "AppointmentId                                                            \n",
       "319                                                          NaN         \n",
       "1526                                                         NaN         \n",
       "4249                                                         NaN         \n",
       "42                                                           1.0         \n",
       "1942                                                         1.0         \n",
       "\n",
       "               apptTypes.NUM_UNIQUE(appointments.DAY(AppointmentDate))  \\\n",
       "AppointmentId                                                            \n",
       "319                                                          NaN         \n",
       "1526                                                         NaN         \n",
       "4249                                                         NaN         \n",
       "42                                                           1.0         \n",
       "1942                                                         1.0         \n",
       "\n",
       "               apptTypes.NUM_UNIQUE(appointments.MONTH(AppointmentDate))  \\\n",
       "AppointmentId                                                              \n",
       "319                                                          NaN           \n",
       "1526                                                         NaN           \n",
       "4249                                                         NaN           \n",
       "42                                                           1.0           \n",
       "1942                                                         1.0           \n",
       "\n",
       "               apptTypes.NUM_UNIQUE(appointments.YEAR(AppointmentDate))  \n",
       "AppointmentId                                                            \n",
       "319                                                          NaN         \n",
       "1526                                                         NaN         \n",
       "4249                                                         NaN         \n",
       "42                                                           1.0         \n",
       "1942                                                         1.0         \n",
       "\n",
       "[5 rows x 372 columns]"
      ]
     },
     "execution_count": 12,
     "metadata": {},
     "output_type": "execute_result"
    }
   ],
   "source": [
    "X_ft.head()"
   ]
  },
  {
   "cell_type": "code",
   "execution_count": 14,
   "metadata": {},
   "outputs": [
    {
     "data": {
      "image/svg+xml": [
       "<?xml version=\"1.0\" encoding=\"UTF-8\" standalone=\"no\"?>\n",
       "<!DOCTYPE svg PUBLIC \"-//W3C//DTD SVG 1.1//EN\"\n",
       " \"http://www.w3.org/Graphics/SVG/1.1/DTD/svg11.dtd\">\n",
       "<!-- Generated by graphviz version 2.40.1 (20161225.0304)\n",
       " -->\n",
       "<!-- Title: Appointments Pages: 1 -->\n",
       "<svg width=\"2980pt\" height=\"456pt\"\n",
       " viewBox=\"0.00 0.00 2980.18 456.00\" xmlns=\"http://www.w3.org/2000/svg\" xmlns:xlink=\"http://www.w3.org/1999/xlink\">\n",
       "<g id=\"graph0\" class=\"graph\" transform=\"scale(1 1) rotate(0) translate(4 452)\">\n",
       "<title>Appointments</title>\n",
       "<polygon fill=\"#ffffff\" stroke=\"transparent\" points=\"-4,4 -4,-452 2976.1797,-452 2976.1797,4 -4,4\"/>\n",
       "<!-- appointments -->\n",
       "<g id=\"node1\" class=\"node\">\n",
       "<title>appointments</title>\n",
       "<polygon fill=\"none\" stroke=\"#000000\" points=\"1362.8965,-179.5 1362.8965,-447.5 1608.2832,-447.5 1608.2832,-179.5 1362.8965,-179.5\"/>\n",
       "<text text-anchor=\"middle\" x=\"1485.5898\" y=\"-432.3\" font-family=\"Times,serif\" font-size=\"14.00\" fill=\"#000000\">appointments</text>\n",
       "<polyline fill=\"none\" stroke=\"#000000\" points=\"1362.8965,-425.5 1608.2832,-425.5 \"/>\n",
       "<text text-anchor=\"start\" x=\"1370.8965\" y=\"-410.3\" font-family=\"Times,serif\" font-size=\"14.00\" fill=\"#000000\">AppointmentId : index</text>\n",
       "<text text-anchor=\"start\" x=\"1370.8965\" y=\"-396.3\" font-family=\"Times,serif\" font-size=\"14.00\" fill=\"#000000\">AppointmentDate : datetime_time_index</text>\n",
       "<text text-anchor=\"start\" x=\"1370.8965\" y=\"-382.3\" font-family=\"Times,serif\" font-size=\"14.00\" fill=\"#000000\">PatientId : id</text>\n",
       "<text text-anchor=\"start\" x=\"1370.8965\" y=\"-368.3\" font-family=\"Times,serif\" font-size=\"14.00\" fill=\"#000000\">newbie : boolean</text>\n",
       "<text text-anchor=\"start\" x=\"1370.8965\" y=\"-354.3\" font-family=\"Times,serif\" font-size=\"14.00\" fill=\"#000000\">insuranceDummy : boolean</text>\n",
       "<text text-anchor=\"start\" x=\"1370.8965\" y=\"-340.3\" font-family=\"Times,serif\" font-size=\"14.00\" fill=\"#000000\">guarantorIsPatient : boolean</text>\n",
       "<text text-anchor=\"start\" x=\"1370.8965\" y=\"-326.3\" font-family=\"Times,serif\" font-size=\"14.00\" fill=\"#000000\">loyalty : numeric</text>\n",
       "<text text-anchor=\"start\" x=\"1370.8965\" y=\"-312.3\" font-family=\"Times,serif\" font-size=\"14.00\" fill=\"#000000\">noshow : boolean</text>\n",
       "<text text-anchor=\"start\" x=\"1370.8965\" y=\"-298.3\" font-family=\"Times,serif\" font-size=\"14.00\" fill=\"#000000\">patientEmailDomain : id</text>\n",
       "<text text-anchor=\"start\" x=\"1370.8965\" y=\"-284.3\" font-family=\"Times,serif\" font-size=\"14.00\" fill=\"#000000\">guarantorEmailDomain : id</text>\n",
       "<text text-anchor=\"start\" x=\"1370.8965\" y=\"-270.3\" font-family=\"Times,serif\" font-size=\"14.00\" fill=\"#000000\">patientPhone1AreaCode : id</text>\n",
       "<text text-anchor=\"start\" x=\"1370.8965\" y=\"-256.3\" font-family=\"Times,serif\" font-size=\"14.00\" fill=\"#000000\">insurance : id</text>\n",
       "<text text-anchor=\"start\" x=\"1370.8965\" y=\"-242.3\" font-family=\"Times,serif\" font-size=\"14.00\" fill=\"#000000\">provider : id</text>\n",
       "<text text-anchor=\"start\" x=\"1370.8965\" y=\"-228.3\" font-family=\"Times,serif\" font-size=\"14.00\" fill=\"#000000\">source : id</text>\n",
       "<text text-anchor=\"start\" x=\"1370.8965\" y=\"-214.3\" font-family=\"Times,serif\" font-size=\"14.00\" fill=\"#000000\">procedure : id</text>\n",
       "<text text-anchor=\"start\" x=\"1370.8965\" y=\"-200.3\" font-family=\"Times,serif\" font-size=\"14.00\" fill=\"#000000\">weekday : id</text>\n",
       "<text text-anchor=\"start\" x=\"1370.8965\" y=\"-186.3\" font-family=\"Times,serif\" font-size=\"14.00\" fill=\"#000000\">apptType : id</text>\n",
       "</g>\n",
       "<!-- patients -->\n",
       "<g id=\"node2\" class=\"node\">\n",
       "<title>patients</title>\n",
       "<polygon fill=\"none\" stroke=\"#000000\" points=\"0,-.5 0,-142.5 281.1797,-142.5 281.1797,-.5 0,-.5\"/>\n",
       "<text text-anchor=\"middle\" x=\"140.5898\" y=\"-127.3\" font-family=\"Times,serif\" font-size=\"14.00\" fill=\"#000000\">patients</text>\n",
       "<polyline fill=\"none\" stroke=\"#000000\" points=\"0,-120.5 281.1797,-120.5 \"/>\n",
       "<text text-anchor=\"start\" x=\"8\" y=\"-105.3\" font-family=\"Times,serif\" font-size=\"14.00\" fill=\"#000000\">PatientId : index</text>\n",
       "<text text-anchor=\"start\" x=\"8\" y=\"-91.3\" font-family=\"Times,serif\" font-size=\"14.00\" fill=\"#000000\">Patient : text</text>\n",
       "<text text-anchor=\"start\" x=\"8\" y=\"-77.3\" font-family=\"Times,serif\" font-size=\"14.00\" fill=\"#000000\">PatientEmail : email</text>\n",
       "<text text-anchor=\"start\" x=\"8\" y=\"-63.3\" font-family=\"Times,serif\" font-size=\"14.00\" fill=\"#000000\">GuarantorEmail : email</text>\n",
       "<text text-anchor=\"start\" x=\"8\" y=\"-49.3\" font-family=\"Times,serif\" font-size=\"14.00\" fill=\"#000000\">PatientPhone1 : phone_number</text>\n",
       "<text text-anchor=\"start\" x=\"8\" y=\"-35.3\" font-family=\"Times,serif\" font-size=\"14.00\" fill=\"#000000\">newpatientfile : ordinal</text>\n",
       "<text text-anchor=\"start\" x=\"8\" y=\"-21.3\" font-family=\"Times,serif\" font-size=\"14.00\" fill=\"#000000\">Age_npf : numeric</text>\n",
       "<text text-anchor=\"start\" x=\"8\" y=\"-7.3\" font-family=\"Times,serif\" font-size=\"14.00\" fill=\"#000000\">first_appointments_time : datetime_time_index</text>\n",
       "</g>\n",
       "<!-- appointments&#45;&gt;patients -->\n",
       "<g id=\"edge1\" class=\"edge\">\n",
       "<title>appointments&#45;&gt;patients</title>\n",
       "<path fill=\"none\" stroke=\"#000000\" d=\"M1400.9909,-179.4563C1400.9909,-147.2729 1400.9909,-122 1400.9909,-122 1400.9909,-122 291.201,-122 291.201,-122\"/>\n",
       "<polygon fill=\"#000000\" stroke=\"#000000\" points=\"291.2011,-118.5001 281.201,-122 291.201,-125.5001 291.2011,-118.5001\"/>\n",
       "<text text-anchor=\"middle\" x=\"849.5517\" y=\"-124.8\" font-family=\"Times,serif\" font-size=\"14.00\" fill=\"#000000\">PatientId</text>\n",
       "</g>\n",
       "<!-- patientemails -->\n",
       "<g id=\"node3\" class=\"node\">\n",
       "<title>patientemails</title>\n",
       "<polygon fill=\"none\" stroke=\"#000000\" points=\"299,-42.5 299,-100.5 580.1797,-100.5 580.1797,-42.5 299,-42.5\"/>\n",
       "<text text-anchor=\"middle\" x=\"439.5898\" y=\"-85.3\" font-family=\"Times,serif\" font-size=\"14.00\" fill=\"#000000\">patientemails</text>\n",
       "<polyline fill=\"none\" stroke=\"#000000\" points=\"299,-78.5 580.1797,-78.5 \"/>\n",
       "<text text-anchor=\"start\" x=\"307\" y=\"-63.3\" font-family=\"Times,serif\" font-size=\"14.00\" fill=\"#000000\">patientEmailDomain : index</text>\n",
       "<text text-anchor=\"start\" x=\"307\" y=\"-49.3\" font-family=\"Times,serif\" font-size=\"14.00\" fill=\"#000000\">first_appointments_time : datetime_time_index</text>\n",
       "</g>\n",
       "<!-- appointments&#45;&gt;patientemails -->\n",
       "<g id=\"edge2\" class=\"edge\">\n",
       "<title>appointments&#45;&gt;patientemails</title>\n",
       "<path fill=\"none\" stroke=\"#000000\" d=\"M1362.782,-380C1086.4244,-380 439.5898,-380 439.5898,-380 439.5898,-380 439.5898,-110.5229 439.5898,-110.5229\"/>\n",
       "<polygon fill=\"#000000\" stroke=\"#000000\" points=\"443.0899,-110.5229 439.5898,-100.5229 436.0899,-110.523 443.0899,-110.5229\"/>\n",
       "<text text-anchor=\"middle\" x=\"708.13\" y=\"-382.8\" font-family=\"Times,serif\" font-size=\"14.00\" fill=\"#000000\">patientEmailDomain</text>\n",
       "</g>\n",
       "<!-- guarantoremails -->\n",
       "<g id=\"node4\" class=\"node\">\n",
       "<title>guarantoremails</title>\n",
       "<polygon fill=\"none\" stroke=\"#000000\" points=\"598,-42.5 598,-100.5 879.1797,-100.5 879.1797,-42.5 598,-42.5\"/>\n",
       "<text text-anchor=\"middle\" x=\"738.5898\" y=\"-85.3\" font-family=\"Times,serif\" font-size=\"14.00\" fill=\"#000000\">guarantoremails</text>\n",
       "<polyline fill=\"none\" stroke=\"#000000\" points=\"598,-78.5 879.1797,-78.5 \"/>\n",
       "<text text-anchor=\"start\" x=\"606\" y=\"-63.3\" font-family=\"Times,serif\" font-size=\"14.00\" fill=\"#000000\">guarantorEmailDomain : index</text>\n",
       "<text text-anchor=\"start\" x=\"606\" y=\"-49.3\" font-family=\"Times,serif\" font-size=\"14.00\" fill=\"#000000\">first_appointments_time : datetime_time_index</text>\n",
       "</g>\n",
       "<!-- appointments&#45;&gt;guarantoremails -->\n",
       "<g id=\"edge3\" class=\"edge\">\n",
       "<title>appointments&#45;&gt;guarantoremails</title>\n",
       "<path fill=\"none\" stroke=\"#000000\" d=\"M1362.6565,-313C1150.6106,-313 738.5898,-313 738.5898,-313 738.5898,-313 738.5898,-110.6305 738.5898,-110.6305\"/>\n",
       "<polygon fill=\"#000000\" stroke=\"#000000\" points=\"742.0899,-110.6305 738.5898,-100.6305 735.0899,-110.6306 742.0899,-110.6305\"/>\n",
       "<text text-anchor=\"middle\" x=\"883.3486\" y=\"-315.8\" font-family=\"Times,serif\" font-size=\"14.00\" fill=\"#000000\">guarantorEmailDomain</text>\n",
       "</g>\n",
       "<!-- patientPhones -->\n",
       "<g id=\"node5\" class=\"node\">\n",
       "<title>patientPhones</title>\n",
       "<polygon fill=\"none\" stroke=\"#000000\" points=\"897,-42.5 897,-100.5 1178.1797,-100.5 1178.1797,-42.5 897,-42.5\"/>\n",
       "<text text-anchor=\"middle\" x=\"1037.5898\" y=\"-85.3\" font-family=\"Times,serif\" font-size=\"14.00\" fill=\"#000000\">patientPhones</text>\n",
       "<polyline fill=\"none\" stroke=\"#000000\" points=\"897,-78.5 1178.1797,-78.5 \"/>\n",
       "<text text-anchor=\"start\" x=\"905\" y=\"-63.3\" font-family=\"Times,serif\" font-size=\"14.00\" fill=\"#000000\">patientPhone1AreaCode : index</text>\n",
       "<text text-anchor=\"start\" x=\"905\" y=\"-49.3\" font-family=\"Times,serif\" font-size=\"14.00\" fill=\"#000000\">first_appointments_time : datetime_time_index</text>\n",
       "</g>\n",
       "<!-- appointments&#45;&gt;patientPhones -->\n",
       "<g id=\"edge4\" class=\"edge\">\n",
       "<title>appointments&#45;&gt;patientPhones</title>\n",
       "<path fill=\"none\" stroke=\"#000000\" d=\"M1362.8757,-246C1230.2403,-246 1037.5898,-246 1037.5898,-246 1037.5898,-246 1037.5898,-110.7074 1037.5898,-110.7074\"/>\n",
       "<polygon fill=\"#000000\" stroke=\"#000000\" points=\"1041.0899,-110.7073 1037.5898,-100.7074 1034.0899,-110.7074 1041.0899,-110.7073\"/>\n",
       "<text text-anchor=\"middle\" x=\"1064.1621\" y=\"-248.8\" font-family=\"Times,serif\" font-size=\"14.00\" fill=\"#000000\">patientPhone1AreaCode</text>\n",
       "</g>\n",
       "<!-- insurances -->\n",
       "<g id=\"node6\" class=\"node\">\n",
       "<title>insurances</title>\n",
       "<polygon fill=\"none\" stroke=\"#000000\" points=\"1196,-42.5 1196,-100.5 1477.1797,-100.5 1477.1797,-42.5 1196,-42.5\"/>\n",
       "<text text-anchor=\"middle\" x=\"1336.5898\" y=\"-85.3\" font-family=\"Times,serif\" font-size=\"14.00\" fill=\"#000000\">insurances</text>\n",
       "<polyline fill=\"none\" stroke=\"#000000\" points=\"1196,-78.5 1477.1797,-78.5 \"/>\n",
       "<text text-anchor=\"start\" x=\"1204\" y=\"-63.3\" font-family=\"Times,serif\" font-size=\"14.00\" fill=\"#000000\">insurance : index</text>\n",
       "<text text-anchor=\"start\" x=\"1204\" y=\"-49.3\" font-family=\"Times,serif\" font-size=\"14.00\" fill=\"#000000\">first_appointments_time : datetime_time_index</text>\n",
       "</g>\n",
       "<!-- appointments&#45;&gt;insurances -->\n",
       "<g id=\"edge5\" class=\"edge\">\n",
       "<title>appointments&#45;&gt;insurances</title>\n",
       "<path fill=\"none\" stroke=\"#000000\" d=\"M1439.0853,-179.4066C1439.0853,-179.4066 1439.0853,-110.849 1439.0853,-110.849\"/>\n",
       "<polygon fill=\"#000000\" stroke=\"#000000\" points=\"1442.5854,-110.849 1439.0853,-100.849 1435.5854,-110.8491 1442.5854,-110.849\"/>\n",
       "<text text-anchor=\"middle\" x=\"1412.2645\" y=\"-147.9278\" font-family=\"Times,serif\" font-size=\"14.00\" fill=\"#000000\">insurance</text>\n",
       "</g>\n",
       "<!-- providers -->\n",
       "<g id=\"node7\" class=\"node\">\n",
       "<title>providers</title>\n",
       "<polygon fill=\"none\" stroke=\"#000000\" points=\"1495,-42.5 1495,-100.5 1776.1797,-100.5 1776.1797,-42.5 1495,-42.5\"/>\n",
       "<text text-anchor=\"middle\" x=\"1635.5898\" y=\"-85.3\" font-family=\"Times,serif\" font-size=\"14.00\" fill=\"#000000\">providers</text>\n",
       "<polyline fill=\"none\" stroke=\"#000000\" points=\"1495,-78.5 1776.1797,-78.5 \"/>\n",
       "<text text-anchor=\"start\" x=\"1503\" y=\"-63.3\" font-family=\"Times,serif\" font-size=\"14.00\" fill=\"#000000\">provider : index</text>\n",
       "<text text-anchor=\"start\" x=\"1503\" y=\"-49.3\" font-family=\"Times,serif\" font-size=\"14.00\" fill=\"#000000\">first_appointments_time : datetime_time_index</text>\n",
       "</g>\n",
       "<!-- appointments&#45;&gt;providers -->\n",
       "<g id=\"edge6\" class=\"edge\">\n",
       "<title>appointments&#45;&gt;providers</title>\n",
       "<path fill=\"none\" stroke=\"#000000\" d=\"M1551.6416,-179.4066C1551.6416,-179.4066 1551.6416,-110.849 1551.6416,-110.849\"/>\n",
       "<polygon fill=\"#000000\" stroke=\"#000000\" points=\"1555.1417,-110.849 1551.6416,-100.849 1548.1417,-110.8491 1555.1417,-110.849\"/>\n",
       "<text text-anchor=\"middle\" x=\"1527.9277\" y=\"-147.9278\" font-family=\"Times,serif\" font-size=\"14.00\" fill=\"#000000\">provider</text>\n",
       "</g>\n",
       "<!-- sources -->\n",
       "<g id=\"node8\" class=\"node\">\n",
       "<title>sources</title>\n",
       "<polygon fill=\"none\" stroke=\"#000000\" points=\"1794,-42.5 1794,-100.5 2075.1797,-100.5 2075.1797,-42.5 1794,-42.5\"/>\n",
       "<text text-anchor=\"middle\" x=\"1934.5898\" y=\"-85.3\" font-family=\"Times,serif\" font-size=\"14.00\" fill=\"#000000\">sources</text>\n",
       "<polyline fill=\"none\" stroke=\"#000000\" points=\"1794,-78.5 2075.1797,-78.5 \"/>\n",
       "<text text-anchor=\"start\" x=\"1802\" y=\"-63.3\" font-family=\"Times,serif\" font-size=\"14.00\" fill=\"#000000\">source : index</text>\n",
       "<text text-anchor=\"start\" x=\"1802\" y=\"-49.3\" font-family=\"Times,serif\" font-size=\"14.00\" fill=\"#000000\">first_appointments_time : datetime_time_index</text>\n",
       "</g>\n",
       "<!-- appointments&#45;&gt;sources -->\n",
       "<g id=\"edge7\" class=\"edge\">\n",
       "<title>appointments&#45;&gt;sources</title>\n",
       "<path fill=\"none\" stroke=\"#000000\" d=\"M1608.5779,-232C1741.5093,-232 1934.5898,-232 1934.5898,-232 1934.5898,-232 1934.5898,-110.5653 1934.5898,-110.5653\"/>\n",
       "<polygon fill=\"#000000\" stroke=\"#000000\" points=\"1938.0899,-110.5653 1934.5898,-100.5653 1931.0899,-110.5654 1938.0899,-110.5653\"/>\n",
       "<text text-anchor=\"middle\" x=\"1814.0322\" y=\"-234.8\" font-family=\"Times,serif\" font-size=\"14.00\" fill=\"#000000\">source</text>\n",
       "</g>\n",
       "<!-- procedures -->\n",
       "<g id=\"node9\" class=\"node\">\n",
       "<title>procedures</title>\n",
       "<polygon fill=\"none\" stroke=\"#000000\" points=\"2093,-42.5 2093,-100.5 2374.1797,-100.5 2374.1797,-42.5 2093,-42.5\"/>\n",
       "<text text-anchor=\"middle\" x=\"2233.5898\" y=\"-85.3\" font-family=\"Times,serif\" font-size=\"14.00\" fill=\"#000000\">procedures</text>\n",
       "<polyline fill=\"none\" stroke=\"#000000\" points=\"2093,-78.5 2374.1797,-78.5 \"/>\n",
       "<text text-anchor=\"start\" x=\"2101\" y=\"-63.3\" font-family=\"Times,serif\" font-size=\"14.00\" fill=\"#000000\">procedure : index</text>\n",
       "<text text-anchor=\"start\" x=\"2101\" y=\"-49.3\" font-family=\"Times,serif\" font-size=\"14.00\" fill=\"#000000\">first_appointments_time : datetime_time_index</text>\n",
       "</g>\n",
       "<!-- appointments&#45;&gt;procedures -->\n",
       "<g id=\"edge8\" class=\"edge\">\n",
       "<title>appointments&#45;&gt;procedures</title>\n",
       "<path fill=\"none\" stroke=\"#000000\" d=\"M1608.6878,-286C1821.0175,-286 2233.5898,-286 2233.5898,-286 2233.5898,-286 2233.5898,-110.8756 2233.5898,-110.8756\"/>\n",
       "<polygon fill=\"#000000\" stroke=\"#000000\" points=\"2237.0899,-110.8755 2233.5898,-100.8756 2230.0899,-110.8756 2237.0899,-110.8755\"/>\n",
       "<text text-anchor=\"middle\" x=\"1980.7181\" y=\"-288.8\" font-family=\"Times,serif\" font-size=\"14.00\" fill=\"#000000\">procedure</text>\n",
       "</g>\n",
       "<!-- weekdays -->\n",
       "<g id=\"node10\" class=\"node\">\n",
       "<title>weekdays</title>\n",
       "<polygon fill=\"none\" stroke=\"#000000\" points=\"2392,-42.5 2392,-100.5 2673.1797,-100.5 2673.1797,-42.5 2392,-42.5\"/>\n",
       "<text text-anchor=\"middle\" x=\"2532.5898\" y=\"-85.3\" font-family=\"Times,serif\" font-size=\"14.00\" fill=\"#000000\">weekdays</text>\n",
       "<polyline fill=\"none\" stroke=\"#000000\" points=\"2392,-78.5 2673.1797,-78.5 \"/>\n",
       "<text text-anchor=\"start\" x=\"2400\" y=\"-63.3\" font-family=\"Times,serif\" font-size=\"14.00\" fill=\"#000000\">weekday : index</text>\n",
       "<text text-anchor=\"start\" x=\"2400\" y=\"-49.3\" font-family=\"Times,serif\" font-size=\"14.00\" fill=\"#000000\">first_appointments_time : datetime_time_index</text>\n",
       "</g>\n",
       "<!-- appointments&#45;&gt;weekdays -->\n",
       "<g id=\"edge9\" class=\"edge\">\n",
       "<title>appointments&#45;&gt;weekdays</title>\n",
       "<path fill=\"none\" stroke=\"#000000\" d=\"M1608.5151,-340C1885.1369,-340 2532.5898,-340 2532.5898,-340 2532.5898,-340 2532.5898,-110.7453 2532.5898,-110.7453\"/>\n",
       "<polygon fill=\"#000000\" stroke=\"#000000\" points=\"2536.0899,-110.7453 2532.5898,-100.7453 2529.0899,-110.7454 2536.0899,-110.7453\"/>\n",
       "<text text-anchor=\"middle\" x=\"2160.3038\" y=\"-342.8\" font-family=\"Times,serif\" font-size=\"14.00\" fill=\"#000000\">weekday</text>\n",
       "</g>\n",
       "<!-- apptTypes -->\n",
       "<g id=\"node11\" class=\"node\">\n",
       "<title>apptTypes</title>\n",
       "<polygon fill=\"none\" stroke=\"#000000\" points=\"2691,-42.5 2691,-100.5 2972.1797,-100.5 2972.1797,-42.5 2691,-42.5\"/>\n",
       "<text text-anchor=\"middle\" x=\"2831.5898\" y=\"-85.3\" font-family=\"Times,serif\" font-size=\"14.00\" fill=\"#000000\">apptTypes</text>\n",
       "<polyline fill=\"none\" stroke=\"#000000\" points=\"2691,-78.5 2972.1797,-78.5 \"/>\n",
       "<text text-anchor=\"start\" x=\"2699\" y=\"-63.3\" font-family=\"Times,serif\" font-size=\"14.00\" fill=\"#000000\">apptType : index</text>\n",
       "<text text-anchor=\"start\" x=\"2699\" y=\"-49.3\" font-family=\"Times,serif\" font-size=\"14.00\" fill=\"#000000\">first_appointments_time : datetime_time_index</text>\n",
       "</g>\n",
       "<!-- appointments&#45;&gt;apptTypes -->\n",
       "<g id=\"edge10\" class=\"edge\">\n",
       "<title>appointments&#45;&gt;apptTypes</title>\n",
       "<path fill=\"none\" stroke=\"#000000\" d=\"M1608.3076,-394C1940.3475,-394 2831.5898,-394 2831.5898,-394 2831.5898,-394 2831.5898,-110.6885 2831.5898,-110.6885\"/>\n",
       "<polygon fill=\"#000000\" stroke=\"#000000\" points=\"2835.0899,-110.6885 2831.5898,-100.6885 2828.0899,-110.6886 2835.0899,-110.6885\"/>\n",
       "<text text-anchor=\"middle\" x=\"2335.6586\" y=\"-396.8\" font-family=\"Times,serif\" font-size=\"14.00\" fill=\"#000000\">apptType</text>\n",
       "</g>\n",
       "</g>\n",
       "</svg>\n"
      ],
      "text/plain": [
       "<graphviz.dot.Digraph at 0x115a1ec50>"
      ]
     },
     "execution_count": 14,
     "metadata": {},
     "output_type": "execute_result"
    }
   ],
   "source": [
    "es.plot()"
   ]
  },
  {
   "cell_type": "markdown",
   "metadata": {},
   "source": [
    "## 2) Building ML models"
   ]
  },
  {
   "cell_type": "code",
   "execution_count": 4,
   "metadata": {},
   "outputs": [],
   "source": [
    "from sklearn.metrics import confusion_matrix, roc_curve, roc_auc_score, auc\n",
    "from sklearn.linear_model import LogisticRegression\n",
    "from sklearn.model_selection import train_test_split,cross_val_score\n",
    "import pandas as pd\n",
    "import numpy as np\n",
    "import multiprocess as mp\n",
    "from xgboost import XGBClassifier, plot_importance\n",
    "from sklearn.model_selection import GridSearchCV\n",
    "import os\n",
    "\n",
    "cwd = os.getcwd()"
   ]
  },
  {
   "cell_type": "code",
   "execution_count": 5,
   "metadata": {},
   "outputs": [],
   "source": [
    "##choose to drop cat cols\n",
    "cat_cols = ['insurance','provider', 'procedure', 'patientEmailDomain', 'guarantorEmailDomain', \n",
    "            'patientPhone1AreaCode','weekday', 'apptType','source']\n"
   ]
  },
  {
   "cell_type": "code",
   "execution_count": 6,
   "metadata": {},
   "outputs": [],
   "source": [
    "#pickle that data set. only do this when you want to replace\n",
    "#X_ft.drop(cat_cols,axis=1).to_pickle(cwd + \"/data/postFT_insight.pkl\")\n",
    "full_dataset = pd.read_pickle(cwd + \"/data/postFT_insight.pkl\")"
   ]
  },
  {
   "cell_type": "code",
   "execution_count": 6,
   "metadata": {},
   "outputs": [],
   "source": [
    "##skip this step if loading in pickle\n",
    "##choose to drop cat cols\n",
    "#cat_cols = ['insurance','provider', 'procedure', 'patientEmailDomain', 'guarantorEmailDomain', \n",
    "#            'patientPhone1AreaCode','weekday', 'apptType','source']\n",
    "\n",
    "\n",
    "#import and load data\n",
    "#full_dataset = pd.concat([X_ft],axis=1).drop(cat_cols,axis=1)"
   ]
  },
  {
   "cell_type": "code",
   "execution_count": 7,
   "metadata": {},
   "outputs": [],
   "source": [
    "##if loading pickle, drop in here\n",
    "X = full_dataset.drop(['noshow'],axis=1)\n",
    "y = full_dataset[['noshow']]\n"
   ]
  },
  {
   "cell_type": "code",
   "execution_count": 8,
   "metadata": {},
   "outputs": [],
   "source": [
    "#split 2018 data into training and test sets, setting a seed for replication purposes\n",
    "cutoff_month = 8\n",
    "X_train, X_test, y_train, y_test = (X[X['MONTH(AppointmentDate)']<=cutoff_month],\n",
    "                                    X[X['MONTH(AppointmentDate)']>cutoff_month],\n",
    "                                    y[X['MONTH(AppointmentDate)']<=cutoff_month],\n",
    "                                    y[X['MONTH(AppointmentDate)']>cutoff_month])\n",
    "\n",
    "\n",
    "# Explicitly impute values for missing fields for RF and Log\n",
    "X_train, X_test = X_train.fillna(X_train.mean()), X_test.fillna(X_test.mean())\n",
    "X_train, X_test = X_train.fillna(0), X_test.fillna(0)\n",
    "\n"
   ]
  },
  {
   "cell_type": "code",
   "execution_count": 9,
   "metadata": {},
   "outputs": [
    {
     "name": "stderr",
     "output_type": "stream",
     "text": [
      "/Library/Frameworks/Python.framework/Versions/3.7/lib/python3.7/site-packages/sklearn/utils/validation.py:724: DataConversionWarning: A column-vector y was passed when a 1d array was expected. Please change the shape of y to (n_samples, ), for example using ravel().\n",
      "  y = column_or_1d(y, warn=True)\n"
     ]
    }
   ],
   "source": [
    "#logistic regression model\n",
    "model_log = LogisticRegression(solver=\"liblinear\", C=0.5, random_state=1).fit(X_train,y_train) ## train on data\n",
    "y_pred_model_log = model_log.predict_proba(X_test) #predict on test set"
   ]
  },
  {
   "cell_type": "code",
   "execution_count": 10,
   "metadata": {},
   "outputs": [
    {
     "name": "stderr",
     "output_type": "stream",
     "text": [
      "/Library/Frameworks/Python.framework/Versions/3.7/lib/python3.7/site-packages/ipykernel_launcher.py:3: DataConversionWarning: A column-vector y was passed when a 1d array was expected. Please change the shape of y to (n_samples,), for example using ravel().\n",
      "  This is separate from the ipykernel package so we can avoid doing imports until\n"
     ]
    }
   ],
   "source": [
    "from sklearn.ensemble import RandomForestClassifier\n",
    "#random forest model\n",
    "model_rf = RandomForestClassifier(n_estimators=1000, random_state=1).fit(X_train,y_train) ## train on data\n",
    "y_pred_model_rf = model_rf.predict_proba(X_test) #predict on test set"
   ]
  },
  {
   "cell_type": "code",
   "execution_count": 11,
   "metadata": {},
   "outputs": [],
   "source": [
    "##XGBoost\n",
    "from xgboost import XGBClassifier, plot_importance\n",
    "\n",
    "#XGB - automatically deals with missing values during training\n",
    "model_xgb = (XGBClassifier(n_estimators=1914, max_depth = 25, eta = 0.15076, subsample = 0.62141, \n",
    "                           n_thread = 4, random_state=1, alpha = 0,\n",
    "                           tree_method = 'hist').fit(X_train,y_train.values.ravel()))\n",
    "y_pred_model_xgb = model_xgb.predict_proba(X_test)"
   ]
  },
  {
   "cell_type": "code",
   "execution_count": 12,
   "metadata": {},
   "outputs": [
    {
     "name": "stdout",
     "output_type": "stream",
     "text": [
      "The AUC score of the Log Reg model is: 0.59\n",
      "The AUC score of the RF model is: 0.62\n",
      "The AUC score of the XGB model is: 0.64\n"
     ]
    }
   ],
   "source": [
    "print(\"The AUC score of the Log Reg model is: \" + str(np.round(roc_auc_score(y_test,pd.DataFrame(y_pred_model_log)[1]),2)))\n",
    "print(\"The AUC score of the RF model is: \" + str(np.round(roc_auc_score(y_test,pd.DataFrame(y_pred_model_rf)[1]),2)))\n",
    "print(\"The AUC score of the XGB model is: \" + str(np.round(roc_auc_score(y_test,pd.DataFrame(y_pred_model_xgb)[1]),2)))\n"
   ]
  },
  {
   "cell_type": "markdown",
   "metadata": {},
   "source": [
    "### 3) Hyperparameter Tuning"
   ]
  },
  {
   "cell_type": "markdown",
   "metadata": {},
   "source": [
    "#### alpha "
   ]
  },
  {
   "cell_type": "code",
   "execution_count": 55,
   "metadata": {},
   "outputs": [
    {
     "data": {
      "text/plain": [
       "({'alpha': 0}, 0.37458892581974357)"
      ]
     },
     "execution_count": 55,
     "metadata": {},
     "output_type": "execute_result"
    }
   ],
   "source": [
    "#alpha rate\n",
    "param_test1 = {'alpha':[0, 1e-2, 0.1, 1, 10, 100, 1000]}\n",
    "\n",
    "gsearch1 = GridSearchCV(estimator = XGBClassifier(n_estimators=200,max_depth = 4, eta = 0.15076, subsample = 0.62141,\n",
    "                                                  n_thread = 4, random_state=1, alpha = 0.5,tree_method = 'hist'),\n",
    "                        cv=5, param_grid = param_test1, scoring='roc_auc', iid=False)\n",
    "\n",
    "gsearch1.fit(X_train,y_train.values.ravel())\n",
    "gsearch1.best_params_, gsearch1.best_score_\n",
    "##alpha of 0 is best"
   ]
  },
  {
   "cell_type": "markdown",
   "metadata": {},
   "source": [
    "#### max depth"
   ]
  },
  {
   "cell_type": "code",
   "execution_count": 56,
   "metadata": {},
   "outputs": [
    {
     "data": {
      "text/plain": [
       "({'max_depth': 5}, 0.365290563677373)"
      ]
     },
     "execution_count": 56,
     "metadata": {},
     "output_type": "execute_result"
    }
   ],
   "source": [
    "#max depth\n",
    "param_test2 = {'max_depth':range(5,45,10)}\n",
    "\n",
    "gsearch2 = GridSearchCV(estimator = XGBClassifier(n_estimators=200,max_depth = 5, eta = 0.15076, subsample = 0.62141,\n",
    "                                                  n_thread = 4, random_state=1, alpha = 0,tree_method = 'hist'),\n",
    "                        cv=5, param_grid = param_test2, scoring='roc_auc', iid=False)\n",
    "\n",
    "gsearch2.fit(X_train,y_train.values.ravel())\n",
    "gsearch2.best_params_, gsearch2.best_score_\n",
    "\n"
   ]
  },
  {
   "cell_type": "code",
   "execution_count": 59,
   "metadata": {},
   "outputs": [
    {
     "data": {
      "text/plain": [
       "({'max_depth': 2}, 0.39912281793866244)"
      ]
     },
     "execution_count": 59,
     "metadata": {},
     "output_type": "execute_result"
    }
   ],
   "source": [
    "#max depth fine tune\n",
    "param_test3 = {'max_depth':[1,2,3,4,5,6]}\n",
    "\n",
    "gsearch3 = GridSearchCV(estimator = XGBClassifier(n_estimators=200,max_depth = 5, eta = 0.15076, subsample = 0.62141,\n",
    "                                                  n_thread = 4, random_state=1, alpha = 0,tree_method = 'hist'),\n",
    "                        cv=5, param_grid = param_test3, scoring='roc_auc', iid=False)\n",
    "\n",
    "gsearch3.fit(X_train,y_train.values.ravel())\n",
    "gsearch3.best_params_, gsearch3.best_score_\n",
    "\n"
   ]
  },
  {
   "cell_type": "markdown",
   "metadata": {},
   "source": [
    "#### max estimators"
   ]
  },
  {
   "cell_type": "code",
   "execution_count": null,
   "metadata": {},
   "outputs": [],
   "source": [
    "#n_estimators\n",
    "param_test4 = {'n_estimators':range(200,1000,200)}\n",
    "\n",
    "gsearch4 = GridSearchCV(estimator = XGBClassifier(n_estimators=200,max_depth = 2, eta = 0.15076, subsample = 0.62141,\n",
    "                                                  n_thread = 4, random_state=1, alpha = 0,tree_method = 'hist'),\n",
    "                        cv=5, param_grid = param_test4, scoring='roc_auc', iid=False)\n",
    "\n",
    "gsearch4.fit(X_train,y_train.values.ravel())\n",
    "gsearch4.best_params_, gsearch4.best_score_\n"
   ]
  },
  {
   "cell_type": "code",
   "execution_count": 70,
   "metadata": {},
   "outputs": [
    {
     "data": {
      "text/plain": [
       "({'n_estimators': 12}, 0.4792200464550894)"
      ]
     },
     "execution_count": 70,
     "metadata": {},
     "output_type": "execute_result"
    }
   ],
   "source": [
    "#n_estimators\n",
    "param_test4 = {'n_estimators':[6,12,25, 50, 100,200]}\n",
    "\n",
    "gsearch4 = GridSearchCV(estimator = XGBClassifier(n_estimators=200,max_depth = 2, eta = 0.15076, subsample = 0.62141,\n",
    "                                                  n_thread = 4, random_state=1, alpha = 0,tree_method = 'hist'),\n",
    "                        cv=5, param_grid = param_test4, scoring='roc_auc', iid=False)\n",
    "\n",
    "gsearch4.fit(X_train,y_train.values.ravel())\n",
    "gsearch4.best_params_, gsearch4.best_score_"
   ]
  },
  {
   "cell_type": "markdown",
   "metadata": {},
   "source": [
    "#### eta"
   ]
  },
  {
   "cell_type": "code",
   "execution_count": 64,
   "metadata": {},
   "outputs": [
    {
     "data": {
      "text/plain": [
       "({'eta': 0.05}, 0.39912281793866244)"
      ]
     },
     "execution_count": 64,
     "metadata": {},
     "output_type": "execute_result"
    }
   ],
   "source": [
    "#eta\n",
    "param_test5 = {'eta':[i/20.0 for i in range(1,6)]}\n",
    "\n",
    "gsearch5 = GridSearchCV(estimator = XGBClassifier(n_estimators=200,max_depth = 2, eta = 0.15076, subsample = 0.62141,\n",
    "                                                  n_thread = 4, random_state=1, alpha = 0,tree_method = 'hist'),\n",
    "                        cv=5, param_grid = param_test5, scoring='roc_auc', iid=False)\n",
    "\n",
    "gsearch5.fit(X_train,y_train.values.ravel())\n",
    "gsearch5.best_params_, gsearch5.best_score_\n"
   ]
  },
  {
   "cell_type": "markdown",
   "metadata": {},
   "source": [
    "#### subsample"
   ]
  },
  {
   "cell_type": "code",
   "execution_count": 66,
   "metadata": {},
   "outputs": [
    {
     "data": {
      "text/plain": [
       "({'subsample': 0.3}, 0.3731401835583753)"
      ]
     },
     "execution_count": 66,
     "metadata": {},
     "output_type": "execute_result"
    }
   ],
   "source": [
    "#subsample\n",
    "param_test6 = {'subsample':[i/10.0 for i in range(1,9,2)]}\n",
    "\n",
    "gsearch6 = GridSearchCV(estimator = XGBClassifier(n_estimators=200,max_depth = 2, eta = 0.05, subsample = 0.62141,\n",
    "                                                  n_thread = 4, random_state=1, alpha = 0,tree_method = 'hist'),\n",
    "                        cv=5, param_grid = param_test6, scoring='roc_auc', iid=False)\n",
    "\n",
    "gsearch6.fit(X_train,y_train.values.ravel())\n",
    "gsearch6.best_params_, gsearch6.best_score_\n"
   ]
  },
  {
   "cell_type": "markdown",
   "metadata": {},
   "source": [
    "#### gamma"
   ]
  },
  {
   "cell_type": "code",
   "execution_count": 67,
   "metadata": {},
   "outputs": [
    {
     "data": {
      "text/plain": [
       "({'gamma': 0.1}, 0.37108066572634374)"
      ]
     },
     "execution_count": 67,
     "metadata": {},
     "output_type": "execute_result"
    }
   ],
   "source": [
    "#gamma rate\n",
    "param_test7 = {'gamma':[i/10.0 for i in range(0,5)]}\n",
    "\n",
    "gsearch7 = GridSearchCV(estimator = XGBClassifier(n_estimators=200,max_depth = 2, eta = 0.05, subsample = 0.3,\n",
    "                                                  n_thread = 4, random_state=1, alpha = 0, gamma=0,tree_method = 'hist'),\n",
    "                        cv=5, param_grid = param_test7, scoring='roc_auc', iid=False)\n",
    "\n",
    "gsearch7.fit(X_train,y_train.values.ravel())\n",
    "gsearch7.best_params_, gsearch7.best_score_\n"
   ]
  },
  {
   "cell_type": "code",
   "execution_count": 68,
   "metadata": {},
   "outputs": [
    {
     "data": {
      "text/plain": [
       "({'gamma': 0.1}, 0.37108066572634374)"
      ]
     },
     "execution_count": 68,
     "metadata": {},
     "output_type": "execute_result"
    }
   ],
   "source": [
    "#gamma rate\n",
    "param_test7 = {'gamma':[i/20.0 for i in range(0,3)]}\n",
    "\n",
    "gsearch7 = GridSearchCV(estimator = XGBClassifier(n_estimators=200,max_depth = 2, eta = 0.05, subsample = 0.3,\n",
    "                                                  n_thread = 4, random_state=1, alpha = 0, gamma=0,tree_method = 'hist'),\n",
    "                        cv=5, param_grid = param_test7, scoring='roc_auc', iid=False)\n",
    "\n",
    "gsearch7.fit(X_train,y_train.values.ravel())\n",
    "gsearch7.best_params_, gsearch7.best_score_"
   ]
  },
  {
   "cell_type": "markdown",
   "metadata": {},
   "source": [
    "#### all together"
   ]
  },
  {
   "cell_type": "code",
   "execution_count": 73,
   "metadata": {},
   "outputs": [
    {
     "data": {
      "text/plain": [
       "({'eta': 0.05,\n",
       "  'gamma': 0.0,\n",
       "  'max_depth': 1,\n",
       "  'n_estimators': 25,\n",
       "  'subsample': 0.5},\n",
       " 0.582821084090225)"
      ]
     },
     "execution_count": 73,
     "metadata": {},
     "output_type": "execute_result"
    }
   ],
   "source": [
    "param_test8 = {'gamma':[i/20.0 for i in range(0,3)],\n",
    "               'max_depth':[1,2,3,4,5,6],\n",
    "               'n_estimators':[6,12,25, 50, 100],\n",
    "               'eta':[i/20.0 for i in range(1,4)],\n",
    "               'subsample':[i/10.0 for i in range(1,9,2)],\n",
    "              }\n",
    "\n",
    "gsearch8 = GridSearchCV(estimator = XGBClassifier(n_estimators=200,max_depth = 2, eta = 0.05, subsample = 0.3,\n",
    "                                                  n_thread = 4, random_state=1, alpha = 0, gamma=0,tree_method = 'hist'),\n",
    "                        cv=5, param_grid = param_test8, scoring='roc_auc', iid=False)\n",
    "\n",
    "\n",
    "gsearch8.fit(X_train,y_train.values.ravel())\n",
    "gsearch8.best_params_, gsearch8.best_score_"
   ]
  },
  {
   "cell_type": "code",
   "execution_count": 74,
   "metadata": {},
   "outputs": [
    {
     "name": "stdout",
     "output_type": "stream",
     "text": [
      "The AUC score of the XGB model is: 0.67\n"
     ]
    }
   ],
   "source": [
    "##XGBoost with updated stuff\n",
    "from xgboost import XGBClassifier, plot_importance\n",
    "\n",
    "#XGB - automatically deals with missing values during training\n",
    "model_xgb_PT = (XGBClassifier(n_estimators=25, max_depth = 1, eta = 0.05, subsample = 0.5, \n",
    "                           n_thread = 4, random_state=1, alpha = 0,gamma = 0.0,\n",
    "                           tree_method = 'hist').fit(X_train,y_train.values.ravel()))\n",
    "y_pred_model_xgb_PT = model_xgb_PT.predict_proba(X_test)\n",
    "print(\"The AUC score of the XGB model is: \" + str(np.round(roc_auc_score(y_test,pd.DataFrame(y_pred_model_xgb_PT)[1]),2)))\n"
   ]
  },
  {
   "cell_type": "markdown",
   "metadata": {},
   "source": [
    "### 4) Visualizing Model \n"
   ]
  },
  {
   "cell_type": "code",
   "execution_count": 76,
   "metadata": {},
   "outputs": [
    {
     "data": {
      "image/png": "[encoded data removed]",
      "text/plain": [
       "<Figure size 432x288 with 1 Axes>"
      ]
     },
     "metadata": {},
     "output_type": "display_data"
    }
   ],
   "source": [
    "##comparing LOG, XGB, RF\n",
    "\n",
    "import matplotlib.pyplot as plt\n",
    "from xgboost import XGBClassifier, plot_importance\n",
    "\n",
    "##calculate false positive and true positive rates\n",
    "fpr, tpr,_=roc_curve(y_test,pd.DataFrame(y_pred_model_log)[1],drop_intermediate=False)\n",
    "fpr_2, tpr_2,_=roc_curve(y_test,pd.DataFrame(y_pred_model_xgb_PT)[1],drop_intermediate=False)\n",
    "fpr_3, tpr_3,_=roc_curve(y_test,pd.DataFrame(y_pred_model_rf)[1],drop_intermediate=False)\n",
    "\n",
    "\n",
    "# plot ROC and reference\n",
    "plt.plot([0, 1], [0, 1], color='blue', lw=2, linestyle='--')\n",
    "plt.plot(fpr, tpr, color='red', lw=2, label='LOG')\n",
    "plt.plot(fpr_2, tpr_2, color='green', lw=2, label='XGB')\n",
    "plt.plot(fpr_3, tpr_3, color='orange', lw=2, label='RF')\n",
    "\n",
    "##Title and label\n",
    "\n",
    "plt.xlabel('FPR')\n",
    "plt.ylabel('TPR')\n",
    "plt.legend()\n",
    "plt.title('ROC curve')\n",
    "\n",
    "plt.savefig('/Users/aishagharsalli/Documents/dental_predictive_tools/02-20-2019 data pull/figures/MVP_ROCcurve.png')\n",
    "plt.show()"
   ]
  },
  {
   "cell_type": "code",
   "execution_count": 77,
   "metadata": {},
   "outputs": [
    {
     "data": {
      "image/png": "[encoded data removed]",
      "text/plain": [
       "<Figure size 432x288 with 1 Axes>"
      ]
     },
     "metadata": {},
     "output_type": "display_data"
    }
   ],
   "source": [
    "import matplotlib.pyplot as plt\n",
    "\n",
    "y_pred_model_xgb_train = model_xgb_PT.predict_proba(X_train)\n",
    "\n",
    "##comparing ROC for XGB train and test\n",
    "fpr_2, tpr_2,_=roc_curve(y_test,pd.DataFrame(y_pred_model_xgb_PT)[1],drop_intermediate=False)\n",
    "fpr_train, tpr_train,_=roc_curve(y_train,pd.DataFrame(y_pred_model_xgb_train)[1],drop_intermediate=False)\n",
    "\n",
    "\n",
    "plt.plot([0, 1], [0, 1], color='blue', lw=2, linestyle='--')\n",
    "plt.plot(fpr_train, tpr_train, color='blue', lw=2, label='XGB_train')\n",
    "plt.plot(fpr_2, tpr_2, color='green', lw=2, label='XGB_test')\n",
    "\n",
    "\n",
    "##Title and label\n",
    "\n",
    "plt.xlabel('FPR')\n",
    "plt.ylabel('TPR')\n",
    "plt.legend()\n",
    "plt.title('ROC curve')\n",
    "\n",
    "\n",
    "plt.savefig(cwd + '/data/test_vs_train.png')\n",
    "plt.show()"
   ]
  },
  {
   "cell_type": "code",
   "execution_count": 79,
   "metadata": {},
   "outputs": [
    {
     "data": {
      "image/png": "[encoded data removed]",
      "text/plain": [
       "<Figure size 432x288 with 1 Axes>"
      ]
     },
     "metadata": {},
     "output_type": "display_data"
    }
   ],
   "source": [
    "fig, ax = plt.subplots() #figsize=(10, 200)\n",
    "plot_importance(model_xgb_PT, ax=ax)\n",
    "plt.title('MVP_Feature importance')\n",
    "\n",
    "plt.savefig('/Users/aishagharsalli/Documents/dental_predictive_tools/02-20-2019 data pull/figures/MVP_Feature_importance.png')\n",
    "plt.show()"
   ]
  },
  {
   "cell_type": "markdown",
   "metadata": {},
   "source": [
    "#### percentage vs no show"
   ]
  },
  {
   "cell_type": "code",
   "execution_count": 81,
   "metadata": {},
   "outputs": [],
   "source": [
    "y_pred_model_xgb_train = model_xgb_PT.predict_proba(X_train)\n",
    "train_percent_noshow = pd.DataFrame({'percent_noshow': y_pred_model_xgb_train[:,1]})"
   ]
  },
  {
   "cell_type": "code",
   "execution_count": 82,
   "metadata": {},
   "outputs": [
    {
     "data": {
      "text/plain": [
       "True"
      ]
     },
     "execution_count": 82,
     "metadata": {},
     "output_type": "execute_result"
    }
   ],
   "source": [
    "##are all indexes the same\n",
    "same_index = y_train.index == X_train.index\n",
    "same_index.all()"
   ]
  },
  {
   "cell_type": "code",
   "execution_count": 83,
   "metadata": {},
   "outputs": [
    {
     "data": {
      "text/html": [
       "<div>\n",
       "<style scoped>\n",
       "    .dataframe tbody tr th:only-of-type {\n",
       "        vertical-align: middle;\n",
       "    }\n",
       "\n",
       "    .dataframe tbody tr th {\n",
       "        vertical-align: top;\n",
       "    }\n",
       "\n",
       "    .dataframe thead th {\n",
       "        text-align: right;\n",
       "    }\n",
       "</style>\n",
       "<table border=\"1\" class=\"dataframe\">\n",
       "  <thead>\n",
       "    <tr style=\"text-align: right;\">\n",
       "      <th></th>\n",
       "      <th>PatientId</th>\n",
       "      <th>noshow</th>\n",
       "      <th>percent_noshow</th>\n",
       "    </tr>\n",
       "  </thead>\n",
       "  <tbody>\n",
       "    <tr>\n",
       "      <td>0</td>\n",
       "      <td>9608</td>\n",
       "      <td>0</td>\n",
       "      <td>0.071677</td>\n",
       "    </tr>\n",
       "    <tr>\n",
       "      <td>1</td>\n",
       "      <td>9393</td>\n",
       "      <td>0</td>\n",
       "      <td>0.071677</td>\n",
       "    </tr>\n",
       "    <tr>\n",
       "      <td>2</td>\n",
       "      <td>9200</td>\n",
       "      <td>0</td>\n",
       "      <td>0.071677</td>\n",
       "    </tr>\n",
       "    <tr>\n",
       "      <td>3</td>\n",
       "      <td>8562</td>\n",
       "      <td>0</td>\n",
       "      <td>0.066727</td>\n",
       "    </tr>\n",
       "    <tr>\n",
       "      <td>4</td>\n",
       "      <td>9961</td>\n",
       "      <td>0</td>\n",
       "      <td>0.064173</td>\n",
       "    </tr>\n",
       "    <tr>\n",
       "      <td>...</td>\n",
       "      <td>...</td>\n",
       "      <td>...</td>\n",
       "      <td>...</td>\n",
       "    </tr>\n",
       "    <tr>\n",
       "      <td>3656</td>\n",
       "      <td>7685</td>\n",
       "      <td>0</td>\n",
       "      <td>0.121665</td>\n",
       "    </tr>\n",
       "    <tr>\n",
       "      <td>3657</td>\n",
       "      <td>4515</td>\n",
       "      <td>0</td>\n",
       "      <td>0.137683</td>\n",
       "    </tr>\n",
       "    <tr>\n",
       "      <td>3658</td>\n",
       "      <td>6830</td>\n",
       "      <td>0</td>\n",
       "      <td>0.148194</td>\n",
       "    </tr>\n",
       "    <tr>\n",
       "      <td>3659</td>\n",
       "      <td>1390</td>\n",
       "      <td>1</td>\n",
       "      <td>0.137683</td>\n",
       "    </tr>\n",
       "    <tr>\n",
       "      <td>3660</td>\n",
       "      <td>10284</td>\n",
       "      <td>1</td>\n",
       "      <td>0.137683</td>\n",
       "    </tr>\n",
       "  </tbody>\n",
       "</table>\n",
       "<p>3661 rows × 3 columns</p>\n",
       "</div>"
      ],
      "text/plain": [
       "      PatientId  noshow  percent_noshow\n",
       "0          9608       0        0.071677\n",
       "1          9393       0        0.071677\n",
       "2          9200       0        0.071677\n",
       "3          8562       0        0.066727\n",
       "4          9961       0        0.064173\n",
       "...         ...     ...             ...\n",
       "3656       7685       0        0.121665\n",
       "3657       4515       0        0.137683\n",
       "3658       6830       0        0.148194\n",
       "3659       1390       1        0.137683\n",
       "3660      10284       1        0.137683\n",
       "\n",
       "[3661 rows x 3 columns]"
      ]
     },
     "execution_count": 83,
     "metadata": {},
     "output_type": "execute_result"
    }
   ],
   "source": [
    "#sanity check. where to call it no shows?\n",
    "table = pd.concat([X_train['PatientId'].reset_index(drop=True), y_train.reset_index(drop=True), train_percent_noshow.reset_index(drop=True)], axis=1)\n",
    "table"
   ]
  },
  {
   "cell_type": "code",
   "execution_count": 84,
   "metadata": {
    "scrolled": true
   },
   "outputs": [
    {
     "data": {
      "image/png": "[encoded data removed]",
      "text/plain": [
       "<Figure size 432x288 with 1 Axes>"
      ]
     },
     "metadata": {},
     "output_type": "display_data"
    }
   ],
   "source": [
    "##training data\n",
    "import seaborn as sns; sns.set(color_codes=True)\n",
    "ax = sns.regplot(x=\"percent_noshow\", y=\"noshow\",logistic=True, data=table)\n",
    "fig = ax.get_figure()\n",
    "fig.savefig(\"percent_noshow_logistic.png\")"
   ]
  },
  {
   "cell_type": "code",
   "execution_count": 85,
   "metadata": {},
   "outputs": [
    {
     "data": {
      "image/png": "[encoded data removed]",
      "text/plain": [
       "<Figure size 432x288 with 1 Axes>"
      ]
     },
     "metadata": {},
     "output_type": "display_data"
    }
   ],
   "source": [
    "##test_data\n",
    "percent_noshow = pd.DataFrame({'percent_noshow': y_pred_model_xgb_PT[:,1]})\n",
    "test_table = pd.concat([X_test['PatientId'].reset_index(drop=True), y_test.reset_index(drop=True), percent_noshow.reset_index(drop=True)], axis=1)\n",
    "\n",
    "test_logistic = sns.regplot(x=\"percent_noshow\", y=\"noshow\",logistic=True, data=test_table)\n",
    "test_logistic = test_logistic.get_figure()\n",
    "test_logistic.savefig(\"percent_noshow_logistic_test.png\")"
   ]
  },
  {
   "cell_type": "code",
   "execution_count": 95,
   "metadata": {
    "scrolled": true
   },
   "outputs": [
    {
     "data": {
      "text/html": [
       "<div>\n",
       "<style scoped>\n",
       "    .dataframe tbody tr th:only-of-type {\n",
       "        vertical-align: middle;\n",
       "    }\n",
       "\n",
       "    .dataframe tbody tr th {\n",
       "        vertical-align: top;\n",
       "    }\n",
       "\n",
       "    .dataframe thead th {\n",
       "        text-align: right;\n",
       "    }\n",
       "</style>\n",
       "<table border=\"1\" class=\"dataframe\">\n",
       "  <thead>\n",
       "    <tr style=\"text-align: right;\">\n",
       "      <th>percent_noshow</th>\n",
       "      <th>0.140144</th>\n",
       "      <th>0.140937</th>\n",
       "      <th>0.142717</th>\n",
       "      <th>0.142796</th>\n",
       "      <th>0.142999</th>\n",
       "      <th>0.143996</th>\n",
       "      <th>0.145711</th>\n",
       "      <th>0.146255</th>\n",
       "      <th>0.148194</th>\n",
       "      <th>0.149853</th>\n",
       "      <th>0.150987</th>\n",
       "      <th>0.153924</th>\n",
       "      <th>0.156724</th>\n",
       "      <th>0.158358</th>\n",
       "      <th>0.164004</th>\n",
       "      <th>0.165437</th>\n",
       "      <th>0.170136</th>\n",
       "    </tr>\n",
       "    <tr>\n",
       "      <th>noshow</th>\n",
       "      <th></th>\n",
       "      <th></th>\n",
       "      <th></th>\n",
       "      <th></th>\n",
       "      <th></th>\n",
       "      <th></th>\n",
       "      <th></th>\n",
       "      <th></th>\n",
       "      <th></th>\n",
       "      <th></th>\n",
       "      <th></th>\n",
       "      <th></th>\n",
       "      <th></th>\n",
       "      <th></th>\n",
       "      <th></th>\n",
       "      <th></th>\n",
       "      <th></th>\n",
       "    </tr>\n",
       "  </thead>\n",
       "  <tbody>\n",
       "    <tr>\n",
       "      <td>0</td>\n",
       "      <td>4</td>\n",
       "      <td>1</td>\n",
       "      <td>122</td>\n",
       "      <td>20</td>\n",
       "      <td>8</td>\n",
       "      <td>18</td>\n",
       "      <td>0</td>\n",
       "      <td>1</td>\n",
       "      <td>160</td>\n",
       "      <td>1</td>\n",
       "      <td>1</td>\n",
       "      <td>0</td>\n",
       "      <td>4</td>\n",
       "      <td>5</td>\n",
       "      <td>2</td>\n",
       "      <td>1</td>\n",
       "      <td>5</td>\n",
       "    </tr>\n",
       "    <tr>\n",
       "      <td>1</td>\n",
       "      <td>0</td>\n",
       "      <td>0</td>\n",
       "      <td>23</td>\n",
       "      <td>2</td>\n",
       "      <td>0</td>\n",
       "      <td>4</td>\n",
       "      <td>1</td>\n",
       "      <td>0</td>\n",
       "      <td>32</td>\n",
       "      <td>0</td>\n",
       "      <td>0</td>\n",
       "      <td>1</td>\n",
       "      <td>2</td>\n",
       "      <td>4</td>\n",
       "      <td>5</td>\n",
       "      <td>1</td>\n",
       "      <td>5</td>\n",
       "    </tr>\n",
       "  </tbody>\n",
       "</table>\n",
       "</div>"
      ],
      "text/plain": [
       "percent_noshow  0.140144  0.140937  0.142717  0.142796  0.142999  0.143996  \\\n",
       "noshow                                                                       \n",
       "0                      4         1       122        20         8        18   \n",
       "1                      0         0        23         2         0         4   \n",
       "\n",
       "percent_noshow  0.145711  0.146255  0.148194  0.149853  0.150987  0.153924  \\\n",
       "noshow                                                                       \n",
       "0                      0         1       160         1         1         0   \n",
       "1                      1         0        32         0         0         1   \n",
       "\n",
       "percent_noshow  0.156724  0.158358  0.164004  0.165437  0.170136  \n",
       "noshow                                                            \n",
       "0                      4         5         2         1         5  \n",
       "1                      2         4         5         1         5  "
      ]
     },
     "execution_count": 95,
     "metadata": {},
     "output_type": "execute_result"
    }
   ],
   "source": [
    "no_show_likely = test_table[test_table['percent_noshow']>0.14]\n",
    "pd.crosstab(no_show_likely.noshow, no_show_likely.percent_noshow)"
   ]
  },
  {
   "cell_type": "code",
   "execution_count": 89,
   "metadata": {},
   "outputs": [
    {
     "data": {
      "text/plain": [
       "0       False\n",
       "1       False\n",
       "2       False\n",
       "3       False\n",
       "4       False\n",
       "        ...  \n",
       "1805    False\n",
       "1806    False\n",
       "1807    False\n",
       "1808    False\n",
       "1809    False\n",
       "Name: percent_noshow, Length: 1810, dtype: bool"
      ]
     },
     "execution_count": 89,
     "metadata": {},
     "output_type": "execute_result"
    }
   ],
   "source": [
    "test_table['percent_noshow']>0.6"
   ]
  },
  {
   "cell_type": "code",
   "execution_count": 80,
   "metadata": {},
   "outputs": [],
   "source": [
    "#storing the pickled model. \n",
    "import pickle\n",
    "#pickle model, code from Lindsay\n",
    "# My model is called 'rf' (as you see above)- whatever you called your model, substitute that in for 'rf', below.\n",
    "# Don't change anything else unless you really want to.\n",
    "#with open('insightMVP_model.pkl', 'wb') as fid:\n",
    "    #pickle.dump(model_xgb_PT, fid,2)  \n"
   ]
  },
  {
   "cell_type": "code",
   "execution_count": null,
   "metadata": {},
   "outputs": [],
   "source": [
    "\n",
    "# Load the model from disk\n",
    "loaded_model = pickle.load(open('insightMVP_model.pkl', 'rb'))\n",
    "\n",
    "\n",
    "\n",
    "y_pred_model_xgb = loaded_model.predict_proba(X_test)\n",
    "\n",
    "print(\"The AUC score of the XGB model is: \" + str(np.round(roc_auc_score(y_test,pd.DataFrame(y_pred_model_xgb)[1]),2)))"
   ]
  }
 ],
 "metadata": {
  "kernelspec": {
   "display_name": "Python 3",
   "language": "python",
   "name": "python3"
  },
  "language_info": {
   "codemirror_mode": {
    "name": "ipython",
    "version": 3
   },
   "file_extension": ".py",
   "mimetype": "text/x-python",
   "name": "python",
   "nbconvert_exporter": "python",
   "pygments_lexer": "ipython3",
   "version": "3.7.4"
  },
  "name": ""
 },
 "nbformat": 4,
 "nbformat_minor": 1
}
