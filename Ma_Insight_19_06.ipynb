{
 "cells": [
  {
   "cell_type": "markdown",
   "metadata": {},
   "source": [
    "# Predicitng no-show patients at a Dental Practice"
   ]
  },
  {
   "cell_type": "markdown",
   "metadata": {},
   "source": [
    "## Introduction\n",
    "\n",
    "### Goal\n",
    "To document steps used to create a machine learning algorithm that predicts patient attendance.\n",
    "\n",
    "### Steps\n",
    "\n",
    "1) Data Processing\n",
    "\n",
    "2) Features Engineering\n",
    "\n",
    "3) Building ML model\n",
    "\n",
    "4) Visualizing model output\n",
    "\n"
   ]
  },
  {
   "cell_type": "markdown",
   "metadata": {},
   "source": [
    "## 1) Data Processing Sample\n",
    "\n",
    "\n",
    "Read in data from the visits and cancelations files. Cancelations are a subset of the visits file. The cancelations file has additional data about each canceled appointment. "
   ]
  },
  {
   "cell_type": "code",
   "execution_count": 4,
   "metadata": {},
   "outputs": [],
   "source": [
    "###packages\n",
    "import dask.dataframe as dd\n",
    "import numpy as np\n",
    "import glob, os, platform\n",
    "\n",
    "\n",
    "###set input and output directories\n",
    "input_dir = \"/Users/aishagharsalli/Documents/dental_predictive_tools/02-20-2019 data pull/raw_data/\"\n",
    "output_dir = \"/Users/aishagharsalli/Documents/dental_predictive_tools/02-20-2019 data pull/codes/A_insight/intermediates/\"\n",
    "\n",
    "###read \n",
    "visits = dd.read_csv(input_dir + '*visits_all_source_data*.csv', parse_dates=['AppointmentDate'])\n",
    "cancels = dd.read_csv(input_dir + \"*cancellations*\", parse_dates=['AppointmentDate','RescheduledDate'])\n",
    "cancels['target'] = \"cancel\""
   ]
  },
  {
   "cell_type": "code",
   "execution_count": 5,
   "metadata": {},
   "outputs": [
    {
     "data": {
      "text/plain": [
       "Index(['AppointmentDate', 'Status', 'Provider', 'Guarantor', 'GuarantorEmail',\n",
       "       'Patient', 'PatientEmail', 'NP', 'Procedures', 'VisitType', 'PatientId',\n",
       "       'PatientPhone1', 'PatientPhone2', 'PatientPhone3', 'GuarantorPhone1',\n",
       "       'GuarantorPhone2', 'GuarantorPhone3', 'SubscriberID', 'DiscountPlan'],\n",
       "      dtype='object')"
      ]
     },
     "execution_count": 5,
     "metadata": {},
     "output_type": "execute_result"
    }
   ],
   "source": [
    "visits.columns"
   ]
  },
  {
   "cell_type": "code",
   "execution_count": 6,
   "metadata": {},
   "outputs": [
    {
     "data": {
      "text/plain": [
       "Index(['AppointmentDate', 'Provider', 'Guarantor', 'GuarantorPhone', 'Patient',\n",
       "       'PatientPhones', 'Age', 'NP', 'Procedures', 'VisitType', 'Scheduled$',\n",
       "       'RescheduledDate', 'target'],\n",
       "      dtype='object')"
      ]
     },
     "execution_count": 6,
     "metadata": {},
     "output_type": "execute_result"
    }
   ],
   "source": [
    "cancels.columns"
   ]
  },
  {
   "cell_type": "code",
   "execution_count": 7,
   "metadata": {},
   "outputs": [
    {
     "data": {
      "text/plain": [
       "['/Users/aishagharsalli/Documents/dental_predictive_tools/02-20-2019 data pull/codes/A_insight/intermediates/visitspluscancels - 2018.00.csv',\n",
       " '/Users/aishagharsalli/Documents/dental_predictive_tools/02-20-2019 data pull/codes/A_insight/intermediates/visitspluscancels - 2018.01.csv',\n",
       " '/Users/aishagharsalli/Documents/dental_predictive_tools/02-20-2019 data pull/codes/A_insight/intermediates/visitspluscancels - 2018.02.csv',\n",
       " '/Users/aishagharsalli/Documents/dental_predictive_tools/02-20-2019 data pull/codes/A_insight/intermediates/visitspluscancels - 2018.03.csv',\n",
       " '/Users/aishagharsalli/Documents/dental_predictive_tools/02-20-2019 data pull/codes/A_insight/intermediates/visitspluscancels - 2018.04.csv',\n",
       " '/Users/aishagharsalli/Documents/dental_predictive_tools/02-20-2019 data pull/codes/A_insight/intermediates/visitspluscancels - 2018.05.csv',\n",
       " '/Users/aishagharsalli/Documents/dental_predictive_tools/02-20-2019 data pull/codes/A_insight/intermediates/visitspluscancels - 2018.06.csv',\n",
       " '/Users/aishagharsalli/Documents/dental_predictive_tools/02-20-2019 data pull/codes/A_insight/intermediates/visitspluscancels - 2018.07.csv',\n",
       " '/Users/aishagharsalli/Documents/dental_predictive_tools/02-20-2019 data pull/codes/A_insight/intermediates/visitspluscancels - 2018.08.csv',\n",
       " '/Users/aishagharsalli/Documents/dental_predictive_tools/02-20-2019 data pull/codes/A_insight/intermediates/visitspluscancels - 2018.09.csv',\n",
       " '/Users/aishagharsalli/Documents/dental_predictive_tools/02-20-2019 data pull/codes/A_insight/intermediates/visitspluscancels - 2018.10.csv',\n",
       " '/Users/aishagharsalli/Documents/dental_predictive_tools/02-20-2019 data pull/codes/A_insight/intermediates/visitspluscancels - 2018.11.csv']"
      ]
     },
     "execution_count": 7,
     "metadata": {},
     "output_type": "execute_result"
    }
   ],
   "source": [
    "##merge visits and cancels\n",
    "visitspluscancels = dd.merge(visits,cancels[['Patient',\n",
    "                                             'AppointmentDate',\n",
    "                                             'Provider',\n",
    "                                             'Procedures',\n",
    "                                             'Guarantor',\n",
    "                                             'VisitType',\n",
    "                                             'NP',\n",
    "                                             'Age',\n",
    "                                             'target',\n",
    "                                             'Scheduled$',\n",
    "                                             'RescheduledDate']],\n",
    "                             on=['Patient',\n",
    "                                      'AppointmentDate',\n",
    "                                      'Provider',\n",
    "                                      'Procedures',\n",
    "                                      'Guarantor',\n",
    "                                      'VisitType',\n",
    "                                      'NP'], \n",
    "                             how='left')\n",
    "\n",
    "#save files out\n",
    "visitspluscancels.to_csv(output_dir + \"visitspluscancels - 2018.*.csv\",index=False)"
   ]
  },
  {
   "cell_type": "code",
   "execution_count": 8,
   "metadata": {},
   "outputs": [
    {
     "data": {
      "text/html": [
       "<div>\n",
       "<style scoped>\n",
       "    .dataframe tbody tr th:only-of-type {\n",
       "        vertical-align: middle;\n",
       "    }\n",
       "\n",
       "    .dataframe tbody tr th {\n",
       "        vertical-align: top;\n",
       "    }\n",
       "\n",
       "    .dataframe thead th {\n",
       "        text-align: right;\n",
       "    }\n",
       "</style>\n",
       "<table border=\"1\" class=\"dataframe\">\n",
       "  <thead>\n",
       "    <tr style=\"text-align: right;\">\n",
       "      <th></th>\n",
       "      <th>AppointmentDate</th>\n",
       "      <th>PatientId</th>\n",
       "      <th>Status</th>\n",
       "      <th>Procedures</th>\n",
       "      <th>VisitType</th>\n",
       "      <th>SubscriberID</th>\n",
       "      <th>NP</th>\n",
       "      <th>Age</th>\n",
       "      <th>Scheduled$</th>\n",
       "      <th>target</th>\n",
       "    </tr>\n",
       "  </thead>\n",
       "  <tbody>\n",
       "    <tr>\n",
       "      <td>0</td>\n",
       "      <td>2018-04-03 10:30:00</td>\n",
       "      <td>2124</td>\n",
       "      <td>Completed</td>\n",
       "      <td>D2392</td>\n",
       "      <td>Restorative</td>\n",
       "      <td>NaN</td>\n",
       "      <td>No</td>\n",
       "      <td>NaN</td>\n",
       "      <td>NaN</td>\n",
       "      <td>NaN</td>\n",
       "    </tr>\n",
       "    <tr>\n",
       "      <td>1</td>\n",
       "      <td>2018-04-03 14:00:00</td>\n",
       "      <td>9810</td>\n",
       "      <td>Completed</td>\n",
       "      <td>D0150</td>\n",
       "      <td>Restorative</td>\n",
       "      <td>NaN</td>\n",
       "      <td>No</td>\n",
       "      <td>NaN</td>\n",
       "      <td>NaN</td>\n",
       "      <td>NaN</td>\n",
       "    </tr>\n",
       "    <tr>\n",
       "      <td>2</td>\n",
       "      <td>2018-04-04 10:00:00</td>\n",
       "      <td>10048</td>\n",
       "      <td>Completed</td>\n",
       "      <td>D2331, D2332</td>\n",
       "      <td>Restorative</td>\n",
       "      <td>NaN</td>\n",
       "      <td>No</td>\n",
       "      <td>NaN</td>\n",
       "      <td>NaN</td>\n",
       "      <td>NaN</td>\n",
       "    </tr>\n",
       "    <tr>\n",
       "      <td>3</td>\n",
       "      <td>2018-04-10 11:00:00</td>\n",
       "      <td>10220</td>\n",
       "      <td>Completed</td>\n",
       "      <td>D2391, D2394, D2391, D2393</td>\n",
       "      <td>Restorative</td>\n",
       "      <td>NaN</td>\n",
       "      <td>No</td>\n",
       "      <td>NaN</td>\n",
       "      <td>NaN</td>\n",
       "      <td>NaN</td>\n",
       "    </tr>\n",
       "    <tr>\n",
       "      <td>4</td>\n",
       "      <td>2018-04-11 11:30:00</td>\n",
       "      <td>10261</td>\n",
       "      <td>Completed</td>\n",
       "      <td>D7140, D0140, D0220, D0230</td>\n",
       "      <td>Restorative</td>\n",
       "      <td>NaN</td>\n",
       "      <td>Yes</td>\n",
       "      <td>NaN</td>\n",
       "      <td>NaN</td>\n",
       "      <td>NaN</td>\n",
       "    </tr>\n",
       "  </tbody>\n",
       "</table>\n",
       "</div>"
      ],
      "text/plain": [
       "      AppointmentDate  PatientId     Status                  Procedures  \\\n",
       "0 2018-04-03 10:30:00       2124  Completed                       D2392   \n",
       "1 2018-04-03 14:00:00       9810  Completed                       D0150   \n",
       "2 2018-04-04 10:00:00      10048  Completed                D2331, D2332   \n",
       "3 2018-04-10 11:00:00      10220  Completed  D2391, D2394, D2391, D2393   \n",
       "4 2018-04-11 11:30:00      10261  Completed  D7140, D0140, D0220, D0230   \n",
       "\n",
       "     VisitType  SubscriberID   NP  Age Scheduled$ target  \n",
       "0  Restorative           NaN   No  NaN        NaN    NaN  \n",
       "1  Restorative           NaN   No  NaN        NaN    NaN  \n",
       "2  Restorative           NaN   No  NaN        NaN    NaN  \n",
       "3  Restorative           NaN   No  NaN        NaN    NaN  \n",
       "4  Restorative           NaN  Yes  NaN        NaN    NaN  "
      ]
     },
     "execution_count": 8,
     "metadata": {},
     "output_type": "execute_result"
    }
   ],
   "source": [
    "##display output, scrubbed of patient info for hipaa \n",
    "visitspluscancels[[\"AppointmentDate\", \"PatientId\", \"Status\", \"Procedures\", \"VisitType\", \"SubscriberID\", \"NP\", \"Age\", \"Scheduled$\", \"target\"]].head()\n"
   ]
  },
  {
   "cell_type": "markdown",
   "metadata": {},
   "source": [
    "## 2) Feature Engineering"
   ]
  },
  {
   "cell_type": "code",
   "execution_count": 1,
   "metadata": {},
   "outputs": [],
   "source": [
    "import pandas as pd\n",
    "#read in initial data and display \n",
    "final_input = \"/Users/aishagharsalli/Documents/dental_predictive_tools/02-20-2019 data pull/intermediary_output/\"\n",
    "visits= pd.read_csv(final_input+\"visitspluscancelsplusnoshowsplusnewpatients -  2018.csv\")\n",
    "visits=visits[visits[\"Status\"]!=\"Completed (Unknown)\"]\n"
   ]
  },
  {
   "cell_type": "markdown",
   "metadata": {},
   "source": [
    "### Manual Feature Creation Examples"
   ]
  },
  {
   "cell_type": "code",
   "execution_count": 6,
   "metadata": {},
   "outputs": [
    {
     "data": {
      "text/plain": [
       "0    27\n",
       "1    13\n",
       "2    24\n",
       "3    20\n",
       "4    24\n",
       "Name: loyalty, dtype: int64"
      ]
     },
     "execution_count": 6,
     "metadata": {},
     "output_type": "execute_result"
    }
   ],
   "source": [
    "## Manual feature creation\n",
    "##age of the patient in months, with legacy patients slightly older by 1 month\n",
    "visits[\"loyalty\"] = ((pd.to_datetime(visits['AppointmentDate'], format='%Y-%m-%d %H:%M:%S').dt.year -\n",
    "                     visits.newpatientfile.astype(str).str[:4].astype(int)) *12 +\n",
    "                     (pd.to_datetime(visits['AppointmentDate'], format='%Y-%m-%d %H:%M:%S').dt.month - \n",
    "                      visits.newpatientfile.astype(str).str[5:7].astype(int)))\n",
    "visits[\"loyalty\"].head()"
   ]
  },
  {
   "cell_type": "code",
   "execution_count": 12,
   "metadata": {},
   "outputs": [],
   "source": [
    "##number of producedures\n",
    "visits[\"nProcedures\"] = visits.Procedures.str.split().str.len() ##setting up numbers of procedures\n",
    "visits[\"noshow\"] = pd.get_dummies(visits[\"Status\"]).Broken #Target\n",
    "visits[\"newbie\"] = pd.get_dummies(visits.NP).Yes #are they new? 1 is Yes"
   ]
  },
  {
   "cell_type": "code",
   "execution_count": 2,
   "metadata": {},
   "outputs": [
    {
     "ename": "NameError",
     "evalue": "name 'visits' is not defined",
     "output_type": "error",
     "traceback": [
      "\u001b[0;31m----------------------------------------------------------------------\u001b[0m",
      "\u001b[0;31mNameError\u001b[0m                            Traceback (most recent call last)",
      "\u001b[0;32m<ipython-input-2-7e3f214385c8>\u001b[0m in \u001b[0;36m<module>\u001b[0;34m\u001b[0m\n\u001b[1;32m      1\u001b[0m \u001b[0;31m##save the data set\u001b[0m\u001b[0;34m\u001b[0m\u001b[0;34m\u001b[0m\u001b[0;34m\u001b[0m\u001b[0m\n\u001b[0;32m----> 2\u001b[0;31m \u001b[0mfull_dataset\u001b[0m \u001b[0;34m=\u001b[0m \u001b[0mvisits\u001b[0m\u001b[0;34m\u001b[0m\u001b[0;34m\u001b[0m\u001b[0m\n\u001b[0m\u001b[1;32m      3\u001b[0m \u001b[0;34m\u001b[0m\u001b[0m\n\u001b[1;32m      4\u001b[0m \u001b[0mfull_dataset\u001b[0m\u001b[0;34m.\u001b[0m\u001b[0mto_pickle\u001b[0m\u001b[0;34m(\u001b[0m\u001b[0minput_dir\u001b[0m \u001b[0;34m+\u001b[0m \u001b[0;34m\"preFT2018.pkl\"\u001b[0m\u001b[0;34m)\u001b[0m\u001b[0;34m\u001b[0m\u001b[0;34m\u001b[0m\u001b[0m\n",
      "\u001b[0;31mNameError\u001b[0m: name 'visits' is not defined"
     ]
    }
   ],
   "source": [
    "##save the data set\n",
    "full_dataset = visits\n",
    "\n",
    "full_dataset.to_pickle(input_dir + \"preFT2018.pkl\")"
   ]
  },
  {
   "cell_type": "markdown",
   "metadata": {},
   "source": [
    "### Automatic Feature Creation using featuretools"
   ]
  },
  {
   "cell_type": "code",
   "execution_count": 32,
   "metadata": {},
   "outputs": [],
   "source": [
    "import featuretools as ft\n",
    "import featuretools.variable_types as vtypes\n",
    "import pandas as pd\n",
    "\n",
    "input_dir = \"/Users/aishagharsalli/Documents/dental_predictive_tools/02-20-2019 data pull/intermediary_output/\"\n",
    "\n",
    "#import and load data\n",
    "full_dataset = pd.read_pickle(input_dir + \"preFT2018.pkl\")\n",
    "#use below code at experimentation stage to build new features on a small dataset.\n",
    "#full_dataset = full_dataset.iloc[:5,:]\n",
    "\n",
    "full_dataset.AppointmentDate = (pd.to_datetime(full_dataset.AppointmentDate) + \n",
    "                                (pd.Timedelta(days = 1) - pd.Timedelta(seconds = 1)) * (full_dataset.noshow))\n",
    "\n",
    "\n",
    "\n",
    "variable_types = {'PatientId': vtypes.Numeric, 'newbie':vtypes.Boolean,'insuranceDummy':vtypes.Boolean, \n",
    "                  'guarantorIsPatient':vtypes.Boolean, 'loyalty':vtypes.Numeric, 'noshow':vtypes.Boolean, \n",
    "                  'PatientEmail':vtypes.EmailAddress,'GuarantorEmail':vtypes.EmailAddress,\n",
    "                  'PatientPhone1':vtypes.PhoneNumber, 'patientEmailDomain':vtypes.Categorical,\n",
    "                  'guarantorEmailDomain':vtypes.Categorical, 'patientPhone1AreaCode':vtypes.Categorical, \n",
    "                  'insurance':vtypes.Categorical, 'provider':vtypes.Categorical, \n",
    "                  'source':vtypes.Categorical, 'procedure':vtypes.Categorical,\n",
    "                  'weekday':vtypes.Categorical, 'apptType':vtypes.Categorical,\n",
    "                  \"newpatientfile\":vtypes.Ordinal, \"Age_npf\":vtypes.Numeric, \"Patient\":vtypes.Text}\n",
    "variable_list = (['PatientId', 'AppointmentDate', 'newbie',\n",
    "                  'insuranceDummy', 'guarantorIsPatient', 'loyalty', 'noshow',\n",
    "                  'PatientEmail', 'GuarantorEmail', 'PatientPhone1', \n",
    "                  'patientEmailDomain', 'guarantorEmailDomain', 'patientPhone1AreaCode',\n",
    "                  'insurance','provider', 'source','procedure', 'weekday', 'apptType', \n",
    "                  \"newpatientfile\", \"Age_npf\", \"Patient\", 'AppointmentId'])"
   ]
  },
  {
   "cell_type": "code",
   "execution_count": 33,
   "metadata": {},
   "outputs": [],
   "source": [
    "full_dataset[variable_list].iloc[0:9,:].to_csv(\"head.csv\")"
   ]
  },
  {
   "cell_type": "code",
   "execution_count": 34,
   "metadata": {},
   "outputs": [],
   "source": [
    "# Make an entity named 'appointments' which stores dataset metadata with the dataframe\n",
    "es = ft.EntitySet('Appointments')\n",
    "es = es.entity_from_dataframe(entity_id=\"appointments\",\n",
    "                              dataframe=full_dataset[variable_list],\n",
    "                              index='AppointmentId',\n",
    "                              time_index='AppointmentDate',\n",
    "                              variable_types=variable_types)\n",
    "es['appointments']\n",
    "\n",
    "# Make patients, weekdays, emails and insurances entities\n",
    "\n",
    "es.normalize_entity(base_entity_id='appointments', new_entity_id='patients', index='PatientId', \n",
    "                    additional_variables = ['Patient', 'PatientEmail', 'GuarantorEmail', 'PatientPhone1',\n",
    "                                            'newpatientfile', 'Age_npf'], make_time_index=True)\n",
    "# 'PatientEmail', 'GuarantorEmail', 'PatientPhone1'\n",
    "es.normalize_entity('appointments', 'patientemails', 'patientEmailDomain', make_time_index=True)\n",
    "es.normalize_entity('appointments', 'guarantoremails', 'guarantorEmailDomain', make_time_index=True)\n",
    "es.normalize_entity('appointments', 'patientPhones', 'patientPhone1AreaCode',make_time_index=True)\n",
    "es.normalize_entity('appointments', 'insurances', 'insurance',make_time_index=True)\n",
    "es.normalize_entity('appointments', 'providers', 'provider', make_time_index=True)\n",
    "es.normalize_entity('appointments', 'sources', 'source', make_time_index=True)\n",
    "es.normalize_entity('appointments', 'procedures', 'procedure', make_time_index=True)\n",
    "es.normalize_entity('appointments', 'weekdays', 'weekday', make_time_index=True)\n",
    "es.normalize_entity('appointments', 'apptTypes', 'apptType',make_time_index=True)\n",
    "\n",
    "variable_list = (['PatientId', 'AppointmentDate', 'newbie',\n",
    "                  'insuranceDummy', 'guarantorIsPatient', 'loyalty', 'noshow',\n",
    "                  'PatientEmail', 'GuarantorEmail', 'PatientPhone1', 'insurance',\n",
    "                  'provider', 'procedure', 'weekday', 'apptType', 'AppointmentId'])"
   ]
  },
  {
   "cell_type": "code",
   "execution_count": 35,
   "metadata": {},
   "outputs": [
    {
     "name": "stdout",
     "output_type": "stream",
     "text": [
      "Entityset: Appointments\n",
      "  Entities:\n",
      "    appointments [Rows: 5471, Columns: 17]\n",
      "    patients [Rows: 2020, Columns: 8]\n",
      "    patientemails [Rows: 9, Columns: 2]\n",
      "    guarantoremails [Rows: 8, Columns: 2]\n",
      "    patientPhones [Rows: 8, Columns: 2]\n",
      "    insurances [Rows: 9, Columns: 2]\n",
      "    providers [Rows: 4, Columns: 2]\n",
      "    sources [Rows: 6, Columns: 2]\n",
      "    procedures [Rows: 21, Columns: 2]\n",
      "    weekdays [Rows: 5, Columns: 2]\n",
      "    apptTypes [Rows: 3, Columns: 2]\n",
      "  Relationships:\n",
      "    appointments.PatientId -> patients.PatientId\n",
      "    appointments.patientEmailDomain -> patientemails.patientEmailDomain\n",
      "    appointments.guarantorEmailDomain -> guarantoremails.guarantorEmailDomain\n",
      "    appointments.patientPhone1AreaCode -> patientPhones.patientPhone1AreaCode\n",
      "    appointments.insurance -> insurances.insurance\n",
      "    appointments.provider -> providers.provider\n",
      "    appointments.source -> sources.source\n",
      "    appointments.procedure -> procedures.procedure\n",
      "    appointments.weekday -> weekdays.weekday\n",
      "    appointments.apptType -> apptTypes.apptType\n"
     ]
    }
   ],
   "source": [
    "print(es)"
   ]
  },
  {
   "cell_type": "code",
   "execution_count": 36,
   "metadata": {},
   "outputs": [
    {
     "name": "stdout",
     "output_type": "stream",
     "text": [
      "Built 20 features\n",
      "EntitySet scattered to 4 workers in 17 seconds          \n",
      "Elapsed: 00:58 | Progress: 100%|██████████| Remaining: 00:00  \n"
     ]
    }
   ],
   "source": [
    "cutoff_times =  es['appointments'].df[['AppointmentId','AppointmentDate']]\n",
    "cat_cols = ['insurance','provider', 'procedure', 'patientEmailDomain', 'guarantorEmailDomain', \n",
    "            'patientPhone1AreaCode','weekday', 'apptType','source']\n",
    "\n",
    "X_ft, features = ft.dfs(entityset=es,\n",
    "                        target_entity='appointments',\n",
    "                        agg_primitives=['count', 'percent_true', 'num_true', 'trend', 'skew', 'all', 'std',\n",
    "                                       'max', 'mean', 'min', 'median', 'num_unique'],\n",
    "                        max_depth=1,\n",
    "                        trans_primitives=['day', 'month', 'year', 'num_words', 'num_characters'],\n",
    "                        cutoff_time=cutoff_times,\n",
    "                        verbose=True,\n",
    "                        approximate = '3h',\n",
    "                        #approximate = \"1 day\",\n",
    "                        chunk_size=50,\n",
    "                        n_jobs=4)"
   ]
  },
  {
   "cell_type": "code",
   "execution_count": 38,
   "metadata": {},
   "outputs": [
    {
     "data": {
      "text/html": [
       "<div>\n",
       "<style scoped>\n",
       "    .dataframe tbody tr th:only-of-type {\n",
       "        vertical-align: middle;\n",
       "    }\n",
       "\n",
       "    .dataframe tbody tr th {\n",
       "        vertical-align: top;\n",
       "    }\n",
       "\n",
       "    .dataframe thead th {\n",
       "        text-align: right;\n",
       "    }\n",
       "</style>\n",
       "<table border=\"1\" class=\"dataframe\">\n",
       "  <thead>\n",
       "    <tr style=\"text-align: right;\">\n",
       "      <th></th>\n",
       "      <th>PatientId</th>\n",
       "      <th>newbie</th>\n",
       "      <th>insuranceDummy</th>\n",
       "      <th>guarantorIsPatient</th>\n",
       "      <th>loyalty</th>\n",
       "      <th>noshow</th>\n",
       "      <th>patientEmailDomain</th>\n",
       "      <th>guarantorEmailDomain</th>\n",
       "      <th>patientPhone1AreaCode</th>\n",
       "      <th>insurance</th>\n",
       "      <th>provider</th>\n",
       "      <th>source</th>\n",
       "      <th>procedure</th>\n",
       "      <th>weekday</th>\n",
       "      <th>apptType</th>\n",
       "      <th>DAY(AppointmentDate)</th>\n",
       "      <th>MONTH(AppointmentDate)</th>\n",
       "      <th>YEAR(AppointmentDate)</th>\n",
       "      <th>patients.newpatientfile</th>\n",
       "      <th>patients.Age_npf</th>\n",
       "    </tr>\n",
       "    <tr>\n",
       "      <th>AppointmentId</th>\n",
       "      <th></th>\n",
       "      <th></th>\n",
       "      <th></th>\n",
       "      <th></th>\n",
       "      <th></th>\n",
       "      <th></th>\n",
       "      <th></th>\n",
       "      <th></th>\n",
       "      <th></th>\n",
       "      <th></th>\n",
       "      <th></th>\n",
       "      <th></th>\n",
       "      <th></th>\n",
       "      <th></th>\n",
       "      <th></th>\n",
       "      <th></th>\n",
       "      <th></th>\n",
       "      <th></th>\n",
       "      <th></th>\n",
       "      <th></th>\n",
       "    </tr>\n",
       "  </thead>\n",
       "  <tbody>\n",
       "    <tr>\n",
       "      <td>319</td>\n",
       "      <td>9608</td>\n",
       "      <td>0</td>\n",
       "      <td>0</td>\n",
       "      <td>True</td>\n",
       "      <td>19</td>\n",
       "      <td>0</td>\n",
       "      <td>PatientEmail_gmail.com</td>\n",
       "      <td>GuarantorEmail_gmail.com</td>\n",
       "      <td>PatientPhone1_434</td>\n",
       "      <td>Insurance_others</td>\n",
       "      <td>Provider_Rachel Nguyen</td>\n",
       "      <td>Source_no_reported_source</td>\n",
       "      <td>Procedures_D0120, D1110, D1330, D0431</td>\n",
       "      <td>Tuesday</td>\n",
       "      <td>Hygiene</td>\n",
       "      <td>2</td>\n",
       "      <td>1</td>\n",
       "      <td>2018</td>\n",
       "      <td>201606</td>\n",
       "      <td>NaN</td>\n",
       "    </tr>\n",
       "    <tr>\n",
       "      <td>1526</td>\n",
       "      <td>9393</td>\n",
       "      <td>0</td>\n",
       "      <td>0</td>\n",
       "      <td>True</td>\n",
       "      <td>10</td>\n",
       "      <td>0</td>\n",
       "      <td>PatientEmail_others</td>\n",
       "      <td>GuarantorEmail_others</td>\n",
       "      <td>PatientPhone1_434</td>\n",
       "      <td>Insurance_others</td>\n",
       "      <td>Provider_Mohammed Almzayyen, DDS</td>\n",
       "      <td>Source_no_reported_source</td>\n",
       "      <td>Procedures_others</td>\n",
       "      <td>Tuesday</td>\n",
       "      <td>Restorative</td>\n",
       "      <td>2</td>\n",
       "      <td>1</td>\n",
       "      <td>2018</td>\n",
       "      <td>201703</td>\n",
       "      <td>54.0</td>\n",
       "    </tr>\n",
       "    <tr>\n",
       "      <td>4249</td>\n",
       "      <td>9200</td>\n",
       "      <td>0</td>\n",
       "      <td>1</td>\n",
       "      <td>True</td>\n",
       "      <td>24</td>\n",
       "      <td>0</td>\n",
       "      <td>PatientEmail_gmail.com</td>\n",
       "      <td>GuarantorEmail_gmail.com</td>\n",
       "      <td>PatientPhone1_others</td>\n",
       "      <td>Insurance_UNITED CONCORDIA</td>\n",
       "      <td>Provider_Mohammed Almzayyen, DDS</td>\n",
       "      <td>Source_others</td>\n",
       "      <td>Procedures_others</td>\n",
       "      <td>Tuesday</td>\n",
       "      <td>Restorative</td>\n",
       "      <td>2</td>\n",
       "      <td>1</td>\n",
       "      <td>2018</td>\n",
       "      <td>201611</td>\n",
       "      <td>35.0</td>\n",
       "    </tr>\n",
       "    <tr>\n",
       "      <td>42</td>\n",
       "      <td>8562</td>\n",
       "      <td>0</td>\n",
       "      <td>0</td>\n",
       "      <td>True</td>\n",
       "      <td>19</td>\n",
       "      <td>0</td>\n",
       "      <td>PatientEmail_others</td>\n",
       "      <td>GuarantorEmail_others</td>\n",
       "      <td>PatientPhone1_434</td>\n",
       "      <td>Insurance_others</td>\n",
       "      <td>Provider_Mohammed Almzayyen, DDS</td>\n",
       "      <td>Source_no_reported_source</td>\n",
       "      <td>Procedures_others</td>\n",
       "      <td>Tuesday</td>\n",
       "      <td>Restorative</td>\n",
       "      <td>2</td>\n",
       "      <td>1</td>\n",
       "      <td>2018</td>\n",
       "      <td>201606</td>\n",
       "      <td>NaN</td>\n",
       "    </tr>\n",
       "    <tr>\n",
       "      <td>1942</td>\n",
       "      <td>9961</td>\n",
       "      <td>0</td>\n",
       "      <td>0</td>\n",
       "      <td>True</td>\n",
       "      <td>19</td>\n",
       "      <td>0</td>\n",
       "      <td>PatientEmail_GMAIL.COM</td>\n",
       "      <td>GuarantorEmail_GMAIL.COM</td>\n",
       "      <td>PatientPhone1_540</td>\n",
       "      <td>Insurance_others</td>\n",
       "      <td>Provider_Stephanie Douglas</td>\n",
       "      <td>Source_no_reported_source</td>\n",
       "      <td>Procedures_others</td>\n",
       "      <td>Tuesday</td>\n",
       "      <td>Hygiene</td>\n",
       "      <td>2</td>\n",
       "      <td>1</td>\n",
       "      <td>2018</td>\n",
       "      <td>201606</td>\n",
       "      <td>NaN</td>\n",
       "    </tr>\n",
       "  </tbody>\n",
       "</table>\n",
       "</div>"
      ],
      "text/plain": [
       "               PatientId  newbie  insuranceDummy  guarantorIsPatient  loyalty  \\\n",
       "AppointmentId                                                                   \n",
       "319                 9608       0               0                True       19   \n",
       "1526                9393       0               0                True       10   \n",
       "4249                9200       0               1                True       24   \n",
       "42                  8562       0               0                True       19   \n",
       "1942                9961       0               0                True       19   \n",
       "\n",
       "               noshow      patientEmailDomain      guarantorEmailDomain  \\\n",
       "AppointmentId                                                             \n",
       "319                 0  PatientEmail_gmail.com  GuarantorEmail_gmail.com   \n",
       "1526                0     PatientEmail_others     GuarantorEmail_others   \n",
       "4249                0  PatientEmail_gmail.com  GuarantorEmail_gmail.com   \n",
       "42                  0     PatientEmail_others     GuarantorEmail_others   \n",
       "1942                0  PatientEmail_GMAIL.COM  GuarantorEmail_GMAIL.COM   \n",
       "\n",
       "              patientPhone1AreaCode  \\\n",
       "AppointmentId                         \n",
       "319               PatientPhone1_434   \n",
       "1526              PatientPhone1_434   \n",
       "4249           PatientPhone1_others   \n",
       "42                PatientPhone1_434   \n",
       "1942              PatientPhone1_540   \n",
       "\n",
       "                                                insurance  \\\n",
       "AppointmentId                                               \n",
       "319                                      Insurance_others   \n",
       "1526                                     Insurance_others   \n",
       "4249           Insurance_UNITED CONCORDIA                   \n",
       "42                                       Insurance_others   \n",
       "1942                                     Insurance_others   \n",
       "\n",
       "                                       provider                     source  \\\n",
       "AppointmentId                                                                \n",
       "319                      Provider_Rachel Nguyen  Source_no_reported_source   \n",
       "1526           Provider_Mohammed Almzayyen, DDS  Source_no_reported_source   \n",
       "4249           Provider_Mohammed Almzayyen, DDS              Source_others   \n",
       "42             Provider_Mohammed Almzayyen, DDS  Source_no_reported_source   \n",
       "1942                 Provider_Stephanie Douglas  Source_no_reported_source   \n",
       "\n",
       "                                           procedure  weekday     apptType  \\\n",
       "AppointmentId                                                                \n",
       "319            Procedures_D0120, D1110, D1330, D0431  Tuesday      Hygiene   \n",
       "1526                               Procedures_others  Tuesday  Restorative   \n",
       "4249                               Procedures_others  Tuesday  Restorative   \n",
       "42                                 Procedures_others  Tuesday  Restorative   \n",
       "1942                               Procedures_others  Tuesday      Hygiene   \n",
       "\n",
       "               DAY(AppointmentDate)  MONTH(AppointmentDate)  \\\n",
       "AppointmentId                                                 \n",
       "319                               2                       1   \n",
       "1526                              2                       1   \n",
       "4249                              2                       1   \n",
       "42                                2                       1   \n",
       "1942                              2                       1   \n",
       "\n",
       "               YEAR(AppointmentDate)  patients.newpatientfile  \\\n",
       "AppointmentId                                                   \n",
       "319                             2018                   201606   \n",
       "1526                            2018                   201703   \n",
       "4249                            2018                   201611   \n",
       "42                              2018                   201606   \n",
       "1942                            2018                   201606   \n",
       "\n",
       "               patients.Age_npf  \n",
       "AppointmentId                    \n",
       "319                         NaN  \n",
       "1526                       54.0  \n",
       "4249                       35.0  \n",
       "42                          NaN  \n",
       "1942                        NaN  "
      ]
     },
     "execution_count": 38,
     "metadata": {},
     "output_type": "execute_result"
    }
   ],
   "source": [
    "X_ft.head()"
   ]
  },
  {
   "cell_type": "markdown",
   "metadata": {},
   "source": [
    "## 3) Building ML models"
   ]
  },
  {
   "cell_type": "code",
   "execution_count": 40,
   "metadata": {},
   "outputs": [],
   "source": [
    "from sklearn.metrics import confusion_matrix, roc_curve, roc_auc_score, auc\n",
    "from sklearn.linear_model import LogisticRegression\n",
    "from sklearn.model_selection import train_test_split,cross_val_score\n",
    "import pandas as pd\n",
    "import numpy as np\n",
    "#import multiprocessing as mp\n",
    "from xgboost import XGBClassifier, plot_importance"
   ]
  },
  {
   "cell_type": "code",
   "execution_count": 41,
   "metadata": {},
   "outputs": [],
   "source": [
    "##choose to drop cat cols\n",
    "cat_cols = ['insurance','provider', 'procedure', 'patientEmailDomain', 'guarantorEmailDomain', \n",
    "            'patientPhone1AreaCode','weekday', 'apptType','source']\n",
    "\n",
    "\n",
    "#import and load data\n",
    "full_dataset = pd.concat([X_ft],axis=1).drop(cat_cols,axis=1)\n",
    "\n",
    "\n",
    "\n",
    "X = full_dataset.drop(['noshow'],axis=1)\n",
    "y = full_dataset[['noshow']]\n"
   ]
  },
  {
   "cell_type": "code",
   "execution_count": 42,
   "metadata": {},
   "outputs": [],
   "source": [
    "#split 2018 data into training and test sets, setting a seed for replication purposes\n",
    "cutoff_month = 8\n",
    "X_train, X_test, y_train, y_test = (X[X['MONTH(AppointmentDate)']<=cutoff_month],\n",
    "                                    X[X['MONTH(AppointmentDate)']>cutoff_month],\n",
    "                                    y[X['MONTH(AppointmentDate)']<=cutoff_month],\n",
    "                                    y[X['MONTH(AppointmentDate)']>cutoff_month])\n",
    "\n",
    "\n",
    "# Explicitly impute values for missing fields for RF and Log\n",
    "X_train, X_test = X_train.fillna(X_train.mean()), X_test.fillna(X_test.mean())\n",
    "X_train, X_test = X_train.fillna(0), X_test.fillna(0)\n",
    "\n"
   ]
  },
  {
   "cell_type": "code",
   "execution_count": 43,
   "metadata": {},
   "outputs": [
    {
     "name": "stderr",
     "output_type": "stream",
     "text": [
      "/Library/Frameworks/Python.framework/Versions/3.7/lib/python3.7/site-packages/sklearn/utils/validation.py:724: DataConversionWarning: A column-vector y was passed when a 1d array was expected. Please change the shape of y to (n_samples, ), for example using ravel().\n",
      "  y = column_or_1d(y, warn=True)\n"
     ]
    }
   ],
   "source": [
    "#logistic regression model\n",
    "model_log = LogisticRegression(solver=\"liblinear\", C=0.5, random_state=1).fit(X_train,y_train) ## train on data\n",
    "y_pred_model_log = model_log.predict_proba(X_test) #predict on test set"
   ]
  },
  {
   "cell_type": "code",
   "execution_count": 44,
   "metadata": {},
   "outputs": [],
   "source": [
    "##XGBoost\n",
    "\n",
    "#XGB - automatically deals with missing values during training\n",
    "model_xgb = (XGBClassifier(n_estimators=1914, max_depth = 25, eta = 0.15076, subsample = 0.62141, \n",
    "                           n_thread = 3, random_state=1, \n",
    "                           tree_method = 'hist').fit(X_train,y_train.values.ravel()))\n",
    "y_pred_model_xgb = model_xgb.predict_proba(X_test)"
   ]
  },
  {
   "cell_type": "code",
   "execution_count": 45,
   "metadata": {},
   "outputs": [
    {
     "name": "stdout",
     "output_type": "stream",
     "text": [
      "The AUC score of the Log Reg model is: 0.51\n",
      "The AUC score of the XGB model is: 0.57\n"
     ]
    }
   ],
   "source": [
    "print(\"The AUC score of the Log Reg model is: \" + str(np.round(roc_auc_score(y_test,pd.DataFrame(y_pred_model_log)[1]),2)))\n",
    "print(\"The AUC score of the XGB model is: \" + str(np.round(roc_auc_score(y_test,pd.DataFrame(y_pred_model_xgb)[1]),2)))"
   ]
  },
  {
   "cell_type": "markdown",
   "metadata": {},
   "source": [
    "### 4) Visualizing Model \n"
   ]
  },
  {
   "cell_type": "code",
   "execution_count": 47,
   "metadata": {},
   "outputs": [
    {
     "data": {
      "image/png": "[encoded data removed]",
      "text/plain": [
       "<Figure size 432x288 with 1 Axes>"
      ]
     },
     "metadata": {
      "needs_background": "light"
     },
     "output_type": "display_data"
    }
   ],
   "source": [
    "import matplotlib.pyplot as plt\n",
    "from xgboost import XGBClassifier, plot_importance\n",
    "\n",
    "##calculate false positive and true positive rates\n",
    "fpr, tpr,_=roc_curve(y_test,pd.DataFrame(y_pred_model_log)[1],drop_intermediate=False)\n",
    "fpr_2, tpr_2,_=roc_curve(y_test,pd.DataFrame(y_pred_model_xgb)[1],drop_intermediate=False)\n",
    "\n",
    "\n",
    "\n",
    "# plot ROC and reference\n",
    "plt.plot([0, 1], [0, 1], color='blue', lw=2, linestyle='--')\n",
    "plt.plot(fpr, tpr, color='red', lw=2, label='LOG')\n",
    "plt.plot(fpr_2, tpr_2, color='green', lw=2, label='XGB')\n",
    "\n",
    "##Title and label\n",
    "\n",
    "plt.xlabel('FPR')\n",
    "plt.ylabel('TPR')\n",
    "plt.legend()\n",
    "plt.title('ROC curve')\n",
    "\n",
    "plt.savefig('/Users/aishagharsalli/Documents/dental_predictive_tools/02-20-2019 data pull/figures/MVP_ROCcurve.png')\n",
    "plt.show()"
   ]
  },
  {
   "cell_type": "code",
   "execution_count": 48,
   "metadata": {},
   "outputs": [
    {
     "data": {
      "image/png": "[encoded data removed]",
      "text/plain": [
       "<Figure size 432x288 with 1 Axes>"
      ]
     },
     "metadata": {
      "needs_background": "light"
     },
     "output_type": "display_data"
    }
   ],
   "source": [
    "fig, ax = plt.subplots()\n",
    "plot_importance(model_xgb, ax=ax)\n",
    "plt.title('MVP_Feature importance')\n",
    "\n",
    "plt.savefig('/Users/aishagharsalli/Documents/dental_predictive_tools/02-20-2019 data pull/figures/MVP_Feature_importance.png')\n",
    "plt.show()"
   ]
  },
  {
   "cell_type": "code",
   "execution_count": 50,
   "metadata": {},
   "outputs": [],
   "source": [
    "import pickle\n",
    "#pickle model, code from Lindsay\n",
    "# My model is called 'rf' (as you see above)- whatever you called your model, substitute that in for 'rf', below.\n",
    "# Don't change anything else unless you really want to.\n",
    "with open('insightMVP_model.pkl', 'wb') as fid:\n",
    "    pickle.dump(model_xgb, fid,2)  \n"
   ]
  },
  {
   "cell_type": "code",
   "execution_count": 51,
   "metadata": {},
   "outputs": [
    {
     "name": "stdout",
     "output_type": "stream",
     "text": [
      "The AUC score of the XGB model is: 0.57\n"
     ]
    }
   ],
   "source": [
    "\n",
    "# Load the model from disk\n",
    "loaded_model = pickle.load(open('insightMVP_model.pkl', 'rb'))\n",
    "\n",
    "\n",
    "\n",
    "y_pred_model_xgb = loaded_model.predict_proba(X_test)\n",
    "\n",
    "print(\"The AUC score of the XGB model is: \" + str(np.round(roc_auc_score(y_test,pd.DataFrame(y_pred_model_xgb)[1]),2)))"
   ]
  },
  {
   "cell_type": "code",
   "execution_count": null,
   "metadata": {},
   "outputs": [],
   "source": []
  }
 ],
 "metadata": {
  "kernelspec": {
   "display_name": "Python 3",
   "language": "python",
   "name": "python3"
  },
  "language_info": {
   "codemirror_mode": {
    "name": "ipython",
    "version": 3
   },
   "file_extension": ".py",
   "mimetype": "text/x-python",
   "name": "python",
   "nbconvert_exporter": "python",
   "pygments_lexer": "ipython3",
   "version": "3.7.4"
  },
  "name": ""
 },
 "nbformat": 4,
 "nbformat_minor": 1
}
