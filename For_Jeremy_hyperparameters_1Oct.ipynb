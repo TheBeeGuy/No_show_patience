{
 "cells": [
  {
   "cell_type": "code",
   "execution_count": null,
   "metadata": {},
   "outputs": [],
   "source": []
  },
  {
   "cell_type": "code",
   "execution_count": 956,
   "metadata": {},
   "outputs": [],
   "source": [
    "score = 'roc_auc' #originally also roc_auc"
   ]
  },
  {
   "cell_type": "markdown",
   "metadata": {},
   "source": [
    "#### max depth"
   ]
  },
  {
   "cell_type": "code",
   "execution_count": 23,
   "metadata": {},
   "outputs": [
    {
     "ename": "NameError",
     "evalue": "name 'score' is not defined",
     "output_type": "error",
     "traceback": [
      "\u001b[0;31m---------------------------------------------------------------------------\u001b[0m",
      "\u001b[0;31mNameError\u001b[0m                                 Traceback (most recent call last)",
      "\u001b[0;32m<ipython-input-23-c78e867649da>\u001b[0m in \u001b[0;36m<module>\u001b[0;34m\u001b[0m\n\u001b[1;32m      4\u001b[0m gsearch2 = GridSearchCV(estimator = XGBClassifier(n_estimators=200,max_depth = 5, eta = 0.15076, subsample = 0.62141,\n\u001b[1;32m      5\u001b[0m                                                   n_thread = 4, random_state=1, alpha = 0,tree_method = 'hist'),\n\u001b[0;32m----> 6\u001b[0;31m                         cv=5, param_grid = param_test2, scoring=score, iid=False)\n\u001b[0m\u001b[1;32m      7\u001b[0m \u001b[0;34m\u001b[0m\u001b[0m\n\u001b[1;32m      8\u001b[0m \u001b[0mgsearch2\u001b[0m\u001b[0;34m.\u001b[0m\u001b[0mfit\u001b[0m\u001b[0;34m(\u001b[0m\u001b[0mX_train\u001b[0m\u001b[0;34m,\u001b[0m\u001b[0my_train\u001b[0m\u001b[0;34m.\u001b[0m\u001b[0mvalues\u001b[0m\u001b[0;34m.\u001b[0m\u001b[0mravel\u001b[0m\u001b[0;34m(\u001b[0m\u001b[0;34m)\u001b[0m\u001b[0;34m)\u001b[0m\u001b[0;34m\u001b[0m\u001b[0;34m\u001b[0m\u001b[0m\n",
      "\u001b[0;31mNameError\u001b[0m: name 'score' is not defined"
     ]
    }
   ],
   "source": [
    "#max depth\n",
    "param_test2 = {'max_depth':range(5,45,10)}\n",
    "\n",
    "gsearch2 = GridSearchCV(estimator = XGBClassifier(n_estimators=200,max_depth = 5, eta = 0.15076, subsample = 0.62141,\n",
    "                                                  n_thread = 4, random_state=1, alpha = 0,tree_method = 'hist'),\n",
    "                        cv=5, param_grid = param_test2, scoring=score, iid=False)\n",
    "\n",
    "gsearch2.fit(X_train,y_train.values.ravel())\n",
    "gsearch2.best_params_, gsearch2.best_score_\n",
    "\n"
   ]
  },
  {
   "cell_type": "code",
   "execution_count": null,
   "metadata": {},
   "outputs": [],
   "source": [
    "#max depth fine tune\n",
    "param_test3 = {'max_depth':[1,2,3,4,5]}\n",
    "\n",
    "gsearch3 = GridSearchCV(estimator = XGBClassifier(n_estimators=200,max_depth = 5, eta = 0.15076, subsample = 0.62141,\n",
    "                                                  n_thread = 4, random_state=1, alpha = 0,tree_method = 'hist'),\n",
    "                        cv=5, param_grid = param_test3, scoring=score, iid=False)\n",
    "\n",
    "gsearch3.fit(X_train,y_train.values.ravel())\n",
    "gsearch3.best_params_, gsearch3.best_score_\n",
    "\n"
   ]
  },
  {
   "cell_type": "markdown",
   "metadata": {},
   "source": [
    "#### max estimators"
   ]
  },
  {
   "cell_type": "code",
   "execution_count": null,
   "metadata": {},
   "outputs": [],
   "source": [
    "#n_estimators\n",
    "param_test4 = {'n_estimators':range(200,1400,200)}\n",
    "\n",
    "gsearch4 = GridSearchCV(estimator = XGBClassifier(n_estimators=200,max_depth = 15, eta = 0.15, subsample = 0.05,\n",
    "                                                  n_thread = 4, random_state=1, alpha = 0,tree_method = 'hist'),\n",
    "                        cv=5, param_grid = param_test4, scoring=score, iid=False)\n",
    "\n",
    "gsearch4.fit(X_train,y_train.values.ravel())\n",
    "gsearch4.best_params_, gsearch4.best_score_\n"
   ]
  },
  {
   "cell_type": "code",
   "execution_count": null,
   "metadata": {},
   "outputs": [],
   "source": [
    "#n_estimators\n",
    "# param_test4 = {'n_estimators':[6,12,25, 50, 100,200]}\n",
    "\n",
    "# gsearch4 = GridSearchCV(estimator = XGBClassifier(n_estimators=200,max_depth = 2, eta = 0.15076, subsample = 0.62141,\n",
    "#                                                   n_thread = 4, random_state=1, alpha = 0,tree_method = 'hist'),\n",
    "#                         cv=5, param_grid = param_test4, scoring=score, iid=False)\n",
    "\n",
    "# gsearch4.fit(X_train,y_train.values.ravel())\n",
    "# gsearch4.best_params_, gsearch4.best_score_"
   ]
  },
  {
   "cell_type": "markdown",
   "metadata": {},
   "source": [
    "#### eta"
   ]
  },
  {
   "cell_type": "code",
   "execution_count": null,
   "metadata": {},
   "outputs": [],
   "source": [
    "#eta\n",
    "param_test5 = {'eta':[i/20.0 for i in range(1,8)]}\n",
    "\n",
    "gsearch5 = GridSearchCV(estimator = XGBClassifier(n_estimators=200,max_depth = 2, eta = 0.15076, subsample = 0.62141,\n",
    "                                                  n_thread = 4, random_state=1, alpha = 0,tree_method = 'hist'),\n",
    "                        cv=5, param_grid = param_test5, scoring=score, iid=False)\n",
    "\n",
    "gsearch5.fit(X_train,y_train.values.ravel())\n",
    "gsearch5.best_params_, gsearch5.best_score_\n"
   ]
  },
  {
   "cell_type": "markdown",
   "metadata": {},
   "source": [
    "#### subsample"
   ]
  },
  {
   "cell_type": "code",
   "execution_count": null,
   "metadata": {},
   "outputs": [],
   "source": [
    "#subsample\n",
    "param_test6 = {'subsample':[i/10.0 for i in range(1,9,2)]}\n",
    "\n",
    "gsearch6 = GridSearchCV(estimator = XGBClassifier(n_estimators=200,max_depth = 2, eta = 0.05, subsample = 0.62141,\n",
    "                                                  n_thread = 4, random_state=1, alpha = 0,tree_method = 'hist'),\n",
    "                        cv=5, param_grid = param_test6, scoring=score, iid=False)\n",
    "\n",
    "gsearch6.fit(X_train,y_train.values.ravel())\n",
    "gsearch6.best_params_, gsearch6.best_score_\n"
   ]
  },
  {
   "cell_type": "markdown",
   "metadata": {},
   "source": [
    "#### alpha "
   ]
  },
  {
   "cell_type": "code",
   "execution_count": 24,
   "metadata": {},
   "outputs": [
    {
     "ename": "NameError",
     "evalue": "name 'score' is not defined",
     "output_type": "error",
     "traceback": [
      "\u001b[0;31m---------------------------------------------------------------------------\u001b[0m",
      "\u001b[0;31mNameError\u001b[0m                                 Traceback (most recent call last)",
      "\u001b[0;32m<ipython-input-24-ae3b27394bc2>\u001b[0m in \u001b[0;36m<module>\u001b[0;34m\u001b[0m\n\u001b[1;32m      4\u001b[0m gsearch1 = GridSearchCV(estimator = XGBClassifier(n_estimators=800,max_depth = 3, eta = 0.05, subsample = 0.5,\n\u001b[1;32m      5\u001b[0m                                                   n_thread = 4, random_state=1, alpha = 0.5,tree_method = 'hist'),\n\u001b[0;32m----> 6\u001b[0;31m                         cv=5, param_grid = param_test1, scoring=score, iid=False)\n\u001b[0m\u001b[1;32m      7\u001b[0m \u001b[0;34m\u001b[0m\u001b[0m\n\u001b[1;32m      8\u001b[0m \u001b[0mgsearch1\u001b[0m\u001b[0;34m.\u001b[0m\u001b[0mfit\u001b[0m\u001b[0;34m(\u001b[0m\u001b[0mX_train\u001b[0m\u001b[0;34m,\u001b[0m\u001b[0my_train\u001b[0m\u001b[0;34m.\u001b[0m\u001b[0mvalues\u001b[0m\u001b[0;34m.\u001b[0m\u001b[0mravel\u001b[0m\u001b[0;34m(\u001b[0m\u001b[0;34m)\u001b[0m\u001b[0;34m)\u001b[0m\u001b[0;34m\u001b[0m\u001b[0;34m\u001b[0m\u001b[0m\n",
      "\u001b[0;31mNameError\u001b[0m: name 'score' is not defined"
     ]
    }
   ],
   "source": [
    "#alpha rate\n",
    "param_test1 = {'alpha':[0, 1e-2, 0.1, 1, 10, 100, 1000]}\n",
    "\n",
    "gsearch1 = GridSearchCV(estimator = XGBClassifier(n_estimators=800,max_depth = 3, eta = 0.05, subsample = 0.5,\n",
    "                                                  n_thread = 4, random_state=1, alpha = 0.5,tree_method = 'hist'),\n",
    "                        cv=5, param_grid = param_test1, scoring=score, iid=False)\n",
    "\n",
    "gsearch1.fit(X_train,y_train.values.ravel())\n",
    "gsearch1.best_params_, gsearch1.best_score_\n",
    "##alpha of 0 is best"
   ]
  },
  {
   "cell_type": "markdown",
   "metadata": {},
   "source": [
    "#### gamma"
   ]
  },
  {
   "cell_type": "code",
   "execution_count": 438,
   "metadata": {},
   "outputs": [
    {
     "data": {
      "text/plain": [
       "({'gamma': 16.0}, 0.46834822660837644)"
      ]
     },
     "execution_count": 438,
     "metadata": {},
     "output_type": "execute_result"
    }
   ],
   "source": [
    "import numpy as np\n",
    "#gamma rate\n",
    "param_test7 = {'gamma':[0.0, 0.5, 1.0, 2.0, 4.0, 8.0, 16.0]}\n",
    "\n",
    "gsearch7 = GridSearchCV(estimator = XGBClassifier(n_estimators=200,max_depth = 2, eta = 0.05, subsample = 0.3,\n",
    "                                                  n_thread = 4, random_state=1, alpha = 0, gamma=0,tree_method = 'hist'),\n",
    "                        cv=5, param_grid = param_test7, scoring=score, iid=False)\n",
    "\n",
    "gsearch7.fit(X_train,y_train.values.ravel())\n",
    "gsearch7.best_params_, gsearch7.best_score_\n"
   ]
  },
  {
   "cell_type": "code",
   "execution_count": null,
   "metadata": {},
   "outputs": [],
   "source": []
  },
  {
   "cell_type": "code",
   "execution_count": 439,
   "metadata": {},
   "outputs": [
    {
     "data": {
      "text/plain": [
       "({'gamma': 16.0}, 0.46834822660837644)"
      ]
     },
     "execution_count": 439,
     "metadata": {},
     "output_type": "execute_result"
    }
   ],
   "source": [
    "#gamma rate\n",
    "param_test7 = {'gamma':[16.0, 32.0]}\n",
    "gsearch7 = GridSearchCV(estimator = XGBClassifier(n_estimators=1400, max_depth = 3, eta = 0.05, subsample = 0.7, \n",
    "                           n_thread = 4, random_state=1, alpha = 0,gamma =25,\n",
    "                           tree_method = 'hist'),\n",
    "                        cv=5, param_grid = param_test7, scoring=score, iid=False)\n",
    "\n",
    "gsearch7.fit(X_train,y_train.values.ravel())\n",
    "gsearch7.best_params_, gsearch7.best_score_"
   ]
  },
  {
   "cell_type": "markdown",
   "metadata": {},
   "source": [
    "#### all together"
   ]
  },
  {
   "cell_type": "code",
   "execution_count": null,
   "metadata": {},
   "outputs": [],
   "source": [
    "param_test8 = {'gamma':[np.arange(0, 10, 0.5)],\n",
    "               'max_depth':[range(5,30,5)],\n",
    "               'n_estimators':[range(200,2000,200)],\n",
    "               'eta':[i/20.0 for i in range(1,6)],\n",
    "               'subsample':[i/10.0 for i in range(1,9,2)],\n",
    "              }\n",
    "eval_set = [X_test, y_test.values.ravel()]\n",
    "gsearch8 = GridSearchCV(estimator = XGBClassifier(n_estimators=1400,max_depth = , eta = 0.05, subsample = 0.3,\n",
    "                                                  n_thread = 4, random_state=1, alpha = 0, gamma=0,tree_method = 'hist',eval_metric='auc', eval_set=eval_set,early_stopping_rounds=10),\n",
    "                        cv=5, param_grid = param_test8, scoring='roc_auc', iid=False)\n",
    "\n",
    "\n",
    "gsearch8.fit(X_train,y_train.values.ravel())\n",
    "gsearch8.best_params_, gsearch8.best_score_\n",
    "#parameters for roc_auc without weather\n",
    "# ({'eta': 0.05,\n",
    "#   'gamma': 0.0,\n",
    "#   'max_depth': 1,\n",
    "#   'n_estimators': 25,\n",
    "#   'subsample': 0.5},\n",
    "#  0.582821084090225)\n"
   ]
  },
  {
   "cell_type": "code",
   "execution_count": 25,
   "metadata": {},
   "outputs": [
    {
     "name": "stdout",
     "output_type": "stream",
     "text": [
      "The AUC score of the XGB model is: 0.7\n"
     ]
    }
   ],
   "source": [
    "##XGBoost with updated stuff\n",
    "from xgboost import XGBClassifier, plot_importance\n",
    "\n",
    "eval_set = [(X_train, y_train.values.ravel()), (X_test, y_test.values.ravel())]\n",
    "\n",
    "#XGB - automatically deals with missing values during training\n",
    "model_xgb_PT = XGBClassifier(n_estimators=1400, max_depth = 5, eta = 0.05, subsample = 0.7, \n",
    "                           n_thread = 4, random_state=1, alpha = 0,gamma =10,objective= 'binary:logistic',\n",
    "                           tree_method = 'hist').fit(X_train, y_train.values.ravel(), \n",
    "                                                     eval_metric=[\"error\", \"logloss\",\"auc\"], eval_set=eval_set,early_stopping_rounds=10, verbose=False)\n",
    "y_pred_model_xgb_PT = model_xgb_PT.predict_proba(X_test)\n",
    "print(\"The AUC score of the XGB model is: \" + str(np.round(roc_auc_score(y_test,pd.DataFrame(y_pred_model_xgb_PT)[1]),2)))\n"
   ]
  }
 ],
 "metadata": {
  "kernelspec": {
   "display_name": "Python 3",
   "language": "python",
   "name": "python3"
  },
  "language_info": {
   "codemirror_mode": {
    "name": "ipython",
    "version": 3
   },
   "file_extension": ".py",
   "mimetype": "text/x-python",
   "name": "python",
   "nbconvert_exporter": "python",
   "pygments_lexer": "ipython3",
   "version": "3.7.4"
  }
 },
 "nbformat": 4,
 "nbformat_minor": 4
}
